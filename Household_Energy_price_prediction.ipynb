{
  "cells": [
    {
      "cell_type": "markdown",
      "metadata": {
        "id": "view-in-github",
        "colab_type": "text"
      },
      "source": [
        "<a href=\"https://colab.research.google.com/github/zaynabhassan/Random-Forest-Feature-Selection/blob/main/Household_Energy_price_prediction.ipynb\" target=\"_parent\"><img src=\"https://colab.research.google.com/assets/colab-badge.svg\" alt=\"Open In Colab\"/></a>"
      ]
    },
    {
      "cell_type": "code",
      "execution_count": null,
      "metadata": {
        "id": "F4UwYGQpVxQ-"
      },
      "outputs": [],
      "source": [
        "import numpy as np\n",
        "import pandas as pd\n",
        "import matplotlib.pyplot as plt\n",
        "import seaborn as sns"
      ]
    },
    {
      "cell_type": "markdown",
      "metadata": {
        "id": "Rvz6nV5Z4659"
      },
      "source": [
        "The first cell import python libraries.\n",
        "1. numpy is a python library that is used for working with arrays and matrices. It is also used for performing mathematical operation like addition, subtraction, mult, mean and so on\n",
        "2. pandas library is used for performing data analysis. it helps in loading, tabulating, merging, describing data and so much more. \n",
        "\n",
        "3. matplotlib and seaborn libray are used for data visualization in python. they are used for visualizing data as graphs and charts\n",
        "\n",
        "These four libraries are essential in any data analysis problem and that is why we imported them"
      ]
    },
    {
      "cell_type": "code",
      "execution_count": null,
      "metadata": {
        "id": "JkmiZhR8WUcJ"
      },
      "outputs": [],
      "source": [
        "data= pd.read_excel('exploratory_data.xlsx')"
      ]
    },
    {
      "cell_type": "markdown",
      "metadata": {
        "id": "lHMbtHuQ5D0z"
      },
      "source": [
        "The above cell load the excel file 'exploratory_data' to this workspace. this is done with pandas library"
      ]
    },
    {
      "cell_type": "code",
      "execution_count": null,
      "metadata": {
        "colab": {
          "base_uri": "https://localhost:8080/",
          "height": 300
        },
        "id": "735bshyqWUP1",
        "outputId": "e4accc2e-65ca-4e01-cf15-df26346190e6"
      },
      "outputs": [
        {
          "output_type": "execute_result",
          "data": {
            "text/plain": [
              "   state loc_gov com_type  com_size  Hhold_cat income_lev  gender  \\\n",
              "0  Niger   LAPAI  village      1000  childless        low       1   \n",
              "1  Niger   LAPAI  village      1000    nuclear        low       1   \n",
              "2  Niger   LAPAI  village      1000    nuclear        low       1   \n",
              "3  Niger   LAPAI  village      1000   extended        low       1   \n",
              "4  Niger   LAPAI  village      1000   extended        low       1   \n",
              "\n",
              "        occupation occup_income        educ  ... desired_price govDo_more  \\\n",
              "0  Business_Person    1001_1500  university  ...          6000          1   \n",
              "1           Farmer    1501_2000   secondary  ...          5000          1   \n",
              "2  Business_Person    1501_2000   secondary  ...          5000          1   \n",
              "3           Farmer    1501_2000    informal  ...          4000          1   \n",
              "4           Farmer    1001_1500    informal  ...          4000          1   \n",
              "\n",
              "   fuel_cook fuel_boilWater cost_fuel                               fuel_unav  \\\n",
              "0   firewood       firewood       750  sometimes__4_12_times_in_twelve_months   \n",
              "1   firewood       firewood       700  sometimes__4_12_times_in_twelve_months   \n",
              "2   firewood       firewood      1000  sometimes__4_12_times_in_twelve_months   \n",
              "3   firewood       firewood       500  sometimes__4_12_times_in_twelve_months   \n",
              "4   firewood       firewood       400  sometimes__4_12_times_in_twelve_months   \n",
              "\n",
              "      cook_rainy     cook_harma            cook_rest    num_meals  \n",
              "0  mostly_inside  mostly_inside  occasionally_inside  three_meals  \n",
              "1  mostly_inside  mostly_inside  occasionally_inside  three_meals  \n",
              "2  mostly_inside  mostly_inside  occasionally_inside  three_meals  \n",
              "3  mostly_inside  mostly_inside  occasionally_inside  three_meals  \n",
              "4  mostly_inside  mostly_inside  occasionally_inside  three_meals  \n",
              "\n",
              "[5 rows x 29 columns]"
            ],
            "text/html": [
              "\n",
              "  <div id=\"df-17dee5e1-0e1e-4ea6-8157-0811c19aa679\">\n",
              "    <div class=\"colab-df-container\">\n",
              "      <div>\n",
              "<style scoped>\n",
              "    .dataframe tbody tr th:only-of-type {\n",
              "        vertical-align: middle;\n",
              "    }\n",
              "\n",
              "    .dataframe tbody tr th {\n",
              "        vertical-align: top;\n",
              "    }\n",
              "\n",
              "    .dataframe thead th {\n",
              "        text-align: right;\n",
              "    }\n",
              "</style>\n",
              "<table border=\"1\" class=\"dataframe\">\n",
              "  <thead>\n",
              "    <tr style=\"text-align: right;\">\n",
              "      <th></th>\n",
              "      <th>state</th>\n",
              "      <th>loc_gov</th>\n",
              "      <th>com_type</th>\n",
              "      <th>com_size</th>\n",
              "      <th>Hhold_cat</th>\n",
              "      <th>income_lev</th>\n",
              "      <th>gender</th>\n",
              "      <th>occupation</th>\n",
              "      <th>occup_income</th>\n",
              "      <th>educ</th>\n",
              "      <th>...</th>\n",
              "      <th>desired_price</th>\n",
              "      <th>govDo_more</th>\n",
              "      <th>fuel_cook</th>\n",
              "      <th>fuel_boilWater</th>\n",
              "      <th>cost_fuel</th>\n",
              "      <th>fuel_unav</th>\n",
              "      <th>cook_rainy</th>\n",
              "      <th>cook_harma</th>\n",
              "      <th>cook_rest</th>\n",
              "      <th>num_meals</th>\n",
              "    </tr>\n",
              "  </thead>\n",
              "  <tbody>\n",
              "    <tr>\n",
              "      <th>0</th>\n",
              "      <td>Niger</td>\n",
              "      <td>LAPAI</td>\n",
              "      <td>village</td>\n",
              "      <td>1000</td>\n",
              "      <td>childless</td>\n",
              "      <td>low</td>\n",
              "      <td>1</td>\n",
              "      <td>Business_Person</td>\n",
              "      <td>1001_1500</td>\n",
              "      <td>university</td>\n",
              "      <td>...</td>\n",
              "      <td>6000</td>\n",
              "      <td>1</td>\n",
              "      <td>firewood</td>\n",
              "      <td>firewood</td>\n",
              "      <td>750</td>\n",
              "      <td>sometimes__4_12_times_in_twelve_months</td>\n",
              "      <td>mostly_inside</td>\n",
              "      <td>mostly_inside</td>\n",
              "      <td>occasionally_inside</td>\n",
              "      <td>three_meals</td>\n",
              "    </tr>\n",
              "    <tr>\n",
              "      <th>1</th>\n",
              "      <td>Niger</td>\n",
              "      <td>LAPAI</td>\n",
              "      <td>village</td>\n",
              "      <td>1000</td>\n",
              "      <td>nuclear</td>\n",
              "      <td>low</td>\n",
              "      <td>1</td>\n",
              "      <td>Farmer</td>\n",
              "      <td>1501_2000</td>\n",
              "      <td>secondary</td>\n",
              "      <td>...</td>\n",
              "      <td>5000</td>\n",
              "      <td>1</td>\n",
              "      <td>firewood</td>\n",
              "      <td>firewood</td>\n",
              "      <td>700</td>\n",
              "      <td>sometimes__4_12_times_in_twelve_months</td>\n",
              "      <td>mostly_inside</td>\n",
              "      <td>mostly_inside</td>\n",
              "      <td>occasionally_inside</td>\n",
              "      <td>three_meals</td>\n",
              "    </tr>\n",
              "    <tr>\n",
              "      <th>2</th>\n",
              "      <td>Niger</td>\n",
              "      <td>LAPAI</td>\n",
              "      <td>village</td>\n",
              "      <td>1000</td>\n",
              "      <td>nuclear</td>\n",
              "      <td>low</td>\n",
              "      <td>1</td>\n",
              "      <td>Business_Person</td>\n",
              "      <td>1501_2000</td>\n",
              "      <td>secondary</td>\n",
              "      <td>...</td>\n",
              "      <td>5000</td>\n",
              "      <td>1</td>\n",
              "      <td>firewood</td>\n",
              "      <td>firewood</td>\n",
              "      <td>1000</td>\n",
              "      <td>sometimes__4_12_times_in_twelve_months</td>\n",
              "      <td>mostly_inside</td>\n",
              "      <td>mostly_inside</td>\n",
              "      <td>occasionally_inside</td>\n",
              "      <td>three_meals</td>\n",
              "    </tr>\n",
              "    <tr>\n",
              "      <th>3</th>\n",
              "      <td>Niger</td>\n",
              "      <td>LAPAI</td>\n",
              "      <td>village</td>\n",
              "      <td>1000</td>\n",
              "      <td>extended</td>\n",
              "      <td>low</td>\n",
              "      <td>1</td>\n",
              "      <td>Farmer</td>\n",
              "      <td>1501_2000</td>\n",
              "      <td>informal</td>\n",
              "      <td>...</td>\n",
              "      <td>4000</td>\n",
              "      <td>1</td>\n",
              "      <td>firewood</td>\n",
              "      <td>firewood</td>\n",
              "      <td>500</td>\n",
              "      <td>sometimes__4_12_times_in_twelve_months</td>\n",
              "      <td>mostly_inside</td>\n",
              "      <td>mostly_inside</td>\n",
              "      <td>occasionally_inside</td>\n",
              "      <td>three_meals</td>\n",
              "    </tr>\n",
              "    <tr>\n",
              "      <th>4</th>\n",
              "      <td>Niger</td>\n",
              "      <td>LAPAI</td>\n",
              "      <td>village</td>\n",
              "      <td>1000</td>\n",
              "      <td>extended</td>\n",
              "      <td>low</td>\n",
              "      <td>1</td>\n",
              "      <td>Farmer</td>\n",
              "      <td>1001_1500</td>\n",
              "      <td>informal</td>\n",
              "      <td>...</td>\n",
              "      <td>4000</td>\n",
              "      <td>1</td>\n",
              "      <td>firewood</td>\n",
              "      <td>firewood</td>\n",
              "      <td>400</td>\n",
              "      <td>sometimes__4_12_times_in_twelve_months</td>\n",
              "      <td>mostly_inside</td>\n",
              "      <td>mostly_inside</td>\n",
              "      <td>occasionally_inside</td>\n",
              "      <td>three_meals</td>\n",
              "    </tr>\n",
              "  </tbody>\n",
              "</table>\n",
              "<p>5 rows × 29 columns</p>\n",
              "</div>\n",
              "      <button class=\"colab-df-convert\" onclick=\"convertToInteractive('df-17dee5e1-0e1e-4ea6-8157-0811c19aa679')\"\n",
              "              title=\"Convert this dataframe to an interactive table.\"\n",
              "              style=\"display:none;\">\n",
              "        \n",
              "  <svg xmlns=\"http://www.w3.org/2000/svg\" height=\"24px\"viewBox=\"0 0 24 24\"\n",
              "       width=\"24px\">\n",
              "    <path d=\"M0 0h24v24H0V0z\" fill=\"none\"/>\n",
              "    <path d=\"M18.56 5.44l.94 2.06.94-2.06 2.06-.94-2.06-.94-.94-2.06-.94 2.06-2.06.94zm-11 1L8.5 8.5l.94-2.06 2.06-.94-2.06-.94L8.5 2.5l-.94 2.06-2.06.94zm10 10l.94 2.06.94-2.06 2.06-.94-2.06-.94-.94-2.06-.94 2.06-2.06.94z\"/><path d=\"M17.41 7.96l-1.37-1.37c-.4-.4-.92-.59-1.43-.59-.52 0-1.04.2-1.43.59L10.3 9.45l-7.72 7.72c-.78.78-.78 2.05 0 2.83L4 21.41c.39.39.9.59 1.41.59.51 0 1.02-.2 1.41-.59l7.78-7.78 2.81-2.81c.8-.78.8-2.07 0-2.86zM5.41 20L4 18.59l7.72-7.72 1.47 1.35L5.41 20z\"/>\n",
              "  </svg>\n",
              "      </button>\n",
              "      \n",
              "  <style>\n",
              "    .colab-df-container {\n",
              "      display:flex;\n",
              "      flex-wrap:wrap;\n",
              "      gap: 12px;\n",
              "    }\n",
              "\n",
              "    .colab-df-convert {\n",
              "      background-color: #E8F0FE;\n",
              "      border: none;\n",
              "      border-radius: 50%;\n",
              "      cursor: pointer;\n",
              "      display: none;\n",
              "      fill: #1967D2;\n",
              "      height: 32px;\n",
              "      padding: 0 0 0 0;\n",
              "      width: 32px;\n",
              "    }\n",
              "\n",
              "    .colab-df-convert:hover {\n",
              "      background-color: #E2EBFA;\n",
              "      box-shadow: 0px 1px 2px rgba(60, 64, 67, 0.3), 0px 1px 3px 1px rgba(60, 64, 67, 0.15);\n",
              "      fill: #174EA6;\n",
              "    }\n",
              "\n",
              "    [theme=dark] .colab-df-convert {\n",
              "      background-color: #3B4455;\n",
              "      fill: #D2E3FC;\n",
              "    }\n",
              "\n",
              "    [theme=dark] .colab-df-convert:hover {\n",
              "      background-color: #434B5C;\n",
              "      box-shadow: 0px 1px 3px 1px rgba(0, 0, 0, 0.15);\n",
              "      filter: drop-shadow(0px 1px 2px rgba(0, 0, 0, 0.3));\n",
              "      fill: #FFFFFF;\n",
              "    }\n",
              "  </style>\n",
              "\n",
              "      <script>\n",
              "        const buttonEl =\n",
              "          document.querySelector('#df-17dee5e1-0e1e-4ea6-8157-0811c19aa679 button.colab-df-convert');\n",
              "        buttonEl.style.display =\n",
              "          google.colab.kernel.accessAllowed ? 'block' : 'none';\n",
              "\n",
              "        async function convertToInteractive(key) {\n",
              "          const element = document.querySelector('#df-17dee5e1-0e1e-4ea6-8157-0811c19aa679');\n",
              "          const dataTable =\n",
              "            await google.colab.kernel.invokeFunction('convertToInteractive',\n",
              "                                                     [key], {});\n",
              "          if (!dataTable) return;\n",
              "\n",
              "          const docLinkHtml = 'Like what you see? Visit the ' +\n",
              "            '<a target=\"_blank\" href=https://colab.research.google.com/notebooks/data_table.ipynb>data table notebook</a>'\n",
              "            + ' to learn more about interactive tables.';\n",
              "          element.innerHTML = '';\n",
              "          dataTable['output_type'] = 'display_data';\n",
              "          await google.colab.output.renderOutput(dataTable, element);\n",
              "          const docLink = document.createElement('div');\n",
              "          docLink.innerHTML = docLinkHtml;\n",
              "          element.appendChild(docLink);\n",
              "        }\n",
              "      </script>\n",
              "    </div>\n",
              "  </div>\n",
              "  "
            ]
          },
          "metadata": {},
          "execution_count": 3
        }
      ],
      "source": [
        "data.head()"
      ]
    },
    {
      "cell_type": "markdown",
      "metadata": {
        "id": "_hlYKbJo5US8"
      },
      "source": [
        "The code above shows how the loaded data is tabulated. It is important that we see the nature of our data. \n",
        "The code display the first 5 rows of our data"
      ]
    },
    {
      "cell_type": "code",
      "execution_count": null,
      "metadata": {
        "colab": {
          "base_uri": "https://localhost:8080/"
        },
        "id": "SswIowQMWT91",
        "outputId": "0c970d00-cfe5-4657-8b8c-24357ecc798c"
      },
      "outputs": [
        {
          "data": {
            "text/plain": [
              "(433, 29)"
            ]
          },
          "execution_count": 4,
          "metadata": {},
          "output_type": "execute_result"
        }
      ],
      "source": [
        "data.shape"
      ]
    },
    {
      "cell_type": "markdown",
      "metadata": {
        "id": "6BokUlxh5bSx"
      },
      "source": [
        "It is also important that we know the shape of our data, the shape of data means the number of rows and columns present in the data. \n",
        "For this data, it shows that we have 433 rows of data and 29 columns\n"
      ]
    },
    {
      "cell_type": "code",
      "execution_count": null,
      "metadata": {
        "colab": {
          "base_uri": "https://localhost:8080/"
        },
        "id": "y3O8DFGHWTxB",
        "outputId": "90fd2749-a422-4451-b931-94abb2944fc1"
      },
      "outputs": [
        {
          "name": "stdout",
          "output_type": "stream",
          "text": [
            "<class 'pandas.core.frame.DataFrame'>\n",
            "RangeIndex: 433 entries, 0 to 432\n",
            "Data columns (total 29 columns):\n",
            " #   Column            Non-Null Count  Dtype \n",
            "---  ------            --------------  ----- \n",
            " 0   state             433 non-null    object\n",
            " 1   loc_gov           433 non-null    object\n",
            " 2   com_type          433 non-null    object\n",
            " 3   com_size          433 non-null    int64 \n",
            " 4   Hhold_cat         433 non-null    object\n",
            " 5   income_lev        433 non-null    object\n",
            " 6   gender            433 non-null    int64 \n",
            " 7   occupation        433 non-null    object\n",
            " 8   occup_income      433 non-null    object\n",
            " 9   educ              433 non-null    object\n",
            " 10  pres_stove        433 non-null    object\n",
            " 11  pres_stove_label  433 non-null    object\n",
            " 12  stove_timeUse     433 non-null    int64 \n",
            " 13  stove_cookFood    433 non-null    object\n",
            " 14  stove_boilWater   433 non-null    object\n",
            " 15  num_cookStove     433 non-null    int64 \n",
            " 16  know_clean        433 non-null    int64 \n",
            " 17  know_cleanAdv     433 non-null    int64 \n",
            " 18  buy_reasCost      433 non-null    int64 \n",
            " 19  desired_price     433 non-null    int64 \n",
            " 20  govDo_more        433 non-null    int64 \n",
            " 21  fuel_cook         433 non-null    object\n",
            " 22  fuel_boilWater    433 non-null    object\n",
            " 23  cost_fuel         433 non-null    int64 \n",
            " 24  fuel_unav         433 non-null    object\n",
            " 25  cook_rainy        433 non-null    object\n",
            " 26  cook_harma        433 non-null    object\n",
            " 27  cook_rest         433 non-null    object\n",
            " 28  num_meals         433 non-null    object\n",
            "dtypes: int64(10), object(19)\n",
            "memory usage: 98.2+ KB\n"
          ]
        }
      ],
      "source": [
        "data.info()"
      ]
    },
    {
      "cell_type": "markdown",
      "metadata": {
        "id": "iGeFuTes5myZ"
      },
      "source": [
        "Information about our data is also important so we used the above line of code to see some information about our data.\n",
        "\n",
        "From the output, we have all the columns present in the data, we have 10 cols to be numerical data and 19 cols as categorical data. \n",
        "\n",
        "Also, we have all the columns as 433 non_null, this means that none of the column have missing value i.e no missed value, all data are complete"
      ]
    },
    {
      "cell_type": "code",
      "execution_count": null,
      "metadata": {
        "colab": {
          "base_uri": "https://localhost:8080/",
          "height": 296
        },
        "id": "F1Q7n4gnWTm7",
        "outputId": "acca32a7-b7c7-47e8-cf5a-6a513f370596"
      },
      "outputs": [
        {
          "data": {
            "text/plain": [
              "<matplotlib.axes._subplots.AxesSubplot at 0x7f490e7ca690>"
            ]
          },
          "execution_count": 6,
          "metadata": {},
          "output_type": "execute_result"
        },
        {
          "data": {
            "image/png": "[encoded data removed]",
            "text/plain": [
              "<Figure size 432x288 with 1 Axes>"
            ]
          },
          "metadata": {},
          "output_type": "display_data"
        }
      ],
      "source": [
        "sns.countplot(x= data['state'])"
      ]
    },
    {
      "cell_type": "markdown",
      "metadata": {
        "id": "VBpAAcMf5vzC"
      },
      "source": [
        "The cell above visualize the data distribution of 'state' column in the data. The above plot shows that kano has the highest data in the overall data followed by bauchi and niger."
      ]
    },
    {
      "cell_type": "code",
      "execution_count": null,
      "metadata": {
        "id": "I4VTIYtFnKvS"
      },
      "outputs": [],
      "source": [
        "kano_df= data[data['state'] == 'Kano']\n",
        "kano_df.head()\n"
      ]
    },
    {
      "cell_type": "code",
      "execution_count": null,
      "metadata": {
        "id": "Sur0KCqbeTrK"
      },
      "outputs": [],
      "source": [
        "kano_df['stove_timeUse'].unique"
      ]
    },
    {
      "cell_type": "markdown",
      "metadata": {
        "id": "Mh22Aqq353il"
      },
      "source": [
        "Since data is collected from different state, it is essential to see the nature of the data for exploration.\n",
        "\n",
        "The first line of code in the above cell seperate data collected in kano from others and the second line show us what it looks like"
      ]
    },
    {
      "cell_type": "code",
      "execution_count": null,
      "metadata": {
        "colab": {
          "base_uri": "https://localhost:8080/"
        },
        "id": "MrplZ0GNWTaz",
        "outputId": "e07988b6-7af3-4ac1-99cc-c7cdc5917bee"
      },
      "outputs": [
        {
          "data": {
            "text/plain": [
              "KIRU             66\n",
              "TSANYAWA         49\n",
              "GEZAWA           17\n",
              "Gezawa           13\n",
              "TSANYAWA LGA     11\n",
              "LAPAI LGA         1\n",
              "TSANYAWA  LGA     1\n",
              "BICHI             1\n",
              "Gezawa l.g.a      1\n",
              "KUMBOTSO          1\n",
              "Name: loc_gov, dtype: int64"
            ]
          },
          "execution_count": 9,
          "metadata": {},
          "output_type": "execute_result"
        }
      ],
      "source": [
        "kano_df['loc_gov'].value_counts()"
      ]
    },
    {
      "cell_type": "markdown",
      "metadata": {
        "id": "UKD4EiOu6AKj"
      },
      "source": [
        "The above line show us the number of data collected in each lga of kano state respectively.\n",
        "\n",
        "It is said that data was collected from 3 local goverment area which are kiru, tsanyawa and gezawa but it revealed here that we have so much more. \n",
        "\n",
        "This is an error from data entry that is why lga written in upper case is different from that written in lower case"
      ]
    },
    {
      "cell_type": "code",
      "execution_count": null,
      "metadata": {
        "id": "NPpP1aszWTOZ"
      },
      "outputs": [],
      "source": [
        "kano_df['loc_gov'] = kano_df['loc_gov'].replace(['Gezawa'],'GEZAWA')\n",
        "kano_df['loc_gov'] = kano_df['loc_gov'].replace(['Gezawa','TSANYAWA LGA','Gezawa l.g.a','TSANYAWA  LGA'],['GEZAWA','TSANYAWA','GEZAWA','TSANYAWA'])"
      ]
    },
    {
      "cell_type": "markdown",
      "metadata": {
        "id": "eqcu2Myn6Ix6"
      },
      "source": [
        "To solve the problem from above, we deploy a method to combine lga's that are suppose to be together in the same class"
      ]
    },
    {
      "cell_type": "code",
      "execution_count": null,
      "metadata": {
        "colab": {
          "base_uri": "https://localhost:8080/"
        },
        "id": "CoG1GmPfWTE3",
        "outputId": "28d999db-f665-45a1-d722-959cf0326bcb"
      },
      "outputs": [
        {
          "output_type": "execute_result",
          "data": {
            "text/plain": [
              "KIRU         66\n",
              "TSANYAWA     61\n",
              "GEZAWA       31\n",
              "LAPAI LGA     1\n",
              "BICHI         1\n",
              "KUMBOTSO      1\n",
              "Name: loc_gov, dtype: int64"
            ]
          },
          "metadata": {},
          "execution_count": 26
        }
      ],
      "source": [
        "kano_df['loc_gov'].value_counts()"
      ]
    },
    {
      "cell_type": "markdown",
      "metadata": {
        "id": "mDA1xr3F6OwX"
      },
      "source": [
        "We checked back and see that they are now classified except for the ones that does belong to kano state"
      ]
    },
    {
      "cell_type": "code",
      "execution_count": null,
      "metadata": {
        "colab": {
          "base_uri": "https://localhost:8080/",
          "height": 300
        },
        "id": "4_aoz98xWS5-",
        "outputId": "ad9ae2f6-b0f8-4e54-e03a-5436cd863501"
      },
      "outputs": [
        {
          "output_type": "execute_result",
          "data": {
            "text/plain": [
              "   state loc_gov com_type  com_size  Hhold_cat income_lev  gender  \\\n",
              "0  Niger   LAPAI  village      1000  childless        low       1   \n",
              "1  Niger   LAPAI  village      1000    nuclear        low       1   \n",
              "2  Niger   LAPAI  village      1000    nuclear        low       1   \n",
              "3  Niger   LAPAI  village      1000   extended        low       1   \n",
              "4  Niger   LAPAI  village      1000   extended        low       1   \n",
              "\n",
              "        occupation occup_income        educ  ... desired_price govDo_more  \\\n",
              "0  Business_Person    1001_1500  university  ...          6000          1   \n",
              "1           Farmer    1501_2000   secondary  ...          5000          1   \n",
              "2  Business_Person    1501_2000   secondary  ...          5000          1   \n",
              "3           Farmer    1501_2000    informal  ...          4000          1   \n",
              "4           Farmer    1001_1500    informal  ...          4000          1   \n",
              "\n",
              "   fuel_cook fuel_boilWater cost_fuel                               fuel_unav  \\\n",
              "0   firewood       firewood       750  sometimes__4_12_times_in_twelve_months   \n",
              "1   firewood       firewood       700  sometimes__4_12_times_in_twelve_months   \n",
              "2   firewood       firewood      1000  sometimes__4_12_times_in_twelve_months   \n",
              "3   firewood       firewood       500  sometimes__4_12_times_in_twelve_months   \n",
              "4   firewood       firewood       400  sometimes__4_12_times_in_twelve_months   \n",
              "\n",
              "      cook_rainy     cook_harma            cook_rest    num_meals  \n",
              "0  mostly_inside  mostly_inside  occasionally_inside  three_meals  \n",
              "1  mostly_inside  mostly_inside  occasionally_inside  three_meals  \n",
              "2  mostly_inside  mostly_inside  occasionally_inside  three_meals  \n",
              "3  mostly_inside  mostly_inside  occasionally_inside  three_meals  \n",
              "4  mostly_inside  mostly_inside  occasionally_inside  three_meals  \n",
              "\n",
              "[5 rows x 29 columns]"
            ],
            "text/html": [
              "\n",
              "  <div id=\"df-5c5eb096-8205-4fe5-81cf-6daa260586fd\">\n",
              "    <div class=\"colab-df-container\">\n",
              "      <div>\n",
              "<style scoped>\n",
              "    .dataframe tbody tr th:only-of-type {\n",
              "        vertical-align: middle;\n",
              "    }\n",
              "\n",
              "    .dataframe tbody tr th {\n",
              "        vertical-align: top;\n",
              "    }\n",
              "\n",
              "    .dataframe thead th {\n",
              "        text-align: right;\n",
              "    }\n",
              "</style>\n",
              "<table border=\"1\" class=\"dataframe\">\n",
              "  <thead>\n",
              "    <tr style=\"text-align: right;\">\n",
              "      <th></th>\n",
              "      <th>state</th>\n",
              "      <th>loc_gov</th>\n",
              "      <th>com_type</th>\n",
              "      <th>com_size</th>\n",
              "      <th>Hhold_cat</th>\n",
              "      <th>income_lev</th>\n",
              "      <th>gender</th>\n",
              "      <th>occupation</th>\n",
              "      <th>occup_income</th>\n",
              "      <th>educ</th>\n",
              "      <th>...</th>\n",
              "      <th>desired_price</th>\n",
              "      <th>govDo_more</th>\n",
              "      <th>fuel_cook</th>\n",
              "      <th>fuel_boilWater</th>\n",
              "      <th>cost_fuel</th>\n",
              "      <th>fuel_unav</th>\n",
              "      <th>cook_rainy</th>\n",
              "      <th>cook_harma</th>\n",
              "      <th>cook_rest</th>\n",
              "      <th>num_meals</th>\n",
              "    </tr>\n",
              "  </thead>\n",
              "  <tbody>\n",
              "    <tr>\n",
              "      <th>0</th>\n",
              "      <td>Niger</td>\n",
              "      <td>LAPAI</td>\n",
              "      <td>village</td>\n",
              "      <td>1000</td>\n",
              "      <td>childless</td>\n",
              "      <td>low</td>\n",
              "      <td>1</td>\n",
              "      <td>Business_Person</td>\n",
              "      <td>1001_1500</td>\n",
              "      <td>university</td>\n",
              "      <td>...</td>\n",
              "      <td>6000</td>\n",
              "      <td>1</td>\n",
              "      <td>firewood</td>\n",
              "      <td>firewood</td>\n",
              "      <td>750</td>\n",
              "      <td>sometimes__4_12_times_in_twelve_months</td>\n",
              "      <td>mostly_inside</td>\n",
              "      <td>mostly_inside</td>\n",
              "      <td>occasionally_inside</td>\n",
              "      <td>three_meals</td>\n",
              "    </tr>\n",
              "    <tr>\n",
              "      <th>1</th>\n",
              "      <td>Niger</td>\n",
              "      <td>LAPAI</td>\n",
              "      <td>village</td>\n",
              "      <td>1000</td>\n",
              "      <td>nuclear</td>\n",
              "      <td>low</td>\n",
              "      <td>1</td>\n",
              "      <td>Farmer</td>\n",
              "      <td>1501_2000</td>\n",
              "      <td>secondary</td>\n",
              "      <td>...</td>\n",
              "      <td>5000</td>\n",
              "      <td>1</td>\n",
              "      <td>firewood</td>\n",
              "      <td>firewood</td>\n",
              "      <td>700</td>\n",
              "      <td>sometimes__4_12_times_in_twelve_months</td>\n",
              "      <td>mostly_inside</td>\n",
              "      <td>mostly_inside</td>\n",
              "      <td>occasionally_inside</td>\n",
              "      <td>three_meals</td>\n",
              "    </tr>\n",
              "    <tr>\n",
              "      <th>2</th>\n",
              "      <td>Niger</td>\n",
              "      <td>LAPAI</td>\n",
              "      <td>village</td>\n",
              "      <td>1000</td>\n",
              "      <td>nuclear</td>\n",
              "      <td>low</td>\n",
              "      <td>1</td>\n",
              "      <td>Business_Person</td>\n",
              "      <td>1501_2000</td>\n",
              "      <td>secondary</td>\n",
              "      <td>...</td>\n",
              "      <td>5000</td>\n",
              "      <td>1</td>\n",
              "      <td>firewood</td>\n",
              "      <td>firewood</td>\n",
              "      <td>1000</td>\n",
              "      <td>sometimes__4_12_times_in_twelve_months</td>\n",
              "      <td>mostly_inside</td>\n",
              "      <td>mostly_inside</td>\n",
              "      <td>occasionally_inside</td>\n",
              "      <td>three_meals</td>\n",
              "    </tr>\n",
              "    <tr>\n",
              "      <th>3</th>\n",
              "      <td>Niger</td>\n",
              "      <td>LAPAI</td>\n",
              "      <td>village</td>\n",
              "      <td>1000</td>\n",
              "      <td>extended</td>\n",
              "      <td>low</td>\n",
              "      <td>1</td>\n",
              "      <td>Farmer</td>\n",
              "      <td>1501_2000</td>\n",
              "      <td>informal</td>\n",
              "      <td>...</td>\n",
              "      <td>4000</td>\n",
              "      <td>1</td>\n",
              "      <td>firewood</td>\n",
              "      <td>firewood</td>\n",
              "      <td>500</td>\n",
              "      <td>sometimes__4_12_times_in_twelve_months</td>\n",
              "      <td>mostly_inside</td>\n",
              "      <td>mostly_inside</td>\n",
              "      <td>occasionally_inside</td>\n",
              "      <td>three_meals</td>\n",
              "    </tr>\n",
              "    <tr>\n",
              "      <th>4</th>\n",
              "      <td>Niger</td>\n",
              "      <td>LAPAI</td>\n",
              "      <td>village</td>\n",
              "      <td>1000</td>\n",
              "      <td>extended</td>\n",
              "      <td>low</td>\n",
              "      <td>1</td>\n",
              "      <td>Farmer</td>\n",
              "      <td>1001_1500</td>\n",
              "      <td>informal</td>\n",
              "      <td>...</td>\n",
              "      <td>4000</td>\n",
              "      <td>1</td>\n",
              "      <td>firewood</td>\n",
              "      <td>firewood</td>\n",
              "      <td>400</td>\n",
              "      <td>sometimes__4_12_times_in_twelve_months</td>\n",
              "      <td>mostly_inside</td>\n",
              "      <td>mostly_inside</td>\n",
              "      <td>occasionally_inside</td>\n",
              "      <td>three_meals</td>\n",
              "    </tr>\n",
              "  </tbody>\n",
              "</table>\n",
              "<p>5 rows × 29 columns</p>\n",
              "</div>\n",
              "      <button class=\"colab-df-convert\" onclick=\"convertToInteractive('df-5c5eb096-8205-4fe5-81cf-6daa260586fd')\"\n",
              "              title=\"Convert this dataframe to an interactive table.\"\n",
              "              style=\"display:none;\">\n",
              "        \n",
              "  <svg xmlns=\"http://www.w3.org/2000/svg\" height=\"24px\"viewBox=\"0 0 24 24\"\n",
              "       width=\"24px\">\n",
              "    <path d=\"M0 0h24v24H0V0z\" fill=\"none\"/>\n",
              "    <path d=\"M18.56 5.44l.94 2.06.94-2.06 2.06-.94-2.06-.94-.94-2.06-.94 2.06-2.06.94zm-11 1L8.5 8.5l.94-2.06 2.06-.94-2.06-.94L8.5 2.5l-.94 2.06-2.06.94zm10 10l.94 2.06.94-2.06 2.06-.94-2.06-.94-.94-2.06-.94 2.06-2.06.94z\"/><path d=\"M17.41 7.96l-1.37-1.37c-.4-.4-.92-.59-1.43-.59-.52 0-1.04.2-1.43.59L10.3 9.45l-7.72 7.72c-.78.78-.78 2.05 0 2.83L4 21.41c.39.39.9.59 1.41.59.51 0 1.02-.2 1.41-.59l7.78-7.78 2.81-2.81c.8-.78.8-2.07 0-2.86zM5.41 20L4 18.59l7.72-7.72 1.47 1.35L5.41 20z\"/>\n",
              "  </svg>\n",
              "      </button>\n",
              "      \n",
              "  <style>\n",
              "    .colab-df-container {\n",
              "      display:flex;\n",
              "      flex-wrap:wrap;\n",
              "      gap: 12px;\n",
              "    }\n",
              "\n",
              "    .colab-df-convert {\n",
              "      background-color: #E8F0FE;\n",
              "      border: none;\n",
              "      border-radius: 50%;\n",
              "      cursor: pointer;\n",
              "      display: none;\n",
              "      fill: #1967D2;\n",
              "      height: 32px;\n",
              "      padding: 0 0 0 0;\n",
              "      width: 32px;\n",
              "    }\n",
              "\n",
              "    .colab-df-convert:hover {\n",
              "      background-color: #E2EBFA;\n",
              "      box-shadow: 0px 1px 2px rgba(60, 64, 67, 0.3), 0px 1px 3px 1px rgba(60, 64, 67, 0.15);\n",
              "      fill: #174EA6;\n",
              "    }\n",
              "\n",
              "    [theme=dark] .colab-df-convert {\n",
              "      background-color: #3B4455;\n",
              "      fill: #D2E3FC;\n",
              "    }\n",
              "\n",
              "    [theme=dark] .colab-df-convert:hover {\n",
              "      background-color: #434B5C;\n",
              "      box-shadow: 0px 1px 3px 1px rgba(0, 0, 0, 0.15);\n",
              "      filter: drop-shadow(0px 1px 2px rgba(0, 0, 0, 0.3));\n",
              "      fill: #FFFFFF;\n",
              "    }\n",
              "  </style>\n",
              "\n",
              "      <script>\n",
              "        const buttonEl =\n",
              "          document.querySelector('#df-5c5eb096-8205-4fe5-81cf-6daa260586fd button.colab-df-convert');\n",
              "        buttonEl.style.display =\n",
              "          google.colab.kernel.accessAllowed ? 'block' : 'none';\n",
              "\n",
              "        async function convertToInteractive(key) {\n",
              "          const element = document.querySelector('#df-5c5eb096-8205-4fe5-81cf-6daa260586fd');\n",
              "          const dataTable =\n",
              "            await google.colab.kernel.invokeFunction('convertToInteractive',\n",
              "                                                     [key], {});\n",
              "          if (!dataTable) return;\n",
              "\n",
              "          const docLinkHtml = 'Like what you see? Visit the ' +\n",
              "            '<a target=\"_blank\" href=https://colab.research.google.com/notebooks/data_table.ipynb>data table notebook</a>'\n",
              "            + ' to learn more about interactive tables.';\n",
              "          element.innerHTML = '';\n",
              "          dataTable['output_type'] = 'display_data';\n",
              "          await google.colab.output.renderOutput(dataTable, element);\n",
              "          const docLink = document.createElement('div');\n",
              "          docLink.innerHTML = docLinkHtml;\n",
              "          element.appendChild(docLink);\n",
              "        }\n",
              "      </script>\n",
              "    </div>\n",
              "  </div>\n",
              "  "
            ]
          },
          "metadata": {},
          "execution_count": 27
        }
      ],
      "source": [
        "niger_df= data[data['state'] == 'Niger']\n",
        "niger_df.head()"
      ]
    },
    {
      "cell_type": "markdown",
      "metadata": {
        "id": "KQcmWGlX6VVT"
      },
      "source": [
        "Now to data collected from niger state"
      ]
    },
    {
      "cell_type": "code",
      "execution_count": null,
      "metadata": {
        "colab": {
          "base_uri": "https://localhost:8080/"
        },
        "id": "s_s2bMfRWSua",
        "outputId": "dbdb9578-04b6-4c64-b46d-5d1df11087ee"
      },
      "outputs": [
        {
          "output_type": "execute_result",
          "data": {
            "text/plain": [
              "LAPAI        69\n",
              "GURARA       33\n",
              "WUSHISHI     30\n",
              "WUSHISHSI     1\n",
              "Name: loc_gov, dtype: int64"
            ]
          },
          "metadata": {},
          "execution_count": 9
        }
      ],
      "source": [
        "niger_df['loc_gov'].value_counts()"
      ]
    },
    {
      "cell_type": "markdown",
      "metadata": {
        "id": "o51C0XsJ6hdS"
      },
      "source": [
        "It also have the same problem as the kano data"
      ]
    },
    {
      "cell_type": "code",
      "execution_count": null,
      "metadata": {
        "id": "7WqlSAHIWSjs"
      },
      "outputs": [],
      "source": [
        "niger_df['loc_gov'] = niger_df['loc_gov'].replace(['WUSHISHSI'],'WUSHISHI')"
      ]
    },
    {
      "cell_type": "code",
      "execution_count": null,
      "metadata": {
        "colab": {
          "base_uri": "https://localhost:8080/"
        },
        "id": "yuMdaKeEWSYm",
        "outputId": "9d8c94f4-1743-4579-b999-f1f325d17b1d"
      },
      "outputs": [
        {
          "output_type": "execute_result",
          "data": {
            "text/plain": [
              "LAPAI       69\n",
              "GURARA      33\n",
              "WUSHISHI    31\n",
              "Name: loc_gov, dtype: int64"
            ]
          },
          "metadata": {},
          "execution_count": 29
        }
      ],
      "source": [
        "niger_df['loc_gov'].value_counts()"
      ]
    },
    {
      "cell_type": "markdown",
      "metadata": {
        "id": "PHcb84vB6oP-"
      },
      "source": [
        "We deploy the same method from earlier to classify the lga in their respective correct class"
      ]
    },
    {
      "cell_type": "code",
      "execution_count": null,
      "metadata": {
        "colab": {
          "base_uri": "https://localhost:8080/",
          "height": 300
        },
        "id": "W--cvA6yWSPz",
        "outputId": "f449bfcf-ef13-4fa1-a9e1-fae6c5ea59fe"
      },
      "outputs": [
        {
          "output_type": "execute_result",
          "data": {
            "text/plain": [
              "      state loc_gov com_type  com_size Hhold_cat income_lev  gender  \\\n",
              "112  Bauchi  GAMAWA    urban      5000   nuclear        low       1   \n",
              "113  Bauchi    DASS    rural       650   nuclear        low       1   \n",
              "114  Bauchi    DASS    rural       650  extended     medium       1   \n",
              "115  Bauchi    DASS    rural       650  extended     medium       1   \n",
              "116  Bauchi    DASS    rural       650   nuclear        low       1   \n",
              "\n",
              "          occupation occup_income           educ  ... desired_price  \\\n",
              "112  Business_Person    1001_1500      secondary  ...           350   \n",
              "113           Farmer         more        primary  ...         10000   \n",
              "114           Trader    1501_2000  trade_college  ...         10000   \n",
              "115  Business_Person         more      secondary  ...         10000   \n",
              "116           Trader    1501_2000       informal  ...          3500   \n",
              "\n",
              "    govDo_more  fuel_cook fuel_boilWater cost_fuel  \\\n",
              "112          1   firewood       firewood      1400   \n",
              "113          1   firewood       firewood      1800   \n",
              "114          1   firewood       firewood      2000   \n",
              "115          1   firewood       firewood      2000   \n",
              "116          1   firewood       firewood      1800   \n",
              "\n",
              "                                  fuel_unav     cook_rainy  \\\n",
              "112  sometimes__4_12_times_in_twelve_months  always_inside   \n",
              "113                 never__always_available  always_inside   \n",
              "114                 never__always_available  always_inside   \n",
              "115                 never__always_available  always_inside   \n",
              "116                 never__always_available  always_inside   \n",
              "\n",
              "              cook_harma            cook_rest    num_meals  \n",
              "112        always_inside  occasionally_inside  three_meals  \n",
              "113  occasionally_inside        always_inside    two_meals  \n",
              "114  occasionally_inside        always_inside    two_meals  \n",
              "115  occasionally_inside        always_inside    two_meals  \n",
              "116  occasionally_inside        always_inside    two_meals  \n",
              "\n",
              "[5 rows x 29 columns]"
            ],
            "text/html": [
              "\n",
              "  <div id=\"df-53a83e38-bba1-4b6b-b127-2d264d18bf2b\">\n",
              "    <div class=\"colab-df-container\">\n",
              "      <div>\n",
              "<style scoped>\n",
              "    .dataframe tbody tr th:only-of-type {\n",
              "        vertical-align: middle;\n",
              "    }\n",
              "\n",
              "    .dataframe tbody tr th {\n",
              "        vertical-align: top;\n",
              "    }\n",
              "\n",
              "    .dataframe thead th {\n",
              "        text-align: right;\n",
              "    }\n",
              "</style>\n",
              "<table border=\"1\" class=\"dataframe\">\n",
              "  <thead>\n",
              "    <tr style=\"text-align: right;\">\n",
              "      <th></th>\n",
              "      <th>state</th>\n",
              "      <th>loc_gov</th>\n",
              "      <th>com_type</th>\n",
              "      <th>com_size</th>\n",
              "      <th>Hhold_cat</th>\n",
              "      <th>income_lev</th>\n",
              "      <th>gender</th>\n",
              "      <th>occupation</th>\n",
              "      <th>occup_income</th>\n",
              "      <th>educ</th>\n",
              "      <th>...</th>\n",
              "      <th>desired_price</th>\n",
              "      <th>govDo_more</th>\n",
              "      <th>fuel_cook</th>\n",
              "      <th>fuel_boilWater</th>\n",
              "      <th>cost_fuel</th>\n",
              "      <th>fuel_unav</th>\n",
              "      <th>cook_rainy</th>\n",
              "      <th>cook_harma</th>\n",
              "      <th>cook_rest</th>\n",
              "      <th>num_meals</th>\n",
              "    </tr>\n",
              "  </thead>\n",
              "  <tbody>\n",
              "    <tr>\n",
              "      <th>112</th>\n",
              "      <td>Bauchi</td>\n",
              "      <td>GAMAWA</td>\n",
              "      <td>urban</td>\n",
              "      <td>5000</td>\n",
              "      <td>nuclear</td>\n",
              "      <td>low</td>\n",
              "      <td>1</td>\n",
              "      <td>Business_Person</td>\n",
              "      <td>1001_1500</td>\n",
              "      <td>secondary</td>\n",
              "      <td>...</td>\n",
              "      <td>350</td>\n",
              "      <td>1</td>\n",
              "      <td>firewood</td>\n",
              "      <td>firewood</td>\n",
              "      <td>1400</td>\n",
              "      <td>sometimes__4_12_times_in_twelve_months</td>\n",
              "      <td>always_inside</td>\n",
              "      <td>always_inside</td>\n",
              "      <td>occasionally_inside</td>\n",
              "      <td>three_meals</td>\n",
              "    </tr>\n",
              "    <tr>\n",
              "      <th>113</th>\n",
              "      <td>Bauchi</td>\n",
              "      <td>DASS</td>\n",
              "      <td>rural</td>\n",
              "      <td>650</td>\n",
              "      <td>nuclear</td>\n",
              "      <td>low</td>\n",
              "      <td>1</td>\n",
              "      <td>Farmer</td>\n",
              "      <td>more</td>\n",
              "      <td>primary</td>\n",
              "      <td>...</td>\n",
              "      <td>10000</td>\n",
              "      <td>1</td>\n",
              "      <td>firewood</td>\n",
              "      <td>firewood</td>\n",
              "      <td>1800</td>\n",
              "      <td>never__always_available</td>\n",
              "      <td>always_inside</td>\n",
              "      <td>occasionally_inside</td>\n",
              "      <td>always_inside</td>\n",
              "      <td>two_meals</td>\n",
              "    </tr>\n",
              "    <tr>\n",
              "      <th>114</th>\n",
              "      <td>Bauchi</td>\n",
              "      <td>DASS</td>\n",
              "      <td>rural</td>\n",
              "      <td>650</td>\n",
              "      <td>extended</td>\n",
              "      <td>medium</td>\n",
              "      <td>1</td>\n",
              "      <td>Trader</td>\n",
              "      <td>1501_2000</td>\n",
              "      <td>trade_college</td>\n",
              "      <td>...</td>\n",
              "      <td>10000</td>\n",
              "      <td>1</td>\n",
              "      <td>firewood</td>\n",
              "      <td>firewood</td>\n",
              "      <td>2000</td>\n",
              "      <td>never__always_available</td>\n",
              "      <td>always_inside</td>\n",
              "      <td>occasionally_inside</td>\n",
              "      <td>always_inside</td>\n",
              "      <td>two_meals</td>\n",
              "    </tr>\n",
              "    <tr>\n",
              "      <th>115</th>\n",
              "      <td>Bauchi</td>\n",
              "      <td>DASS</td>\n",
              "      <td>rural</td>\n",
              "      <td>650</td>\n",
              "      <td>extended</td>\n",
              "      <td>medium</td>\n",
              "      <td>1</td>\n",
              "      <td>Business_Person</td>\n",
              "      <td>more</td>\n",
              "      <td>secondary</td>\n",
              "      <td>...</td>\n",
              "      <td>10000</td>\n",
              "      <td>1</td>\n",
              "      <td>firewood</td>\n",
              "      <td>firewood</td>\n",
              "      <td>2000</td>\n",
              "      <td>never__always_available</td>\n",
              "      <td>always_inside</td>\n",
              "      <td>occasionally_inside</td>\n",
              "      <td>always_inside</td>\n",
              "      <td>two_meals</td>\n",
              "    </tr>\n",
              "    <tr>\n",
              "      <th>116</th>\n",
              "      <td>Bauchi</td>\n",
              "      <td>DASS</td>\n",
              "      <td>rural</td>\n",
              "      <td>650</td>\n",
              "      <td>nuclear</td>\n",
              "      <td>low</td>\n",
              "      <td>1</td>\n",
              "      <td>Trader</td>\n",
              "      <td>1501_2000</td>\n",
              "      <td>informal</td>\n",
              "      <td>...</td>\n",
              "      <td>3500</td>\n",
              "      <td>1</td>\n",
              "      <td>firewood</td>\n",
              "      <td>firewood</td>\n",
              "      <td>1800</td>\n",
              "      <td>never__always_available</td>\n",
              "      <td>always_inside</td>\n",
              "      <td>occasionally_inside</td>\n",
              "      <td>always_inside</td>\n",
              "      <td>two_meals</td>\n",
              "    </tr>\n",
              "  </tbody>\n",
              "</table>\n",
              "<p>5 rows × 29 columns</p>\n",
              "</div>\n",
              "      <button class=\"colab-df-convert\" onclick=\"convertToInteractive('df-53a83e38-bba1-4b6b-b127-2d264d18bf2b')\"\n",
              "              title=\"Convert this dataframe to an interactive table.\"\n",
              "              style=\"display:none;\">\n",
              "        \n",
              "  <svg xmlns=\"http://www.w3.org/2000/svg\" height=\"24px\"viewBox=\"0 0 24 24\"\n",
              "       width=\"24px\">\n",
              "    <path d=\"M0 0h24v24H0V0z\" fill=\"none\"/>\n",
              "    <path d=\"M18.56 5.44l.94 2.06.94-2.06 2.06-.94-2.06-.94-.94-2.06-.94 2.06-2.06.94zm-11 1L8.5 8.5l.94-2.06 2.06-.94-2.06-.94L8.5 2.5l-.94 2.06-2.06.94zm10 10l.94 2.06.94-2.06 2.06-.94-2.06-.94-.94-2.06-.94 2.06-2.06.94z\"/><path d=\"M17.41 7.96l-1.37-1.37c-.4-.4-.92-.59-1.43-.59-.52 0-1.04.2-1.43.59L10.3 9.45l-7.72 7.72c-.78.78-.78 2.05 0 2.83L4 21.41c.39.39.9.59 1.41.59.51 0 1.02-.2 1.41-.59l7.78-7.78 2.81-2.81c.8-.78.8-2.07 0-2.86zM5.41 20L4 18.59l7.72-7.72 1.47 1.35L5.41 20z\"/>\n",
              "  </svg>\n",
              "      </button>\n",
              "      \n",
              "  <style>\n",
              "    .colab-df-container {\n",
              "      display:flex;\n",
              "      flex-wrap:wrap;\n",
              "      gap: 12px;\n",
              "    }\n",
              "\n",
              "    .colab-df-convert {\n",
              "      background-color: #E8F0FE;\n",
              "      border: none;\n",
              "      border-radius: 50%;\n",
              "      cursor: pointer;\n",
              "      display: none;\n",
              "      fill: #1967D2;\n",
              "      height: 32px;\n",
              "      padding: 0 0 0 0;\n",
              "      width: 32px;\n",
              "    }\n",
              "\n",
              "    .colab-df-convert:hover {\n",
              "      background-color: #E2EBFA;\n",
              "      box-shadow: 0px 1px 2px rgba(60, 64, 67, 0.3), 0px 1px 3px 1px rgba(60, 64, 67, 0.15);\n",
              "      fill: #174EA6;\n",
              "    }\n",
              "\n",
              "    [theme=dark] .colab-df-convert {\n",
              "      background-color: #3B4455;\n",
              "      fill: #D2E3FC;\n",
              "    }\n",
              "\n",
              "    [theme=dark] .colab-df-convert:hover {\n",
              "      background-color: #434B5C;\n",
              "      box-shadow: 0px 1px 3px 1px rgba(0, 0, 0, 0.15);\n",
              "      filter: drop-shadow(0px 1px 2px rgba(0, 0, 0, 0.3));\n",
              "      fill: #FFFFFF;\n",
              "    }\n",
              "  </style>\n",
              "\n",
              "      <script>\n",
              "        const buttonEl =\n",
              "          document.querySelector('#df-53a83e38-bba1-4b6b-b127-2d264d18bf2b button.colab-df-convert');\n",
              "        buttonEl.style.display =\n",
              "          google.colab.kernel.accessAllowed ? 'block' : 'none';\n",
              "\n",
              "        async function convertToInteractive(key) {\n",
              "          const element = document.querySelector('#df-53a83e38-bba1-4b6b-b127-2d264d18bf2b');\n",
              "          const dataTable =\n",
              "            await google.colab.kernel.invokeFunction('convertToInteractive',\n",
              "                                                     [key], {});\n",
              "          if (!dataTable) return;\n",
              "\n",
              "          const docLinkHtml = 'Like what you see? Visit the ' +\n",
              "            '<a target=\"_blank\" href=https://colab.research.google.com/notebooks/data_table.ipynb>data table notebook</a>'\n",
              "            + ' to learn more about interactive tables.';\n",
              "          element.innerHTML = '';\n",
              "          dataTable['output_type'] = 'display_data';\n",
              "          await google.colab.output.renderOutput(dataTable, element);\n",
              "          const docLink = document.createElement('div');\n",
              "          docLink.innerHTML = docLinkHtml;\n",
              "          element.appendChild(docLink);\n",
              "        }\n",
              "      </script>\n",
              "    </div>\n",
              "  </div>\n",
              "  "
            ]
          },
          "metadata": {},
          "execution_count": 30
        }
      ],
      "source": [
        "bauchi_df= data[data['state'] == 'Bauchi']\n",
        "bauchi_df.head()"
      ]
    },
    {
      "cell_type": "code",
      "execution_count": null,
      "metadata": {
        "colab": {
          "base_uri": "https://localhost:8080/"
        },
        "id": "43oq6LwBWSGp",
        "outputId": "305e7caf-9b15-412f-f903-d01c2d2fbd78"
      },
      "outputs": [
        {
          "output_type": "execute_result",
          "data": {
            "text/plain": [
              "DASS       51\n",
              "GAMAWA     31\n",
              "Darazo     28\n",
              "DARAZO     16\n",
              "Gamawa      9\n",
              "BAUCHI      1\n",
              "DARAZO      1\n",
              "Bauchi      1\n",
              "Ganjuwa     1\n",
              "Name: loc_gov, dtype: int64"
            ]
          },
          "metadata": {},
          "execution_count": 31
        }
      ],
      "source": [
        "bauchi_df['loc_gov'].value_counts()"
      ]
    },
    {
      "cell_type": "code",
      "execution_count": null,
      "metadata": {
        "id": "BooNZAmaWR8g"
      },
      "outputs": [],
      "source": [
        "bauchi_df['loc_gov'] = bauchi_df['loc_gov'].replace(['Darazo','Gamawa','BAUCHI','Bauchi','DARAZO'],['DARRAZO','GAMAWA','GAMAWA','DARRAZO','DARRAZO'])"
      ]
    },
    {
      "cell_type": "markdown",
      "metadata": {
        "id": "HpPpqXLq6yPZ"
      },
      "source": [
        "Same to data collected from bauchi, it has similar problem which give the need to reclassify them to a single class"
      ]
    },
    {
      "cell_type": "code",
      "execution_count": null,
      "metadata": {
        "colab": {
          "base_uri": "https://localhost:8080/"
        },
        "id": "xdmsTXWsWRxZ",
        "outputId": "aee87943-109d-42b3-82e9-5761a60b29a2"
      },
      "outputs": [
        {
          "output_type": "execute_result",
          "data": {
            "text/plain": [
              "DASS       51\n",
              "DARRAZO    45\n",
              "GAMAWA     41\n",
              "DARAZO      1\n",
              "Ganjuwa     1\n",
              "Name: loc_gov, dtype: int64"
            ]
          },
          "metadata": {},
          "execution_count": 33
        }
      ],
      "source": [
        "bauchi_df['loc_gov'].value_counts()"
      ]
    },
    {
      "cell_type": "markdown",
      "metadata": {
        "id": "vVkEG3EJ66mD"
      },
      "source": [
        "After cleaning the data by state and lga, we need to add all the data back together in one table. \n",
        "\n",
        "The cell below concatenate the data back together and these are data from kano, niger and bauchi and stored in a new variable"
      ]
    },
    {
      "cell_type": "code",
      "execution_count": null,
      "metadata": {
        "colab": {
          "base_uri": "https://localhost:8080/",
          "height": 300
        },
        "id": "NtYQ1YNZWRnK",
        "outputId": "1b2faec5-8fa6-4e26-82b3-2a508b6640a5"
      },
      "outputs": [
        {
          "output_type": "execute_result",
          "data": {
            "text/plain": [
              "    state loc_gov com_type  com_size Hhold_cat income_lev  gender  \\\n",
              "0  Bauchi  GAMAWA    urban      5000   nuclear        low       1   \n",
              "1  Bauchi    DASS    rural       650   nuclear        low       1   \n",
              "2  Bauchi    DASS    rural       650  extended     medium       1   \n",
              "3  Bauchi    DASS    rural       650  extended     medium       1   \n",
              "4  Bauchi    DASS    rural       650   nuclear        low       1   \n",
              "\n",
              "        occupation occup_income           educ  ... desired_price govDo_more  \\\n",
              "0  Business_Person    1001_1500      secondary  ...           350          1   \n",
              "1           Farmer         more        primary  ...         10000          1   \n",
              "2           Trader    1501_2000  trade_college  ...         10000          1   \n",
              "3  Business_Person         more      secondary  ...         10000          1   \n",
              "4           Trader    1501_2000       informal  ...          3500          1   \n",
              "\n",
              "   fuel_cook fuel_boilWater cost_fuel                               fuel_unav  \\\n",
              "0   firewood       firewood      1400  sometimes__4_12_times_in_twelve_months   \n",
              "1   firewood       firewood      1800                 never__always_available   \n",
              "2   firewood       firewood      2000                 never__always_available   \n",
              "3   firewood       firewood      2000                 never__always_available   \n",
              "4   firewood       firewood      1800                 never__always_available   \n",
              "\n",
              "      cook_rainy           cook_harma            cook_rest    num_meals  \n",
              "0  always_inside        always_inside  occasionally_inside  three_meals  \n",
              "1  always_inside  occasionally_inside        always_inside    two_meals  \n",
              "2  always_inside  occasionally_inside        always_inside    two_meals  \n",
              "3  always_inside  occasionally_inside        always_inside    two_meals  \n",
              "4  always_inside  occasionally_inside        always_inside    two_meals  \n",
              "\n",
              "[5 rows x 29 columns]"
            ],
            "text/html": [
              "\n",
              "  <div id=\"df-c56d40c1-dda3-49b6-b609-08a93458f5b9\">\n",
              "    <div class=\"colab-df-container\">\n",
              "      <div>\n",
              "<style scoped>\n",
              "    .dataframe tbody tr th:only-of-type {\n",
              "        vertical-align: middle;\n",
              "    }\n",
              "\n",
              "    .dataframe tbody tr th {\n",
              "        vertical-align: top;\n",
              "    }\n",
              "\n",
              "    .dataframe thead th {\n",
              "        text-align: right;\n",
              "    }\n",
              "</style>\n",
              "<table border=\"1\" class=\"dataframe\">\n",
              "  <thead>\n",
              "    <tr style=\"text-align: right;\">\n",
              "      <th></th>\n",
              "      <th>state</th>\n",
              "      <th>loc_gov</th>\n",
              "      <th>com_type</th>\n",
              "      <th>com_size</th>\n",
              "      <th>Hhold_cat</th>\n",
              "      <th>income_lev</th>\n",
              "      <th>gender</th>\n",
              "      <th>occupation</th>\n",
              "      <th>occup_income</th>\n",
              "      <th>educ</th>\n",
              "      <th>...</th>\n",
              "      <th>desired_price</th>\n",
              "      <th>govDo_more</th>\n",
              "      <th>fuel_cook</th>\n",
              "      <th>fuel_boilWater</th>\n",
              "      <th>cost_fuel</th>\n",
              "      <th>fuel_unav</th>\n",
              "      <th>cook_rainy</th>\n",
              "      <th>cook_harma</th>\n",
              "      <th>cook_rest</th>\n",
              "      <th>num_meals</th>\n",
              "    </tr>\n",
              "  </thead>\n",
              "  <tbody>\n",
              "    <tr>\n",
              "      <th>0</th>\n",
              "      <td>Bauchi</td>\n",
              "      <td>GAMAWA</td>\n",
              "      <td>urban</td>\n",
              "      <td>5000</td>\n",
              "      <td>nuclear</td>\n",
              "      <td>low</td>\n",
              "      <td>1</td>\n",
              "      <td>Business_Person</td>\n",
              "      <td>1001_1500</td>\n",
              "      <td>secondary</td>\n",
              "      <td>...</td>\n",
              "      <td>350</td>\n",
              "      <td>1</td>\n",
              "      <td>firewood</td>\n",
              "      <td>firewood</td>\n",
              "      <td>1400</td>\n",
              "      <td>sometimes__4_12_times_in_twelve_months</td>\n",
              "      <td>always_inside</td>\n",
              "      <td>always_inside</td>\n",
              "      <td>occasionally_inside</td>\n",
              "      <td>three_meals</td>\n",
              "    </tr>\n",
              "    <tr>\n",
              "      <th>1</th>\n",
              "      <td>Bauchi</td>\n",
              "      <td>DASS</td>\n",
              "      <td>rural</td>\n",
              "      <td>650</td>\n",
              "      <td>nuclear</td>\n",
              "      <td>low</td>\n",
              "      <td>1</td>\n",
              "      <td>Farmer</td>\n",
              "      <td>more</td>\n",
              "      <td>primary</td>\n",
              "      <td>...</td>\n",
              "      <td>10000</td>\n",
              "      <td>1</td>\n",
              "      <td>firewood</td>\n",
              "      <td>firewood</td>\n",
              "      <td>1800</td>\n",
              "      <td>never__always_available</td>\n",
              "      <td>always_inside</td>\n",
              "      <td>occasionally_inside</td>\n",
              "      <td>always_inside</td>\n",
              "      <td>two_meals</td>\n",
              "    </tr>\n",
              "    <tr>\n",
              "      <th>2</th>\n",
              "      <td>Bauchi</td>\n",
              "      <td>DASS</td>\n",
              "      <td>rural</td>\n",
              "      <td>650</td>\n",
              "      <td>extended</td>\n",
              "      <td>medium</td>\n",
              "      <td>1</td>\n",
              "      <td>Trader</td>\n",
              "      <td>1501_2000</td>\n",
              "      <td>trade_college</td>\n",
              "      <td>...</td>\n",
              "      <td>10000</td>\n",
              "      <td>1</td>\n",
              "      <td>firewood</td>\n",
              "      <td>firewood</td>\n",
              "      <td>2000</td>\n",
              "      <td>never__always_available</td>\n",
              "      <td>always_inside</td>\n",
              "      <td>occasionally_inside</td>\n",
              "      <td>always_inside</td>\n",
              "      <td>two_meals</td>\n",
              "    </tr>\n",
              "    <tr>\n",
              "      <th>3</th>\n",
              "      <td>Bauchi</td>\n",
              "      <td>DASS</td>\n",
              "      <td>rural</td>\n",
              "      <td>650</td>\n",
              "      <td>extended</td>\n",
              "      <td>medium</td>\n",
              "      <td>1</td>\n",
              "      <td>Business_Person</td>\n",
              "      <td>more</td>\n",
              "      <td>secondary</td>\n",
              "      <td>...</td>\n",
              "      <td>10000</td>\n",
              "      <td>1</td>\n",
              "      <td>firewood</td>\n",
              "      <td>firewood</td>\n",
              "      <td>2000</td>\n",
              "      <td>never__always_available</td>\n",
              "      <td>always_inside</td>\n",
              "      <td>occasionally_inside</td>\n",
              "      <td>always_inside</td>\n",
              "      <td>two_meals</td>\n",
              "    </tr>\n",
              "    <tr>\n",
              "      <th>4</th>\n",
              "      <td>Bauchi</td>\n",
              "      <td>DASS</td>\n",
              "      <td>rural</td>\n",
              "      <td>650</td>\n",
              "      <td>nuclear</td>\n",
              "      <td>low</td>\n",
              "      <td>1</td>\n",
              "      <td>Trader</td>\n",
              "      <td>1501_2000</td>\n",
              "      <td>informal</td>\n",
              "      <td>...</td>\n",
              "      <td>3500</td>\n",
              "      <td>1</td>\n",
              "      <td>firewood</td>\n",
              "      <td>firewood</td>\n",
              "      <td>1800</td>\n",
              "      <td>never__always_available</td>\n",
              "      <td>always_inside</td>\n",
              "      <td>occasionally_inside</td>\n",
              "      <td>always_inside</td>\n",
              "      <td>two_meals</td>\n",
              "    </tr>\n",
              "  </tbody>\n",
              "</table>\n",
              "<p>5 rows × 29 columns</p>\n",
              "</div>\n",
              "      <button class=\"colab-df-convert\" onclick=\"convertToInteractive('df-c56d40c1-dda3-49b6-b609-08a93458f5b9')\"\n",
              "              title=\"Convert this dataframe to an interactive table.\"\n",
              "              style=\"display:none;\">\n",
              "        \n",
              "  <svg xmlns=\"http://www.w3.org/2000/svg\" height=\"24px\"viewBox=\"0 0 24 24\"\n",
              "       width=\"24px\">\n",
              "    <path d=\"M0 0h24v24H0V0z\" fill=\"none\"/>\n",
              "    <path d=\"M18.56 5.44l.94 2.06.94-2.06 2.06-.94-2.06-.94-.94-2.06-.94 2.06-2.06.94zm-11 1L8.5 8.5l.94-2.06 2.06-.94-2.06-.94L8.5 2.5l-.94 2.06-2.06.94zm10 10l.94 2.06.94-2.06 2.06-.94-2.06-.94-.94-2.06-.94 2.06-2.06.94z\"/><path d=\"M17.41 7.96l-1.37-1.37c-.4-.4-.92-.59-1.43-.59-.52 0-1.04.2-1.43.59L10.3 9.45l-7.72 7.72c-.78.78-.78 2.05 0 2.83L4 21.41c.39.39.9.59 1.41.59.51 0 1.02-.2 1.41-.59l7.78-7.78 2.81-2.81c.8-.78.8-2.07 0-2.86zM5.41 20L4 18.59l7.72-7.72 1.47 1.35L5.41 20z\"/>\n",
              "  </svg>\n",
              "      </button>\n",
              "      \n",
              "  <style>\n",
              "    .colab-df-container {\n",
              "      display:flex;\n",
              "      flex-wrap:wrap;\n",
              "      gap: 12px;\n",
              "    }\n",
              "\n",
              "    .colab-df-convert {\n",
              "      background-color: #E8F0FE;\n",
              "      border: none;\n",
              "      border-radius: 50%;\n",
              "      cursor: pointer;\n",
              "      display: none;\n",
              "      fill: #1967D2;\n",
              "      height: 32px;\n",
              "      padding: 0 0 0 0;\n",
              "      width: 32px;\n",
              "    }\n",
              "\n",
              "    .colab-df-convert:hover {\n",
              "      background-color: #E2EBFA;\n",
              "      box-shadow: 0px 1px 2px rgba(60, 64, 67, 0.3), 0px 1px 3px 1px rgba(60, 64, 67, 0.15);\n",
              "      fill: #174EA6;\n",
              "    }\n",
              "\n",
              "    [theme=dark] .colab-df-convert {\n",
              "      background-color: #3B4455;\n",
              "      fill: #D2E3FC;\n",
              "    }\n",
              "\n",
              "    [theme=dark] .colab-df-convert:hover {\n",
              "      background-color: #434B5C;\n",
              "      box-shadow: 0px 1px 3px 1px rgba(0, 0, 0, 0.15);\n",
              "      filter: drop-shadow(0px 1px 2px rgba(0, 0, 0, 0.3));\n",
              "      fill: #FFFFFF;\n",
              "    }\n",
              "  </style>\n",
              "\n",
              "      <script>\n",
              "        const buttonEl =\n",
              "          document.querySelector('#df-c56d40c1-dda3-49b6-b609-08a93458f5b9 button.colab-df-convert');\n",
              "        buttonEl.style.display =\n",
              "          google.colab.kernel.accessAllowed ? 'block' : 'none';\n",
              "\n",
              "        async function convertToInteractive(key) {\n",
              "          const element = document.querySelector('#df-c56d40c1-dda3-49b6-b609-08a93458f5b9');\n",
              "          const dataTable =\n",
              "            await google.colab.kernel.invokeFunction('convertToInteractive',\n",
              "                                                     [key], {});\n",
              "          if (!dataTable) return;\n",
              "\n",
              "          const docLinkHtml = 'Like what you see? Visit the ' +\n",
              "            '<a target=\"_blank\" href=https://colab.research.google.com/notebooks/data_table.ipynb>data table notebook</a>'\n",
              "            + ' to learn more about interactive tables.';\n",
              "          element.innerHTML = '';\n",
              "          dataTable['output_type'] = 'display_data';\n",
              "          await google.colab.output.renderOutput(dataTable, element);\n",
              "          const docLink = document.createElement('div');\n",
              "          docLink.innerHTML = docLinkHtml;\n",
              "          element.appendChild(docLink);\n",
              "        }\n",
              "      </script>\n",
              "    </div>\n",
              "  </div>\n",
              "  "
            ]
          },
          "metadata": {},
          "execution_count": 34
        }
      ],
      "source": [
        "#concatenating clean data\n",
        "new_data= pd.concat([bauchi_df, kano_df, niger_df], axis= 0, ignore_index= True)\n",
        "\n",
        "new_data['loc_gov'] = new_data['loc_gov'].replace(['LAPAI LGA'] ,'LAPAI')\n",
        "new_data.head()"
      ]
    },
    {
      "cell_type": "markdown",
      "metadata": {
        "id": "ggTd_3DE7TBX"
      },
      "source": [
        "We also noticed from ealier that some data are suppose to be in different state to where they are placed, this give the reason for us to put them back in order.\n"
      ]
    },
    {
      "cell_type": "markdown",
      "metadata": {
        "id": "pYMZGJlL7mjO"
      },
      "source": [
        "Ganjuwa, kumbotso are left out, we do not know where they belong and for this reason, we need to remove them from our data.\n",
        "\n",
        "We use the below lines of code to get their location in the overall data and remove them, then we check the shape of the data again"
      ]
    },
    {
      "cell_type": "code",
      "execution_count": null,
      "metadata": {
        "colab": {
          "base_uri": "https://localhost:8080/"
        },
        "id": "jBJ0bIbXWRbz",
        "outputId": "297cd266-4a24-41fa-df46-ab2e25c20dd2"
      },
      "outputs": [
        {
          "output_type": "execute_result",
          "data": {
            "text/plain": [
              "(430, 29)"
            ]
          },
          "metadata": {},
          "execution_count": 35
        }
      ],
      "source": [
        "# Get indexes where the col loc_gov does not have the following\n",
        "index1 = new_data[(new_data['loc_gov'] == 'Ganjuwa')].index \n",
        "index2 = new_data[(new_data['loc_gov'] == 'KUMBOTSO')].index \n",
        "index3 = new_data[(new_data['loc_gov'] == 'BICHI')].index \n",
        "index4 = new_data[(new_data['loc_gov'] == 'DARAZO')].index \n",
        "\n",
        "# Delete these row indexes from dataFrame\n",
        "new_data.drop(index1, inplace=True)\n",
        "new_data.drop(index2, inplace=True)\n",
        "new_data.drop(index3, inplace=True)\n",
        "new_data.drop(index4, inplace=True)\n",
        "\n",
        "new_data.shape"
      ]
    },
    {
      "cell_type": "code",
      "execution_count": null,
      "metadata": {
        "id": "4F976Ze6qRff"
      },
      "outputs": [],
      "source": [
        "new_data['cook_rainy'] = new_data['cook_rainy'].replace(['always_inside occasionally_inside','mostly_inside always_inside','occasionally_inside always_inside','always_inside mostly_inside'],['always_inside','mostly_inside','occasionally_inside','mostly_inside'])\n",
        "\n",
        "new_data['occup_income'] = new_data['occup_income'].replace(['1001_1501','1501_2001','1501_2002'],['1001_1500','1501_2000','1501_2000'])\n",
        "\n",
        "new_data['cook_rest'] = new_data['cook_rest'].replace(['mostly_inside occasionally_inside','always_inside mostly_inside','always_inside occasionally_inside'],['mostly_inside','always_inside','occasionally_inside'])\n",
        "\n"
      ]
    },
    {
      "cell_type": "code",
      "execution_count": null,
      "metadata": {
        "colab": {
          "base_uri": "https://localhost:8080/"
        },
        "id": "N6N672bYx_sF",
        "outputId": "6e07596a-4b01-4dac-c02b-980422215dc1"
      },
      "outputs": [
        {
          "output_type": "execute_result",
          "data": {
            "text/plain": [
              "LAPAI       70\n",
              "KIRU        66\n",
              "TSANYAWA    61\n",
              "DASS        51\n",
              "DARRAZO     45\n",
              "GAMAWA      41\n",
              "GURARA      33\n",
              "GEZAWA      31\n",
              "WUSHISHI    31\n",
              "DARAZO       1\n",
              "Name: loc_gov, dtype: int64"
            ]
          },
          "metadata": {},
          "execution_count": 37
        }
      ],
      "source": [
        "new_data['loc_gov'].value_counts()"
      ]
    },
    {
      "cell_type": "code",
      "execution_count": null,
      "metadata": {
        "colab": {
          "base_uri": "https://localhost:8080/"
        },
        "id": "NnHi2L6YwOg9",
        "outputId": "4fafeb95-8ef9-422a-ca69-8dd3237ef265"
      },
      "outputs": [
        {
          "data": {
            "text/plain": [
              "(430, 29)"
            ]
          },
          "execution_count": 25,
          "metadata": {},
          "output_type": "execute_result"
        }
      ],
      "source": [
        "new_data.shape"
      ]
    },
    {
      "cell_type": "markdown",
      "metadata": {
        "id": "F44MDJXJ7vY0"
      },
      "source": [
        "The shape of the data return from 433 to 430, this means 3 samples have been removed"
      ]
    },
    {
      "cell_type": "markdown",
      "metadata": {
        "id": "XeofoOUU71Ia"
      },
      "source": [
        "We used the below cell to drop the lga that does not belong to kano. We did this because of the need to visualize the number of meals served in kano state by lga"
      ]
    },
    {
      "cell_type": "code",
      "execution_count": null,
      "metadata": {
        "id": "gl7PrTxUWRUx"
      },
      "outputs": [],
      "source": [
        "kano_1 = kano_df[(kano_df['loc_gov'] == 'LAPAI LGA')].index \n",
        "kano_2 = kano_df[(kano_df['loc_gov'] == 'BICHI')].index \n",
        "kano_3 = kano_df[(kano_df['loc_gov'] == 'KUMBOTSO')].index  \n",
        "\n",
        "kano_df.drop(kano_1, inplace=True)\n",
        "kano_df.drop(kano_2, inplace=True)\n",
        "kano_df.drop(kano_3, inplace=True)"
      ]
    },
    {
      "cell_type": "markdown",
      "metadata": {
        "id": "9V2Q0m8W7-Xk"
      },
      "source": [
        "The cell below visualize the number of meals served in each lga of kano state"
      ]
    },
    {
      "cell_type": "code",
      "execution_count": null,
      "metadata": {
        "colab": {
          "base_uri": "https://localhost:8080/",
          "height": 404
        },
        "id": "DtGqI62mo0rB",
        "outputId": "32d6d603-b437-4df1-dfee-be7219c50446"
      },
      "outputs": [
        {
          "data": {
            "text/plain": [
              "<seaborn.axisgrid.FacetGrid at 0x7fa9adae7a50>"
            ]
          },
          "execution_count": 26,
          "metadata": {},
          "output_type": "execute_result"
        },
        {
          "data": {
            "text/plain": [
              "<Figure size 360x360 with 0 Axes>"
            ]
          },
          "metadata": {},
          "output_type": "display_data"
        },
        {
          "data": {
            "image/png": "[encoded data removed]",
            "text/plain": [
              "<Figure size 1080x360 with 3 Axes>"
            ]
          },
          "metadata": {},
          "output_type": "display_data"
        }
      ],
      "source": [
        "fig= plt.figure(figsize=(5,5))\n",
        "sns.catplot(x= 'num_meals', data= kano_df, kind='count', col='loc_gov')\n"
      ]
    },
    {
      "cell_type": "markdown",
      "metadata": {
        "id": "-chgvpTO8Ptm"
      },
      "source": [
        "Now we move to visualizing how many 0s and 1s we have in our target variable"
      ]
    },
    {
      "cell_type": "code",
      "execution_count": null,
      "metadata": {
        "colab": {
          "base_uri": "https://localhost:8080/",
          "height": 280
        },
        "id": "zkelbpeso0dV",
        "outputId": "df251746-ae41-455a-b8fc-20f9f93aa1ea"
      },
      "outputs": [
        {
          "data": {
            "image/png": "[encoded data removed]",
            "text/plain": [
              "<Figure size 432x288 with 1 Axes>"
            ]
          },
          "metadata": {},
          "output_type": "display_data"
        }
      ],
      "source": [
        "sns.countplot(x= new_data['buy_reasCost'])\n",
        "plt.show()"
      ]
    },
    {
      "cell_type": "markdown",
      "metadata": {
        "id": "lMVm4urj9rCO"
      },
      "source": [
        "#Encoding Categorical variable\n",
        "\n",
        "The below cell select all the categorical variable present in the data, it then get the names of the columns and convert them to numeral.\n",
        "\n",
        "The last line of the code then concat the encoded data and already numeric data in the dataset"
      ]
    },
    {
      "cell_type": "code",
      "execution_count": null,
      "metadata": {
        "colab": {
          "base_uri": "https://localhost:8080/"
        },
        "id": "t95Jr78NpGtb",
        "outputId": "e26aa494-4c5c-40ce-f647-87c823a88578"
      },
      "outputs": [
        {
          "output_type": "execute_result",
          "data": {
            "text/plain": [
              "1    351\n",
              "0     79\n",
              "Name: buy_reasCost, dtype: int64"
            ]
          },
          "metadata": {},
          "execution_count": 38
        }
      ],
      "source": [
        "new_data['buy_reasCost'].value_counts()"
      ]
    },
    {
      "cell_type": "code",
      "execution_count": null,
      "metadata": {
        "id": "KLHMoSy6pMeO"
      },
      "outputs": [],
      "source": []
    },
    {
      "cell_type": "code",
      "execution_count": null,
      "metadata": {
        "id": "4ehn6kWzpMIS"
      },
      "outputs": [],
      "source": [
        "#Encoding Categorical data\n",
        "new_df= new_data.select_dtypes(include='object')\n",
        "variables= new_df.columns\n",
        "\n",
        "for i in variables:\n",
        "    new_df[i]= new_df[i].astype('category')\n",
        "    new_df[i]= new_df[i].cat.codes\n",
        "\n",
        "new_dff= pd.concat([new_df, new_data.select_dtypes(exclude='object')], axis= 1) \n"
      ]
    },
    {
      "cell_type": "markdown",
      "metadata": {
        "id": "Z-i08VRX-EmH"
      },
      "source": [
        "The below cell shows first five rows of the encoded data"
      ]
    },
    {
      "cell_type": "code",
      "execution_count": null,
      "metadata": {
        "colab": {
          "base_uri": "https://localhost:8080/",
          "height": 300
        },
        "id": "kuzqTI1r-B9m",
        "outputId": "8bf46439-a5dd-435c-b024-0d57f5a8f6ab"
      },
      "outputs": [
        {
          "output_type": "execute_result",
          "data": {
            "text/plain": [
              "   state  loc_gov  com_type  Hhold_cat  income_lev  occupation  occup_income  \\\n",
              "0      0        3         2          2           1           0             1   \n",
              "1      0        2         1          2           1           1             4   \n",
              "2      0        2         1          1           2           4             2   \n",
              "3      0        2         1          1           2           0             4   \n",
              "4      0        2         1          2           1           4             2   \n",
              "\n",
              "   educ  pres_stove  pres_stove_label  ...  com_size  gender  stove_timeUse  \\\n",
              "0     2           7                 0  ...      5000       1             60   \n",
              "1     1           7                 0  ...       650       1            421   \n",
              "2     3           7                 0  ...       650       1            698   \n",
              "3     2           7                 0  ...       650       1            180   \n",
              "4     0           7                 0  ...       650       1            439   \n",
              "\n",
              "   num_cookStove  know_clean  know_cleanAdv  buy_reasCost  desired_price  \\\n",
              "0              1           0              0             1            350   \n",
              "1              1           1              0             0          10000   \n",
              "2              1           1              0             0          10000   \n",
              "3              1           1              0             0          10000   \n",
              "4              1           1              0             0           3500   \n",
              "\n",
              "   govDo_more  cost_fuel  \n",
              "0           1       1400  \n",
              "1           1       1800  \n",
              "2           1       2000  \n",
              "3           1       2000  \n",
              "4           1       1800  \n",
              "\n",
              "[5 rows x 29 columns]"
            ],
            "text/html": [
              "\n",
              "  <div id=\"df-9815e820-9e0c-4b79-aaf0-1a830817a095\">\n",
              "    <div class=\"colab-df-container\">\n",
              "      <div>\n",
              "<style scoped>\n",
              "    .dataframe tbody tr th:only-of-type {\n",
              "        vertical-align: middle;\n",
              "    }\n",
              "\n",
              "    .dataframe tbody tr th {\n",
              "        vertical-align: top;\n",
              "    }\n",
              "\n",
              "    .dataframe thead th {\n",
              "        text-align: right;\n",
              "    }\n",
              "</style>\n",
              "<table border=\"1\" class=\"dataframe\">\n",
              "  <thead>\n",
              "    <tr style=\"text-align: right;\">\n",
              "      <th></th>\n",
              "      <th>state</th>\n",
              "      <th>loc_gov</th>\n",
              "      <th>com_type</th>\n",
              "      <th>Hhold_cat</th>\n",
              "      <th>income_lev</th>\n",
              "      <th>occupation</th>\n",
              "      <th>occup_income</th>\n",
              "      <th>educ</th>\n",
              "      <th>pres_stove</th>\n",
              "      <th>pres_stove_label</th>\n",
              "      <th>...</th>\n",
              "      <th>com_size</th>\n",
              "      <th>gender</th>\n",
              "      <th>stove_timeUse</th>\n",
              "      <th>num_cookStove</th>\n",
              "      <th>know_clean</th>\n",
              "      <th>know_cleanAdv</th>\n",
              "      <th>buy_reasCost</th>\n",
              "      <th>desired_price</th>\n",
              "      <th>govDo_more</th>\n",
              "      <th>cost_fuel</th>\n",
              "    </tr>\n",
              "  </thead>\n",
              "  <tbody>\n",
              "    <tr>\n",
              "      <th>0</th>\n",
              "      <td>0</td>\n",
              "      <td>3</td>\n",
              "      <td>2</td>\n",
              "      <td>2</td>\n",
              "      <td>1</td>\n",
              "      <td>0</td>\n",
              "      <td>1</td>\n",
              "      <td>2</td>\n",
              "      <td>7</td>\n",
              "      <td>0</td>\n",
              "      <td>...</td>\n",
              "      <td>5000</td>\n",
              "      <td>1</td>\n",
              "      <td>60</td>\n",
              "      <td>1</td>\n",
              "      <td>0</td>\n",
              "      <td>0</td>\n",
              "      <td>1</td>\n",
              "      <td>350</td>\n",
              "      <td>1</td>\n",
              "      <td>1400</td>\n",
              "    </tr>\n",
              "    <tr>\n",
              "      <th>1</th>\n",
              "      <td>0</td>\n",
              "      <td>2</td>\n",
              "      <td>1</td>\n",
              "      <td>2</td>\n",
              "      <td>1</td>\n",
              "      <td>1</td>\n",
              "      <td>4</td>\n",
              "      <td>1</td>\n",
              "      <td>7</td>\n",
              "      <td>0</td>\n",
              "      <td>...</td>\n",
              "      <td>650</td>\n",
              "      <td>1</td>\n",
              "      <td>421</td>\n",
              "      <td>1</td>\n",
              "      <td>1</td>\n",
              "      <td>0</td>\n",
              "      <td>0</td>\n",
              "      <td>10000</td>\n",
              "      <td>1</td>\n",
              "      <td>1800</td>\n",
              "    </tr>\n",
              "    <tr>\n",
              "      <th>2</th>\n",
              "      <td>0</td>\n",
              "      <td>2</td>\n",
              "      <td>1</td>\n",
              "      <td>1</td>\n",
              "      <td>2</td>\n",
              "      <td>4</td>\n",
              "      <td>2</td>\n",
              "      <td>3</td>\n",
              "      <td>7</td>\n",
              "      <td>0</td>\n",
              "      <td>...</td>\n",
              "      <td>650</td>\n",
              "      <td>1</td>\n",
              "      <td>698</td>\n",
              "      <td>1</td>\n",
              "      <td>1</td>\n",
              "      <td>0</td>\n",
              "      <td>0</td>\n",
              "      <td>10000</td>\n",
              "      <td>1</td>\n",
              "      <td>2000</td>\n",
              "    </tr>\n",
              "    <tr>\n",
              "      <th>3</th>\n",
              "      <td>0</td>\n",
              "      <td>2</td>\n",
              "      <td>1</td>\n",
              "      <td>1</td>\n",
              "      <td>2</td>\n",
              "      <td>0</td>\n",
              "      <td>4</td>\n",
              "      <td>2</td>\n",
              "      <td>7</td>\n",
              "      <td>0</td>\n",
              "      <td>...</td>\n",
              "      <td>650</td>\n",
              "      <td>1</td>\n",
              "      <td>180</td>\n",
              "      <td>1</td>\n",
              "      <td>1</td>\n",
              "      <td>0</td>\n",
              "      <td>0</td>\n",
              "      <td>10000</td>\n",
              "      <td>1</td>\n",
              "      <td>2000</td>\n",
              "    </tr>\n",
              "    <tr>\n",
              "      <th>4</th>\n",
              "      <td>0</td>\n",
              "      <td>2</td>\n",
              "      <td>1</td>\n",
              "      <td>2</td>\n",
              "      <td>1</td>\n",
              "      <td>4</td>\n",
              "      <td>2</td>\n",
              "      <td>0</td>\n",
              "      <td>7</td>\n",
              "      <td>0</td>\n",
              "      <td>...</td>\n",
              "      <td>650</td>\n",
              "      <td>1</td>\n",
              "      <td>439</td>\n",
              "      <td>1</td>\n",
              "      <td>1</td>\n",
              "      <td>0</td>\n",
              "      <td>0</td>\n",
              "      <td>3500</td>\n",
              "      <td>1</td>\n",
              "      <td>1800</td>\n",
              "    </tr>\n",
              "  </tbody>\n",
              "</table>\n",
              "<p>5 rows × 29 columns</p>\n",
              "</div>\n",
              "      <button class=\"colab-df-convert\" onclick=\"convertToInteractive('df-9815e820-9e0c-4b79-aaf0-1a830817a095')\"\n",
              "              title=\"Convert this dataframe to an interactive table.\"\n",
              "              style=\"display:none;\">\n",
              "        \n",
              "  <svg xmlns=\"http://www.w3.org/2000/svg\" height=\"24px\"viewBox=\"0 0 24 24\"\n",
              "       width=\"24px\">\n",
              "    <path d=\"M0 0h24v24H0V0z\" fill=\"none\"/>\n",
              "    <path d=\"M18.56 5.44l.94 2.06.94-2.06 2.06-.94-2.06-.94-.94-2.06-.94 2.06-2.06.94zm-11 1L8.5 8.5l.94-2.06 2.06-.94-2.06-.94L8.5 2.5l-.94 2.06-2.06.94zm10 10l.94 2.06.94-2.06 2.06-.94-2.06-.94-.94-2.06-.94 2.06-2.06.94z\"/><path d=\"M17.41 7.96l-1.37-1.37c-.4-.4-.92-.59-1.43-.59-.52 0-1.04.2-1.43.59L10.3 9.45l-7.72 7.72c-.78.78-.78 2.05 0 2.83L4 21.41c.39.39.9.59 1.41.59.51 0 1.02-.2 1.41-.59l7.78-7.78 2.81-2.81c.8-.78.8-2.07 0-2.86zM5.41 20L4 18.59l7.72-7.72 1.47 1.35L5.41 20z\"/>\n",
              "  </svg>\n",
              "      </button>\n",
              "      \n",
              "  <style>\n",
              "    .colab-df-container {\n",
              "      display:flex;\n",
              "      flex-wrap:wrap;\n",
              "      gap: 12px;\n",
              "    }\n",
              "\n",
              "    .colab-df-convert {\n",
              "      background-color: #E8F0FE;\n",
              "      border: none;\n",
              "      border-radius: 50%;\n",
              "      cursor: pointer;\n",
              "      display: none;\n",
              "      fill: #1967D2;\n",
              "      height: 32px;\n",
              "      padding: 0 0 0 0;\n",
              "      width: 32px;\n",
              "    }\n",
              "\n",
              "    .colab-df-convert:hover {\n",
              "      background-color: #E2EBFA;\n",
              "      box-shadow: 0px 1px 2px rgba(60, 64, 67, 0.3), 0px 1px 3px 1px rgba(60, 64, 67, 0.15);\n",
              "      fill: #174EA6;\n",
              "    }\n",
              "\n",
              "    [theme=dark] .colab-df-convert {\n",
              "      background-color: #3B4455;\n",
              "      fill: #D2E3FC;\n",
              "    }\n",
              "\n",
              "    [theme=dark] .colab-df-convert:hover {\n",
              "      background-color: #434B5C;\n",
              "      box-shadow: 0px 1px 3px 1px rgba(0, 0, 0, 0.15);\n",
              "      filter: drop-shadow(0px 1px 2px rgba(0, 0, 0, 0.3));\n",
              "      fill: #FFFFFF;\n",
              "    }\n",
              "  </style>\n",
              "\n",
              "      <script>\n",
              "        const buttonEl =\n",
              "          document.querySelector('#df-9815e820-9e0c-4b79-aaf0-1a830817a095 button.colab-df-convert');\n",
              "        buttonEl.style.display =\n",
              "          google.colab.kernel.accessAllowed ? 'block' : 'none';\n",
              "\n",
              "        async function convertToInteractive(key) {\n",
              "          const element = document.querySelector('#df-9815e820-9e0c-4b79-aaf0-1a830817a095');\n",
              "          const dataTable =\n",
              "            await google.colab.kernel.invokeFunction('convertToInteractive',\n",
              "                                                     [key], {});\n",
              "          if (!dataTable) return;\n",
              "\n",
              "          const docLinkHtml = 'Like what you see? Visit the ' +\n",
              "            '<a target=\"_blank\" href=https://colab.research.google.com/notebooks/data_table.ipynb>data table notebook</a>'\n",
              "            + ' to learn more about interactive tables.';\n",
              "          element.innerHTML = '';\n",
              "          dataTable['output_type'] = 'display_data';\n",
              "          await google.colab.output.renderOutput(dataTable, element);\n",
              "          const docLink = document.createElement('div');\n",
              "          docLink.innerHTML = docLinkHtml;\n",
              "          element.appendChild(docLink);\n",
              "        }\n",
              "      </script>\n",
              "    </div>\n",
              "  </div>\n",
              "  "
            ]
          },
          "metadata": {},
          "execution_count": 40
        }
      ],
      "source": [
        "new_dff.head()"
      ]
    },
    {
      "cell_type": "markdown",
      "metadata": {
        "id": "0Q6p4sD--YFL"
      },
      "source": [
        "#Seperating Target variable y and features x\n",
        "\n",
        "The below cell seperated the target variable 'buy_reasCost' from the features`"
      ]
    },
    {
      "cell_type": "code",
      "execution_count": null,
      "metadata": {
        "id": "WFkVvgbjpL8l"
      },
      "outputs": [],
      "source": [
        "#seperating target variable y from x features\n",
        "x= new_dff.drop('buy_reasCost', axis= 1)\n",
        "y= new_dff['buy_reasCost']"
      ]
    },
    {
      "cell_type": "markdown",
      "metadata": {
        "id": "3kFIKauF-sBT"
      },
      "source": [
        "#Feature selection\n",
        "feature selection is the selection of important features to the model. The cell below select features using inbuilt function of random forest classifier. Below is a plot that shows the variation in the importance of the features"
      ]
    },
    {
      "cell_type": "code",
      "execution_count": null,
      "metadata": {
        "colab": {
          "base_uri": "https://localhost:8080/",
          "height": 338
        },
        "id": "s4IHJJg2pLy0",
        "outputId": "40acf671-7832-4860-f3ef-f6983c5f9054"
      },
      "outputs": [
        {
          "output_type": "display_data",
          "data": {
            "text/plain": [
              "<Figure size 432x288 with 1 Axes>"
            ],
            "image/png": "[encoded data removed]"
          },
          "metadata": {
            "needs_background": "light"
          }
        }
      ],
      "source": [
        "from sklearn.ensemble import RandomForestClassifier\n",
        "forest= RandomForestClassifier(n_estimators= 100, random_state= 42)\n",
        "\n",
        "forest.fit(x , y)\n",
        "\n",
        "importances= forest.feature_importances_\n",
        "indices= np.argsort(importances)[::-1]\n",
        "plt.ylabel('Feature importances')\n",
        "plt.bar(range(x.shape[1]), importances[indices], align='center')\n",
        "ft_labels= x.columns[:]\n",
        "\n",
        "plt.xticks(range(x.shape[1]), ft_labels[indices], rotation=90)\n",
        "plt.xlim([-1, x.shape[1]])\n",
        "\n",
        "plt.savefig('feature_impotance.png')"
      ]
    },
    {
      "cell_type": "code",
      "execution_count": null,
      "metadata": {
        "colab": {
          "base_uri": "https://localhost:8080/"
        },
        "id": "WaCJXtQx9tJZ",
        "outputId": "f5bfefa5-3969-48c5-acd9-1ad1c6da452c"
      },
      "outputs": [
        {
          "output_type": "stream",
          "name": "stdout",
          "text": [
            "Feature: 0, Score: 0.28327\n",
            "Feature: 1, Score: 0.09961\n",
            "Feature: 2, Score: 0.07848\n",
            "Feature: 3, Score: 0.05307\n",
            "Feature: 4, Score: 0.04952\n",
            "Feature: 5, Score: 0.04762\n",
            "Feature: 6, Score: 0.04634\n",
            "Feature: 7, Score: 0.04244\n",
            "Feature: 8, Score: 0.03633\n",
            "Feature: 9, Score: 0.03215\n",
            "Feature: 10, Score: 0.02613\n",
            "Feature: 11, Score: 0.02345\n",
            "Feature: 12, Score: 0.02108\n",
            "Feature: 13, Score: 0.01892\n",
            "Feature: 14, Score: 0.01879\n",
            "Feature: 15, Score: 0.01767\n",
            "Feature: 16, Score: 0.01586\n",
            "Feature: 17, Score: 0.01481\n",
            "Feature: 18, Score: 0.01330\n",
            "Feature: 19, Score: 0.01219\n",
            "Feature: 20, Score: 0.01091\n",
            "Feature: 21, Score: 0.00838\n",
            "Feature: 22, Score: 0.00823\n",
            "Feature: 23, Score: 0.00792\n",
            "Feature: 24, Score: 0.00597\n",
            "Feature: 25, Score: 0.00324\n",
            "Feature: 26, Score: 0.00318\n",
            "Feature: 27, Score: 0.00116\n"
          ]
        }
      ],
      "source": [
        "for i in enumerate(importances[indices]):\n",
        "\tprint('Feature: %0d, Score: %.5f' % (i))\n"
      ]
    },
    {
      "cell_type": "markdown",
      "metadata": {
        "id": "clr10drVnQjR"
      },
      "source": [
        "After geting the features importance for all the features present in our data, we collect these features by setting a threshold. In this case, we've set a threshold of median.  \n",
        "\n",
        "This means that the median of all the result we have from feature importance will be calculated and features with equal of higher i.e >= median will be chosen and the rest features will be discarded"
      ]
    },
    {
      "cell_type": "code",
      "execution_count": null,
      "metadata": {
        "colab": {
          "base_uri": "https://localhost:8080/"
        },
        "id": "WXUyxSHipvux",
        "outputId": "f3f44468-fdf1-4be0-de02-f9d96226e9fa"
      },
      "outputs": [
        {
          "output_type": "stream",
          "name": "stdout",
          "text": [
            "Length of selected features : 14\n",
            "selected features are: Index(['state', 'loc_gov', 'occup_income', 'educ', 'fuel_unav', 'cook_rainy',\n",
            "       'cook_rest', 'num_meals', 'com_size', 'stove_timeUse', 'know_clean',\n",
            "       'know_cleanAdv', 'desired_price', 'cost_fuel'],\n",
            "      dtype='object')\n"
          ]
        }
      ],
      "source": [
        "#features selection\n",
        "from sklearn.feature_selection import SelectFromModel\n",
        "\n",
        "sel = SelectFromModel(forest, threshold= 'median')\n",
        "sel.fit(x, y)\n",
        "\n",
        "selected_feat= x.columns[(sel.get_support())]\n",
        "\n",
        "print('Length of selected features :', len(selected_feat))\n",
        "print('selected features are:', selected_feat)\n"
      ]
    },
    {
      "cell_type": "markdown",
      "metadata": {
        "id": "UnxU7o8k_1aS"
      },
      "source": [
        "The above cell selected features and these features will be used to train the model"
      ]
    },
    {
      "cell_type": "code",
      "execution_count": null,
      "metadata": {
        "id": "aDqV5Xk3r29b"
      },
      "outputs": [],
      "source": [
        "X= x[['state', 'loc_gov', 'occup_income', 'educ', 'fuel_unav', 'cook_rainy',\n",
        "       'cook_rest', 'num_meals', 'com_size', 'stove_timeUse', 'know_clean',\n",
        "       'know_cleanAdv', 'desired_price', 'cost_fuel']]"
      ]
    },
    {
      "cell_type": "code",
      "execution_count": null,
      "metadata": {
        "colab": {
          "base_uri": "https://localhost:8080/",
          "height": 250
        },
        "id": "kNpCiFFvbAfP",
        "outputId": "c0ec29c5-ced2-4512-9872-5d4b6a97d64d"
      },
      "outputs": [
        {
          "output_type": "execute_result",
          "data": {
            "text/plain": [
              "   state  loc_gov  occup_income  educ  fuel_unav  cook_rainy  cook_rest  \\\n",
              "0      0        3             1     2          4           0          2   \n",
              "1      0        2             4     1          1           0          0   \n",
              "2      0        2             2     3          1           0          0   \n",
              "3      0        2             4     2          1           0          0   \n",
              "4      0        2             2     0          1           0          0   \n",
              "\n",
              "   num_meals  com_size  stove_timeUse  know_clean  know_cleanAdv  \\\n",
              "0          3      5000             60           0              0   \n",
              "1          4       650            421           1              0   \n",
              "2          4       650            698           1              0   \n",
              "3          4       650            180           1              0   \n",
              "4          4       650            439           1              0   \n",
              "\n",
              "   desired_price  cost_fuel  \n",
              "0            350       1400  \n",
              "1          10000       1800  \n",
              "2          10000       2000  \n",
              "3          10000       2000  \n",
              "4           3500       1800  "
            ],
            "text/html": [
              "\n",
              "  <div id=\"df-9947ab56-fcc1-43cc-bcc7-2b5185bb7f5f\">\n",
              "    <div class=\"colab-df-container\">\n",
              "      <div>\n",
              "<style scoped>\n",
              "    .dataframe tbody tr th:only-of-type {\n",
              "        vertical-align: middle;\n",
              "    }\n",
              "\n",
              "    .dataframe tbody tr th {\n",
              "        vertical-align: top;\n",
              "    }\n",
              "\n",
              "    .dataframe thead th {\n",
              "        text-align: right;\n",
              "    }\n",
              "</style>\n",
              "<table border=\"1\" class=\"dataframe\">\n",
              "  <thead>\n",
              "    <tr style=\"text-align: right;\">\n",
              "      <th></th>\n",
              "      <th>state</th>\n",
              "      <th>loc_gov</th>\n",
              "      <th>occup_income</th>\n",
              "      <th>educ</th>\n",
              "      <th>fuel_unav</th>\n",
              "      <th>cook_rainy</th>\n",
              "      <th>cook_rest</th>\n",
              "      <th>num_meals</th>\n",
              "      <th>com_size</th>\n",
              "      <th>stove_timeUse</th>\n",
              "      <th>know_clean</th>\n",
              "      <th>know_cleanAdv</th>\n",
              "      <th>desired_price</th>\n",
              "      <th>cost_fuel</th>\n",
              "    </tr>\n",
              "  </thead>\n",
              "  <tbody>\n",
              "    <tr>\n",
              "      <th>0</th>\n",
              "      <td>0</td>\n",
              "      <td>3</td>\n",
              "      <td>1</td>\n",
              "      <td>2</td>\n",
              "      <td>4</td>\n",
              "      <td>0</td>\n",
              "      <td>2</td>\n",
              "      <td>3</td>\n",
              "      <td>5000</td>\n",
              "      <td>60</td>\n",
              "      <td>0</td>\n",
              "      <td>0</td>\n",
              "      <td>350</td>\n",
              "      <td>1400</td>\n",
              "    </tr>\n",
              "    <tr>\n",
              "      <th>1</th>\n",
              "      <td>0</td>\n",
              "      <td>2</td>\n",
              "      <td>4</td>\n",
              "      <td>1</td>\n",
              "      <td>1</td>\n",
              "      <td>0</td>\n",
              "      <td>0</td>\n",
              "      <td>4</td>\n",
              "      <td>650</td>\n",
              "      <td>421</td>\n",
              "      <td>1</td>\n",
              "      <td>0</td>\n",
              "      <td>10000</td>\n",
              "      <td>1800</td>\n",
              "    </tr>\n",
              "    <tr>\n",
              "      <th>2</th>\n",
              "      <td>0</td>\n",
              "      <td>2</td>\n",
              "      <td>2</td>\n",
              "      <td>3</td>\n",
              "      <td>1</td>\n",
              "      <td>0</td>\n",
              "      <td>0</td>\n",
              "      <td>4</td>\n",
              "      <td>650</td>\n",
              "      <td>698</td>\n",
              "      <td>1</td>\n",
              "      <td>0</td>\n",
              "      <td>10000</td>\n",
              "      <td>2000</td>\n",
              "    </tr>\n",
              "    <tr>\n",
              "      <th>3</th>\n",
              "      <td>0</td>\n",
              "      <td>2</td>\n",
              "      <td>4</td>\n",
              "      <td>2</td>\n",
              "      <td>1</td>\n",
              "      <td>0</td>\n",
              "      <td>0</td>\n",
              "      <td>4</td>\n",
              "      <td>650</td>\n",
              "      <td>180</td>\n",
              "      <td>1</td>\n",
              "      <td>0</td>\n",
              "      <td>10000</td>\n",
              "      <td>2000</td>\n",
              "    </tr>\n",
              "    <tr>\n",
              "      <th>4</th>\n",
              "      <td>0</td>\n",
              "      <td>2</td>\n",
              "      <td>2</td>\n",
              "      <td>0</td>\n",
              "      <td>1</td>\n",
              "      <td>0</td>\n",
              "      <td>0</td>\n",
              "      <td>4</td>\n",
              "      <td>650</td>\n",
              "      <td>439</td>\n",
              "      <td>1</td>\n",
              "      <td>0</td>\n",
              "      <td>3500</td>\n",
              "      <td>1800</td>\n",
              "    </tr>\n",
              "  </tbody>\n",
              "</table>\n",
              "</div>\n",
              "      <button class=\"colab-df-convert\" onclick=\"convertToInteractive('df-9947ab56-fcc1-43cc-bcc7-2b5185bb7f5f')\"\n",
              "              title=\"Convert this dataframe to an interactive table.\"\n",
              "              style=\"display:none;\">\n",
              "        \n",
              "  <svg xmlns=\"http://www.w3.org/2000/svg\" height=\"24px\"viewBox=\"0 0 24 24\"\n",
              "       width=\"24px\">\n",
              "    <path d=\"M0 0h24v24H0V0z\" fill=\"none\"/>\n",
              "    <path d=\"M18.56 5.44l.94 2.06.94-2.06 2.06-.94-2.06-.94-.94-2.06-.94 2.06-2.06.94zm-11 1L8.5 8.5l.94-2.06 2.06-.94-2.06-.94L8.5 2.5l-.94 2.06-2.06.94zm10 10l.94 2.06.94-2.06 2.06-.94-2.06-.94-.94-2.06-.94 2.06-2.06.94z\"/><path d=\"M17.41 7.96l-1.37-1.37c-.4-.4-.92-.59-1.43-.59-.52 0-1.04.2-1.43.59L10.3 9.45l-7.72 7.72c-.78.78-.78 2.05 0 2.83L4 21.41c.39.39.9.59 1.41.59.51 0 1.02-.2 1.41-.59l7.78-7.78 2.81-2.81c.8-.78.8-2.07 0-2.86zM5.41 20L4 18.59l7.72-7.72 1.47 1.35L5.41 20z\"/>\n",
              "  </svg>\n",
              "      </button>\n",
              "      \n",
              "  <style>\n",
              "    .colab-df-container {\n",
              "      display:flex;\n",
              "      flex-wrap:wrap;\n",
              "      gap: 12px;\n",
              "    }\n",
              "\n",
              "    .colab-df-convert {\n",
              "      background-color: #E8F0FE;\n",
              "      border: none;\n",
              "      border-radius: 50%;\n",
              "      cursor: pointer;\n",
              "      display: none;\n",
              "      fill: #1967D2;\n",
              "      height: 32px;\n",
              "      padding: 0 0 0 0;\n",
              "      width: 32px;\n",
              "    }\n",
              "\n",
              "    .colab-df-convert:hover {\n",
              "      background-color: #E2EBFA;\n",
              "      box-shadow: 0px 1px 2px rgba(60, 64, 67, 0.3), 0px 1px 3px 1px rgba(60, 64, 67, 0.15);\n",
              "      fill: #174EA6;\n",
              "    }\n",
              "\n",
              "    [theme=dark] .colab-df-convert {\n",
              "      background-color: #3B4455;\n",
              "      fill: #D2E3FC;\n",
              "    }\n",
              "\n",
              "    [theme=dark] .colab-df-convert:hover {\n",
              "      background-color: #434B5C;\n",
              "      box-shadow: 0px 1px 3px 1px rgba(0, 0, 0, 0.15);\n",
              "      filter: drop-shadow(0px 1px 2px rgba(0, 0, 0, 0.3));\n",
              "      fill: #FFFFFF;\n",
              "    }\n",
              "  </style>\n",
              "\n",
              "      <script>\n",
              "        const buttonEl =\n",
              "          document.querySelector('#df-9947ab56-fcc1-43cc-bcc7-2b5185bb7f5f button.colab-df-convert');\n",
              "        buttonEl.style.display =\n",
              "          google.colab.kernel.accessAllowed ? 'block' : 'none';\n",
              "\n",
              "        async function convertToInteractive(key) {\n",
              "          const element = document.querySelector('#df-9947ab56-fcc1-43cc-bcc7-2b5185bb7f5f');\n",
              "          const dataTable =\n",
              "            await google.colab.kernel.invokeFunction('convertToInteractive',\n",
              "                                                     [key], {});\n",
              "          if (!dataTable) return;\n",
              "\n",
              "          const docLinkHtml = 'Like what you see? Visit the ' +\n",
              "            '<a target=\"_blank\" href=https://colab.research.google.com/notebooks/data_table.ipynb>data table notebook</a>'\n",
              "            + ' to learn more about interactive tables.';\n",
              "          element.innerHTML = '';\n",
              "          dataTable['output_type'] = 'display_data';\n",
              "          await google.colab.output.renderOutput(dataTable, element);\n",
              "          const docLink = document.createElement('div');\n",
              "          docLink.innerHTML = docLinkHtml;\n",
              "          element.appendChild(docLink);\n",
              "        }\n",
              "      </script>\n",
              "    </div>\n",
              "  </div>\n",
              "  "
            ]
          },
          "metadata": {},
          "execution_count": 46
        }
      ],
      "source": [
        "X.head()"
      ]
    },
    {
      "cell_type": "markdown",
      "metadata": {
        "id": "mkHlm8eGALW_"
      },
      "source": [
        "The above make a new dataframe from the selected features and these data is splitted into training and test set"
      ]
    },
    {
      "cell_type": "code",
      "execution_count": null,
      "metadata": {
        "colab": {
          "base_uri": "https://localhost:8080/"
        },
        "id": "uvm6V0C7K2s4",
        "outputId": "c0568933-0e6a-4e17-998d-0e5dbae9c230"
      },
      "outputs": [
        {
          "output_type": "execute_result",
          "data": {
            "text/plain": [
              "(430, 14)"
            ]
          },
          "metadata": {},
          "execution_count": 47
        }
      ],
      "source": [
        "X.shape"
      ]
    },
    {
      "cell_type": "code",
      "execution_count": null,
      "metadata": {
        "id": "PgTKBB4lsIPM"
      },
      "outputs": [],
      "source": [
        "from sklearn.model_selection import train_test_split\n",
        "X_train, X_test, Y_train, Y_test= train_test_split(X, y, test_size= .25, random_state= 100)"
      ]
    },
    {
      "cell_type": "markdown",
      "metadata": {
        "id": "IHXghfcvA0j2"
      },
      "source": [
        "We splitted the features and label into train and test set with at the ratio of 0.75, 0.25.\n",
        "\n",
        "75% of the data belong to the train set and 25% belong to the test set, this means 75% of the data will be used to train the model and 25% will be used to test the model performance"
      ]
    },
    {
      "cell_type": "code",
      "execution_count": null,
      "metadata": {
        "colab": {
          "base_uri": "https://localhost:8080/"
        },
        "id": "H-r44YoxsLDQ",
        "outputId": "a1b28d99-1ae3-4111-e4d2-c6f39fc5a0c2"
      },
      "outputs": [
        {
          "output_type": "stream",
          "name": "stdout",
          "text": [
            "(322, 14) (322,)\n",
            "(108, 14) (108,)\n"
          ]
        }
      ],
      "source": [
        "print(X_train.shape, Y_train.shape)\n",
        "print(X_test.shape, Y_test.shape)"
      ]
    },
    {
      "cell_type": "code",
      "execution_count": null,
      "metadata": {
        "colab": {
          "base_uri": "https://localhost:8080/"
        },
        "id": "3hgH2guEsWht",
        "outputId": "bc94d427-ae64-4279-d1d2-33fb8e0ba357"
      },
      "outputs": [
        {
          "output_type": "execute_result",
          "data": {
            "text/plain": [
              "1    88\n",
              "0    20\n",
              "Name: buy_reasCost, dtype: int64"
            ]
          },
          "metadata": {},
          "execution_count": 50
        }
      ],
      "source": [
        "Y_test.value_counts()"
      ]
    },
    {
      "cell_type": "markdown",
      "metadata": {
        "id": "xauvQqa9A--T"
      },
      "source": [
        "After splitting the data, 332 samples of the data falls in the training set while 108 falls on the test set"
      ]
    },
    {
      "cell_type": "markdown",
      "metadata": {
        "id": "BmQnnFL6BPBI"
      },
      "source": [
        "In building a model, there is always need to scale our data. This help us bring our data under the same scale.  "
      ]
    },
    {
      "cell_type": "code",
      "execution_count": null,
      "metadata": {
        "id": "dSExWOVmswhs"
      },
      "outputs": [],
      "source": [
        "from sklearn.preprocessing import StandardScaler\n",
        "scaler= StandardScaler()\n",
        "X_train= scaler.fit_transform(X_train)\n",
        "X_test= scaler.transform(X_test)"
      ]
    },
    {
      "cell_type": "markdown",
      "metadata": {
        "id": "OLpiCP9gBKbG"
      },
      "source": [
        "Standardization equation= x - mean(x)/ standard deviation(x)\n",
        "\n",
        "where\n",
        "\n",
        "x= feature x\n",
        "\n",
        "mean(x)= mean of x\n",
        "\n",
        "standard deviation of x\n",
        "\n",
        "This formula computes standardization for the fitted data, and result in 0 mean and unit variance"
      ]
    },
    {
      "cell_type": "code",
      "execution_count": null,
      "metadata": {
        "id": "Z4AiRrHns2yT"
      },
      "outputs": [],
      "source": [
        "from sklearn.tree import DecisionTreeClassifier\n",
        "model_1= DecisionTreeClassifier()\n",
        "\n",
        "model_1.fit(X_train, Y_train)\n",
        "pred1= model_1.predict(X_test)\n"
      ]
    },
    {
      "cell_type": "code",
      "execution_count": null,
      "metadata": {
        "id": "wjcJuAmLtE__"
      },
      "outputs": [],
      "source": [
        "#calculating rsquared\n",
        "\n",
        "def rsquared(y, y_pred):\n",
        "\n",
        "    ss_res = np.sum(np.power(y - y_pred, 2))\n",
        "    ss_tot = np.sum(np.power((y - (np.mean(y))), 2))\n",
        "    return (ss_tot- ss_res)/ss_tot"
      ]
    },
    {
      "cell_type": "code",
      "execution_count": null,
      "metadata": {
        "colab": {
          "base_uri": "https://localhost:8080/"
        },
        "id": "HCJrDqmXs2oM",
        "outputId": "ee3cea12-7cfc-47cb-ea15-60d943aa161d"
      },
      "outputs": [
        {
          "output_type": "stream",
          "name": "stdout",
          "text": [
            "Accuracy:  0.9074074074074074\n",
            "R_squared :  0.3863636363636364\n"
          ]
        }
      ],
      "source": [
        "from sklearn.metrics import accuracy_score, classification_report, r2_score\n",
        "print('Accuracy: ', accuracy_score(Y_test, pred1))\n",
        "\n",
        "print('R_squared : ', rsquared(Y_test, pred1))\n"
      ]
    },
    {
      "cell_type": "markdown",
      "metadata": {
        "id": "35diLFxkDwM6"
      },
      "source": [
        "The first algorithm we employ is the decisiontreeclassifier algorithm, this model give and accuarcy of 92% and a rsquared of 45%.\n",
        "\n",
        "Below is the report on the classification"
      ]
    },
    {
      "cell_type": "code",
      "execution_count": null,
      "metadata": {
        "colab": {
          "base_uri": "https://localhost:8080/"
        },
        "id": "6Kj3OVR--qd3",
        "outputId": "b7abc936-9173-4656-f642-b9565e8105ce"
      },
      "outputs": [
        {
          "output_type": "stream",
          "name": "stdout",
          "text": [
            "              precision    recall  f1-score   support\n",
            "\n",
            "           0       0.81      0.65      0.72        20\n",
            "           1       0.92      0.97      0.94        88\n",
            "\n",
            "    accuracy                           0.91       108\n",
            "   macro avg       0.87      0.81      0.83       108\n",
            "weighted avg       0.90      0.91      0.90       108\n",
            "\n"
          ]
        }
      ],
      "source": [
        "print(classification_report(Y_test, pred1))"
      ]
    },
    {
      "cell_type": "markdown",
      "metadata": {
        "id": "m7Eq71K6Imag"
      },
      "source": [
        "To optimize the perfomance of the model, the tweak the parameters, this process is called hyperparameter tunning"
      ]
    },
    {
      "cell_type": "code",
      "execution_count": null,
      "metadata": {
        "colab": {
          "base_uri": "https://localhost:8080/"
        },
        "id": "0vkhUkE7xoc0",
        "outputId": "35e1e132-d490-445a-b4c3-9f9ea4a69ef2"
      },
      "outputs": [
        {
          "output_type": "execute_result",
          "data": {
            "text/plain": [
              "GridSearchCV(cv=4, estimator=DecisionTreeClassifier(), n_jobs=-1,\n",
              "             param_grid={'criterion': ['gini', 'entropy'],\n",
              "                         'max_depth': [2, 3, 5, 10, 20],\n",
              "                         'min_samples_leaf': [5, 10, 20, 50, 100]},\n",
              "             scoring='accuracy')"
            ]
          },
          "metadata": {},
          "execution_count": 59
        }
      ],
      "source": [
        "from sklearn.model_selection import GridSearchCV\n",
        "params = {\n",
        "    'max_depth': [2, 3, 5, 10, 20],\n",
        "    'min_samples_leaf': [5, 10, 20, 50, 100],\n",
        "    'criterion': [\"gini\", \"entropy\"]\n",
        "}\n",
        "\n",
        "model1_grid = GridSearchCV(estimator=DecisionTreeClassifier(), \n",
        "                           param_grid=params, \n",
        "                           cv= 4, n_jobs=-1, scoring = \"accuracy\")\n",
        "\n",
        "model1_grid.fit(X_train, Y_train)"
      ]
    },
    {
      "cell_type": "code",
      "execution_count": null,
      "metadata": {
        "colab": {
          "base_uri": "https://localhost:8080/"
        },
        "id": "vG3jK1H_yyGz",
        "outputId": "64f485d6-3ad9-4522-8d5e-cd343b6c84f2"
      },
      "outputs": [
        {
          "output_type": "stream",
          "name": "stdout",
          "text": [
            "Accuracy:  0.9444444444444444\n",
            "R_squared :  0.6318181818181818\n"
          ]
        }
      ],
      "source": [
        "grid_pred1= model1_grid.predict(X_test)\n",
        "\n",
        "print('Accuracy: ', accuracy_score(Y_test, grid_pred1))\n",
        "\n",
        "print('R_squared : ', rsquared(Y_test, grid_pred1))"
      ]
    },
    {
      "cell_type": "code",
      "execution_count": null,
      "metadata": {
        "colab": {
          "base_uri": "https://localhost:8080/"
        },
        "id": "eQOI6dbJLimQ",
        "outputId": "2fc36be0-1e26-4448-e6ab-ac87433f4085"
      },
      "outputs": [
        {
          "name": "stdout",
          "output_type": "stream",
          "text": [
            "              precision    recall  f1-score   support\n",
            "\n",
            "           0       0.82      0.90      0.86        20\n",
            "           1       0.98      0.95      0.97        88\n",
            "\n",
            "    accuracy                           0.94       108\n",
            "   macro avg       0.90      0.93      0.91       108\n",
            "weighted avg       0.95      0.94      0.95       108\n",
            "\n"
          ]
        }
      ],
      "source": [
        "print(classification_report(Y_test, grid_pred1))"
      ]
    },
    {
      "cell_type": "markdown",
      "metadata": {
        "id": "_-gWvSXUJafv"
      },
      "source": [
        "After tunning the model parameters, we got a  better result "
      ]
    },
    {
      "cell_type": "code",
      "execution_count": null,
      "metadata": {
        "id": "_fxFbVTnznGH"
      },
      "outputs": [],
      "source": []
    },
    {
      "cell_type": "code",
      "execution_count": null,
      "metadata": {
        "id": "VTipOm-EJ4IZ"
      },
      "outputs": [],
      "source": []
    },
    {
      "cell_type": "markdown",
      "metadata": {
        "id": "FA14gSLDJ5Wx"
      },
      "source": [
        "We explore another classification algorithm to see if we have a better result. Then we explore RandomForestClassifier"
      ]
    },
    {
      "cell_type": "code",
      "execution_count": null,
      "metadata": {
        "id": "5s9Z_BsZtXU1"
      },
      "outputs": [],
      "source": [
        "from sklearn.ensemble import RandomForestClassifier\n",
        "model_2= RandomForestClassifier()\n",
        "\n",
        "model_2.fit(X_train, Y_train)\n",
        "pred2= model_2.predict(X_test)"
      ]
    },
    {
      "cell_type": "code",
      "execution_count": null,
      "metadata": {
        "colab": {
          "base_uri": "https://localhost:8080/"
        },
        "id": "t6U8lPXFtXLW",
        "outputId": "c0fe249c-b4f0-4f0a-9ea7-745e7fbae1b0"
      },
      "outputs": [
        {
          "output_type": "stream",
          "name": "stdout",
          "text": [
            "Accuracy:  0.9537037037037037\n",
            "R_squared :  0.6931818181818182\n"
          ]
        }
      ],
      "source": [
        "print('Accuracy: ', accuracy_score(Y_test, pred2))\n",
        "\n",
        "print('R_squared : ', rsquared(Y_test, pred2))"
      ]
    },
    {
      "cell_type": "code",
      "execution_count": null,
      "metadata": {
        "colab": {
          "base_uri": "https://localhost:8080/"
        },
        "id": "5NsVHz__LuN5",
        "outputId": "d08448bc-d168-49bd-da2a-ce80428dcb3c"
      },
      "outputs": [
        {
          "output_type": "stream",
          "name": "stdout",
          "text": [
            "              precision    recall  f1-score   support\n",
            "\n",
            "           0       0.89      0.85      0.87        20\n",
            "           1       0.97      0.98      0.97        88\n",
            "\n",
            "    accuracy                           0.95       108\n",
            "   macro avg       0.93      0.91      0.92       108\n",
            "weighted avg       0.95      0.95      0.95       108\n",
            "\n"
          ]
        }
      ],
      "source": [
        "print(classification_report(Y_test, pred2))"
      ]
    },
    {
      "cell_type": "markdown",
      "metadata": {
        "id": "OadI76oUKivQ"
      },
      "source": [
        "We got an accuracy of 94% and rsquared of 63%. \n",
        "\n",
        "Lets tune it parameters too to see if we can achieve a better result"
      ]
    },
    {
      "cell_type": "code",
      "execution_count": null,
      "metadata": {
        "id": "tJcN9YeSzr67"
      },
      "outputs": [],
      "source": [
        "param_grid = {\n",
        "    'bootstrap': [True],\n",
        "    'max_depth': [10,15],\n",
        "    'max_features': [2, 3],\n",
        "    'min_samples_leaf': [3, 4, 5,6],\n",
        "    'min_samples_split': [3,4,5,6]\n",
        "}\n",
        "model2_grid = GridSearchCV(RandomForestClassifier(), param_grid = param_grid, \n",
        "                          cv = 3, n_jobs = -1)\n",
        "\n",
        "model2_grid.fit(X_train, Y_train)\n",
        "model2_grid_pred= model2_grid.predict(X_test)"
      ]
    },
    {
      "cell_type": "code",
      "execution_count": null,
      "metadata": {
        "colab": {
          "base_uri": "https://localhost:8080/"
        },
        "id": "fn5hU0BOzrhL",
        "outputId": "d1edb576-21e3-4562-dfe2-b1977fda2431"
      },
      "outputs": [
        {
          "output_type": "stream",
          "name": "stdout",
          "text": [
            "Accuracy:  0.9074074074074074\n",
            "R_squared :  0.3863636363636364\n"
          ]
        }
      ],
      "source": [
        "print('Accuracy: ', accuracy_score(Y_test, model2_grid_pred))\n",
        "\n",
        "print('R_squared : ', rsquared(Y_test, model2_grid_pred))"
      ]
    },
    {
      "cell_type": "markdown",
      "metadata": {
        "id": "2jUDUzrkLAKh"
      },
      "source": [
        "An accuracy of 93% and 51% of rsquared was achieved\n",
        "\n"
      ]
    },
    {
      "cell_type": "code",
      "execution_count": null,
      "metadata": {
        "colab": {
          "base_uri": "https://localhost:8080/"
        },
        "id": "BtJNFe8GL1Rs",
        "outputId": "49f2198b-39af-44e4-d052-909e5b35e025"
      },
      "outputs": [
        {
          "output_type": "stream",
          "name": "stdout",
          "text": [
            "              precision    recall  f1-score   support\n",
            "\n",
            "           0       0.86      0.60      0.71        20\n",
            "           1       0.91      0.98      0.95        88\n",
            "\n",
            "    accuracy                           0.91       108\n",
            "   macro avg       0.89      0.79      0.83       108\n",
            "weighted avg       0.90      0.91      0.90       108\n",
            "\n"
          ]
        }
      ],
      "source": [
        "print(classification_report(Y_test, model2_grid_pred))"
      ]
    },
    {
      "cell_type": "code",
      "execution_count": null,
      "metadata": {
        "id": "JSB1rU1xLztA"
      },
      "outputs": [],
      "source": []
    },
    {
      "cell_type": "code",
      "execution_count": null,
      "metadata": {
        "id": "iEWo9C7T1la1"
      },
      "outputs": [],
      "source": []
    },
    {
      "cell_type": "code",
      "execution_count": null,
      "metadata": {
        "id": "6RzY3WtCK6FM"
      },
      "outputs": [],
      "source": []
    },
    {
      "cell_type": "markdown",
      "metadata": {
        "id": "ie3eQhdvLLgD"
      },
      "source": [
        "We explore another algorithm called support vector machine"
      ]
    },
    {
      "cell_type": "code",
      "execution_count": null,
      "metadata": {
        "id": "KoaZk55JtXCi"
      },
      "outputs": [],
      "source": [
        "from sklearn.svm import SVC\n",
        "model_3= SVC()\n",
        "\n",
        "model_3.fit(X_train, Y_train)\n",
        "pred3= model_3.predict(X_test)"
      ]
    },
    {
      "cell_type": "code",
      "execution_count": null,
      "metadata": {
        "colab": {
          "base_uri": "https://localhost:8080/"
        },
        "id": "wXBUqRKktW4A",
        "outputId": "5b925890-a979-44f3-fe87-296b1ec530ab"
      },
      "outputs": [
        {
          "output_type": "stream",
          "name": "stdout",
          "text": [
            "Accuracy:  0.9629629629629629\n",
            "R_squared :  0.7545454545454545\n"
          ]
        }
      ],
      "source": [
        "print('Accuracy: ', accuracy_score(Y_test, pred3))\n",
        "\n",
        "print('R_squared : ', rsquared(Y_test, pred3))"
      ]
    },
    {
      "cell_type": "code",
      "execution_count": null,
      "metadata": {
        "colab": {
          "base_uri": "https://localhost:8080/"
        },
        "id": "cCIXwgwJ4pC8",
        "outputId": "ca448665-b382-45bc-d4b3-261625363799"
      },
      "outputs": [
        {
          "output_type": "execute_result",
          "data": {
            "text/plain": [
              "array([0, 0, 1, 1, 1, 1, 1, 1, 1, 1, 1, 1, 1, 1, 1, 1, 1, 1, 1, 1, 1, 1,\n",
              "       1, 1, 0, 1, 1, 0, 0, 1, 1, 0, 1, 1, 1, 1, 1, 1, 1, 1, 1, 1, 1, 0,\n",
              "       1, 1, 1, 1, 1, 1, 0, 1, 0, 1, 1, 1, 0, 1, 1, 1, 1, 0, 1, 1, 1, 0,\n",
              "       1, 1, 1, 0, 1, 1, 1, 0, 1, 0, 1, 1, 0, 1, 1, 1, 1, 1, 1, 1, 1, 1,\n",
              "       1, 0, 1, 1, 0, 1, 1, 1, 1, 1, 1, 1, 1, 1, 0, 0, 1, 1, 1, 1])"
            ]
          },
          "metadata": {},
          "execution_count": 69
        }
      ],
      "source": [
        "pred3"
      ]
    },
    {
      "cell_type": "code",
      "execution_count": null,
      "metadata": {
        "colab": {
          "base_uri": "https://localhost:8080/"
        },
        "id": "jYgBtovFtWu5",
        "outputId": "1c20be41-b726-46cf-af23-0e6271c98289"
      },
      "outputs": [
        {
          "output_type": "stream",
          "name": "stdout",
          "text": [
            "              precision    recall  f1-score   support\n",
            "\n",
            "           0       0.90      0.90      0.90        20\n",
            "           1       0.98      0.98      0.98        88\n",
            "\n",
            "    accuracy                           0.96       108\n",
            "   macro avg       0.94      0.94      0.94       108\n",
            "weighted avg       0.96      0.96      0.96       108\n",
            "\n"
          ]
        }
      ],
      "source": [
        "print(classification_report(Y_test, pred3))"
      ]
    },
    {
      "cell_type": "markdown",
      "metadata": {
        "id": "t6BP7V_uMEFi"
      },
      "source": [
        "We got an accuracy of 96% and rsquared of 75%"
      ]
    },
    {
      "cell_type": "code",
      "execution_count": null,
      "metadata": {
        "id": "eiXVkfgNVRtq"
      },
      "outputs": [],
      "source": [
        "k=model_3.coef_\n",
        "#k.transpose()\n",
        "\n",
        "i=model_3.intercept_\n",
        "\n",
        "y= i+ np.dot(X_test[103], k.transpose())\n",
        "\n",
        "b= i+ np.dot(X_test[103], k.transpose())*y\n",
        "print(y,b)"
      ]
    },
    {
      "cell_type": "code",
      "execution_count": null,
      "metadata": {
        "colab": {
          "base_uri": "https://localhost:8080/",
          "height": 308
        },
        "id": "nkcLEWRqe53Y",
        "outputId": "c438b103-a16a-468b-e974-685f4d5abbd2"
      },
      "outputs": [
        {
          "data": {
            "image/png": "[encoded data removed]",
            "text/plain": [
              "<Figure size 432x288 with 2 Axes>"
            ]
          },
          "metadata": {},
          "output_type": "display_data"
        },
        {
          "data": {
            "text/plain": [
              "<Figure size 432x288 with 0 Axes>"
            ]
          },
          "metadata": {},
          "output_type": "display_data"
        }
      ],
      "source": [
        "from sklearn.metrics import confusion_matrix\n",
        "\n",
        "#Generate the confusion matrix\n",
        "cf_matrix = confusion_matrix(Y_test, pred3)\n",
        "\n",
        "ax = sns.heatmap(cf_matrix, annot=True)\n",
        "\n",
        "ax.set_xlabel('\\nPredicted Values')\n",
        "ax.set_ylabel('Actual Values ');\n",
        "\n",
        "## Ticket labels - List must be in alphabetical order\n",
        "ax.xaxis.set_ticklabels(['False','True'])\n",
        "ax.yaxis.set_ticklabels(['False','True'])\n",
        "plt.show()\n",
        "\n",
        "plt.savefig('svm.png')"
      ]
    },
    {
      "cell_type": "markdown",
      "metadata": {
        "id": "7a4OPvfqAb9n"
      },
      "source": [
        "Formula for hyperlane\n",
        "\n",
        "![image.png](data:image/png;base64,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)\n",
        "\n",
        "![image.png](data:image/png;base64,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)"
      ]
    },
    {
      "cell_type": "markdown",
      "metadata": {
        "id": "gsP1MGERsPIf"
      },
      "source": [
        "SVM tries to find the best hperlane for classification. if the equation of hyperlane is < 0 that means the classification is in one class and > 0 for the other class"
      ]
    },
    {
      "cell_type": "code",
      "execution_count": null,
      "metadata": {
        "colab": {
          "base_uri": "https://localhost:8080/"
        },
        "id": "1vsQaOd5DEmb",
        "outputId": "541b788d-926c-4415-90e6-852f782d939a"
      },
      "outputs": [
        {
          "output_type": "stream",
          "name": "stdout",
          "text": [
            "[0.63093438]\n"
          ]
        }
      ],
      "source": [
        "print(model_3.intercept_)"
      ]
    },
    {
      "cell_type": "code",
      "execution_count": null,
      "metadata": {
        "id": "mbTpGLmIwvy9"
      },
      "outputs": [],
      "source": []
    },
    {
      "cell_type": "markdown",
      "metadata": {
        "id": "jS9gGaCKwxAz"
      },
      "source": [
        "Tunning svm parameters"
      ]
    },
    {
      "cell_type": "code",
      "execution_count": null,
      "metadata": {
        "colab": {
          "base_uri": "https://localhost:8080/"
        },
        "id": "c75JSHGmuruL",
        "outputId": "fed715ed-0fa0-4d0a-cf46-3d15b0d9e437"
      },
      "outputs": [
        {
          "output_type": "execute_result",
          "data": {
            "text/plain": [
              "GridSearchCV(cv=3, estimator=SVC(), n_jobs=-1,\n",
              "             param_grid={'C': [0.1, 1, 10, 100, 1000],\n",
              "                         'gamma': [1, 0.1, 0.01, 0.001, 0.0001],\n",
              "                         'kernel': ['rbf', 'linear']})"
            ]
          },
          "metadata": {},
          "execution_count": 72
        }
      ],
      "source": [
        "param_grid = {'C': [0.1, 1, 10, 100, 1000],\n",
        "\t\t\t'gamma': [1, 0.1, 0.01, 0.001, 0.0001],\n",
        "\t\t\t'kernel': ['rbf','linear']}\n",
        "\n",
        "grid3 = GridSearchCV(SVC(), param_grid, cv=3, n_jobs=-1)\n",
        "\n",
        "grid3.fit(X_train, Y_train)\n"
      ]
    },
    {
      "cell_type": "code",
      "execution_count": null,
      "metadata": {
        "colab": {
          "base_uri": "https://localhost:8080/"
        },
        "id": "LIkZR1a4hFWo",
        "outputId": "1ef0b0a4-7d44-4ad7-c835-38c9c990b3bf"
      },
      "outputs": [
        {
          "output_type": "stream",
          "name": "stdout",
          "text": [
            "{'C': 10, 'gamma': 0.01, 'kernel': 'rbf'}\n"
          ]
        }
      ],
      "source": [
        "print(grid3.best_params_)"
      ]
    },
    {
      "cell_type": "code",
      "execution_count": null,
      "metadata": {
        "id": "JSoGJtRavMfS"
      },
      "outputs": [],
      "source": [
        "grid3_pred = grid3.predict(X_test)"
      ]
    },
    {
      "cell_type": "code",
      "execution_count": null,
      "metadata": {
        "colab": {
          "base_uri": "https://localhost:8080/"
        },
        "id": "E4TWpSwnuEvd",
        "outputId": "968d635b-208a-452d-9e85-fbd86a42a7a5"
      },
      "outputs": [
        {
          "output_type": "stream",
          "name": "stdout",
          "text": [
            "              precision    recall  f1-score   support\n",
            "\n",
            "           0       0.82      0.90      0.86        20\n",
            "           1       0.98      0.95      0.97        88\n",
            "\n",
            "    accuracy                           0.94       108\n",
            "   macro avg       0.90      0.93      0.91       108\n",
            "weighted avg       0.95      0.94      0.95       108\n",
            "\n"
          ]
        }
      ],
      "source": [
        "print(classification_report(Y_test, grid3_pred))"
      ]
    },
    {
      "cell_type": "code",
      "execution_count": null,
      "metadata": {
        "colab": {
          "base_uri": "https://localhost:8080/"
        },
        "id": "E7SX9XHuvYdg",
        "outputId": "b4314793-5202-4568-a266-a6ce878d175d"
      },
      "outputs": [
        {
          "output_type": "stream",
          "name": "stdout",
          "text": [
            "R_squared :  0.6318181818181818\n"
          ]
        }
      ],
      "source": [
        "print('R_squared : ', rsquared(Y_test, grid3_pred))"
      ]
    },
    {
      "cell_type": "code",
      "execution_count": null,
      "metadata": {
        "id": "J01-dQvWWTv4"
      },
      "outputs": [],
      "source": []
    },
    {
      "cell_type": "markdown",
      "metadata": {
        "id": "pephu2hlMfSz"
      },
      "source": [
        "Tweaking this model result in reduce in accuracy and rsquared"
      ]
    },
    {
      "cell_type": "markdown",
      "metadata": {
        "id": "FUjRcAMGNpJo"
      },
      "source": [
        "So far, we can say see that SVC with it defualt parameters works better with our data. "
      ]
    },
    {
      "cell_type": "code",
      "execution_count": null,
      "metadata": {
        "id": "BetvwBGvNmo2"
      },
      "outputs": [],
      "source": []
    },
    {
      "cell_type": "markdown",
      "metadata": {
        "id": "SXVMDJaOJa4y"
      },
      "source": [
        "#Saving model with the optimal result"
      ]
    },
    {
      "cell_type": "code",
      "execution_count": null,
      "metadata": {
        "id": "hsXiqXh23U2f"
      },
      "outputs": [],
      "source": [
        "#Saving model\n",
        "\n",
        "import pickle\n",
        "Filename = 'finalized_model.pickle'\n",
        "pickle.dump(model_3, open(Filename, 'wb'))"
      ]
    },
    {
      "cell_type": "code",
      "execution_count": null,
      "metadata": {
        "id": "lsf67cuaRoka"
      },
      "outputs": [],
      "source": [
        "# load the model from disk\n",
        "loaded_model = pickle.load(open(Filename, 'rb'))\n",
        "result = loaded_model.score(X_test, Y_test)\n",
        "print(result)"
      ]
    },
    {
      "cell_type": "markdown",
      "metadata": {
        "id": "VTYKZazrJmtH"
      },
      "source": [
        "#Regression model"
      ]
    },
    {
      "cell_type": "code",
      "execution_count": null,
      "metadata": {
        "id": "zYyG5VI8KKIn"
      },
      "outputs": [],
      "source": [
        "#seperating target variable y from x features for regression model\n",
        "x_reg= new_dff.drop('desired_price', axis= 1)\n",
        "y_reg= new_dff['desired_price']"
      ]
    },
    {
      "cell_type": "code",
      "source": [
        "x_reg.head()"
      ],
      "metadata": {
        "colab": {
          "base_uri": "https://localhost:8080/",
          "height": 300
        },
        "id": "vcQ5JymCkJ7k",
        "outputId": "3fcfaaeb-0a96-4b37-ad3f-c5a6932767e7"
      },
      "execution_count": null,
      "outputs": [
        {
          "output_type": "execute_result",
          "data": {
            "text/plain": [
              "   state  loc_gov  com_type  Hhold_cat  income_lev  occupation  occup_income  \\\n",
              "0      0        3         2          2           1           0             1   \n",
              "1      0        2         1          2           1           1             4   \n",
              "2      0        2         1          1           2           4             2   \n",
              "3      0        2         1          1           2           0             4   \n",
              "4      0        2         1          2           1           4             2   \n",
              "\n",
              "   educ  pres_stove  pres_stove_label  ...  num_meals  com_size  gender  \\\n",
              "0     2           7                 0  ...          3      5000       1   \n",
              "1     1           7                 0  ...          4       650       1   \n",
              "2     3           7                 0  ...          4       650       1   \n",
              "3     2           7                 0  ...          4       650       1   \n",
              "4     0           7                 0  ...          4       650       1   \n",
              "\n",
              "   stove_timeUse  num_cookStove  know_clean  know_cleanAdv  buy_reasCost  \\\n",
              "0             60              1           0              0             1   \n",
              "1            421              1           1              0             0   \n",
              "2            698              1           1              0             0   \n",
              "3            180              1           1              0             0   \n",
              "4            439              1           1              0             0   \n",
              "\n",
              "   govDo_more  cost_fuel  \n",
              "0           1       1400  \n",
              "1           1       1800  \n",
              "2           1       2000  \n",
              "3           1       2000  \n",
              "4           1       1800  \n",
              "\n",
              "[5 rows x 28 columns]"
            ],
            "text/html": [
              "\n",
              "  <div id=\"df-7006738f-3bb8-40f0-955f-dc3d48e1e4e4\">\n",
              "    <div class=\"colab-df-container\">\n",
              "      <div>\n",
              "<style scoped>\n",
              "    .dataframe tbody tr th:only-of-type {\n",
              "        vertical-align: middle;\n",
              "    }\n",
              "\n",
              "    .dataframe tbody tr th {\n",
              "        vertical-align: top;\n",
              "    }\n",
              "\n",
              "    .dataframe thead th {\n",
              "        text-align: right;\n",
              "    }\n",
              "</style>\n",
              "<table border=\"1\" class=\"dataframe\">\n",
              "  <thead>\n",
              "    <tr style=\"text-align: right;\">\n",
              "      <th></th>\n",
              "      <th>state</th>\n",
              "      <th>loc_gov</th>\n",
              "      <th>com_type</th>\n",
              "      <th>Hhold_cat</th>\n",
              "      <th>income_lev</th>\n",
              "      <th>occupation</th>\n",
              "      <th>occup_income</th>\n",
              "      <th>educ</th>\n",
              "      <th>pres_stove</th>\n",
              "      <th>pres_stove_label</th>\n",
              "      <th>...</th>\n",
              "      <th>num_meals</th>\n",
              "      <th>com_size</th>\n",
              "      <th>gender</th>\n",
              "      <th>stove_timeUse</th>\n",
              "      <th>num_cookStove</th>\n",
              "      <th>know_clean</th>\n",
              "      <th>know_cleanAdv</th>\n",
              "      <th>buy_reasCost</th>\n",
              "      <th>govDo_more</th>\n",
              "      <th>cost_fuel</th>\n",
              "    </tr>\n",
              "  </thead>\n",
              "  <tbody>\n",
              "    <tr>\n",
              "      <th>0</th>\n",
              "      <td>0</td>\n",
              "      <td>3</td>\n",
              "      <td>2</td>\n",
              "      <td>2</td>\n",
              "      <td>1</td>\n",
              "      <td>0</td>\n",
              "      <td>1</td>\n",
              "      <td>2</td>\n",
              "      <td>7</td>\n",
              "      <td>0</td>\n",
              "      <td>...</td>\n",
              "      <td>3</td>\n",
              "      <td>5000</td>\n",
              "      <td>1</td>\n",
              "      <td>60</td>\n",
              "      <td>1</td>\n",
              "      <td>0</td>\n",
              "      <td>0</td>\n",
              "      <td>1</td>\n",
              "      <td>1</td>\n",
              "      <td>1400</td>\n",
              "    </tr>\n",
              "    <tr>\n",
              "      <th>1</th>\n",
              "      <td>0</td>\n",
              "      <td>2</td>\n",
              "      <td>1</td>\n",
              "      <td>2</td>\n",
              "      <td>1</td>\n",
              "      <td>1</td>\n",
              "      <td>4</td>\n",
              "      <td>1</td>\n",
              "      <td>7</td>\n",
              "      <td>0</td>\n",
              "      <td>...</td>\n",
              "      <td>4</td>\n",
              "      <td>650</td>\n",
              "      <td>1</td>\n",
              "      <td>421</td>\n",
              "      <td>1</td>\n",
              "      <td>1</td>\n",
              "      <td>0</td>\n",
              "      <td>0</td>\n",
              "      <td>1</td>\n",
              "      <td>1800</td>\n",
              "    </tr>\n",
              "    <tr>\n",
              "      <th>2</th>\n",
              "      <td>0</td>\n",
              "      <td>2</td>\n",
              "      <td>1</td>\n",
              "      <td>1</td>\n",
              "      <td>2</td>\n",
              "      <td>4</td>\n",
              "      <td>2</td>\n",
              "      <td>3</td>\n",
              "      <td>7</td>\n",
              "      <td>0</td>\n",
              "      <td>...</td>\n",
              "      <td>4</td>\n",
              "      <td>650</td>\n",
              "      <td>1</td>\n",
              "      <td>698</td>\n",
              "      <td>1</td>\n",
              "      <td>1</td>\n",
              "      <td>0</td>\n",
              "      <td>0</td>\n",
              "      <td>1</td>\n",
              "      <td>2000</td>\n",
              "    </tr>\n",
              "    <tr>\n",
              "      <th>3</th>\n",
              "      <td>0</td>\n",
              "      <td>2</td>\n",
              "      <td>1</td>\n",
              "      <td>1</td>\n",
              "      <td>2</td>\n",
              "      <td>0</td>\n",
              "      <td>4</td>\n",
              "      <td>2</td>\n",
              "      <td>7</td>\n",
              "      <td>0</td>\n",
              "      <td>...</td>\n",
              "      <td>4</td>\n",
              "      <td>650</td>\n",
              "      <td>1</td>\n",
              "      <td>180</td>\n",
              "      <td>1</td>\n",
              "      <td>1</td>\n",
              "      <td>0</td>\n",
              "      <td>0</td>\n",
              "      <td>1</td>\n",
              "      <td>2000</td>\n",
              "    </tr>\n",
              "    <tr>\n",
              "      <th>4</th>\n",
              "      <td>0</td>\n",
              "      <td>2</td>\n",
              "      <td>1</td>\n",
              "      <td>2</td>\n",
              "      <td>1</td>\n",
              "      <td>4</td>\n",
              "      <td>2</td>\n",
              "      <td>0</td>\n",
              "      <td>7</td>\n",
              "      <td>0</td>\n",
              "      <td>...</td>\n",
              "      <td>4</td>\n",
              "      <td>650</td>\n",
              "      <td>1</td>\n",
              "      <td>439</td>\n",
              "      <td>1</td>\n",
              "      <td>1</td>\n",
              "      <td>0</td>\n",
              "      <td>0</td>\n",
              "      <td>1</td>\n",
              "      <td>1800</td>\n",
              "    </tr>\n",
              "  </tbody>\n",
              "</table>\n",
              "<p>5 rows × 28 columns</p>\n",
              "</div>\n",
              "      <button class=\"colab-df-convert\" onclick=\"convertToInteractive('df-7006738f-3bb8-40f0-955f-dc3d48e1e4e4')\"\n",
              "              title=\"Convert this dataframe to an interactive table.\"\n",
              "              style=\"display:none;\">\n",
              "        \n",
              "  <svg xmlns=\"http://www.w3.org/2000/svg\" height=\"24px\"viewBox=\"0 0 24 24\"\n",
              "       width=\"24px\">\n",
              "    <path d=\"M0 0h24v24H0V0z\" fill=\"none\"/>\n",
              "    <path d=\"M18.56 5.44l.94 2.06.94-2.06 2.06-.94-2.06-.94-.94-2.06-.94 2.06-2.06.94zm-11 1L8.5 8.5l.94-2.06 2.06-.94-2.06-.94L8.5 2.5l-.94 2.06-2.06.94zm10 10l.94 2.06.94-2.06 2.06-.94-2.06-.94-.94-2.06-.94 2.06-2.06.94z\"/><path d=\"M17.41 7.96l-1.37-1.37c-.4-.4-.92-.59-1.43-.59-.52 0-1.04.2-1.43.59L10.3 9.45l-7.72 7.72c-.78.78-.78 2.05 0 2.83L4 21.41c.39.39.9.59 1.41.59.51 0 1.02-.2 1.41-.59l7.78-7.78 2.81-2.81c.8-.78.8-2.07 0-2.86zM5.41 20L4 18.59l7.72-7.72 1.47 1.35L5.41 20z\"/>\n",
              "  </svg>\n",
              "      </button>\n",
              "      \n",
              "  <style>\n",
              "    .colab-df-container {\n",
              "      display:flex;\n",
              "      flex-wrap:wrap;\n",
              "      gap: 12px;\n",
              "    }\n",
              "\n",
              "    .colab-df-convert {\n",
              "      background-color: #E8F0FE;\n",
              "      border: none;\n",
              "      border-radius: 50%;\n",
              "      cursor: pointer;\n",
              "      display: none;\n",
              "      fill: #1967D2;\n",
              "      height: 32px;\n",
              "      padding: 0 0 0 0;\n",
              "      width: 32px;\n",
              "    }\n",
              "\n",
              "    .colab-df-convert:hover {\n",
              "      background-color: #E2EBFA;\n",
              "      box-shadow: 0px 1px 2px rgba(60, 64, 67, 0.3), 0px 1px 3px 1px rgba(60, 64, 67, 0.15);\n",
              "      fill: #174EA6;\n",
              "    }\n",
              "\n",
              "    [theme=dark] .colab-df-convert {\n",
              "      background-color: #3B4455;\n",
              "      fill: #D2E3FC;\n",
              "    }\n",
              "\n",
              "    [theme=dark] .colab-df-convert:hover {\n",
              "      background-color: #434B5C;\n",
              "      box-shadow: 0px 1px 3px 1px rgba(0, 0, 0, 0.15);\n",
              "      filter: drop-shadow(0px 1px 2px rgba(0, 0, 0, 0.3));\n",
              "      fill: #FFFFFF;\n",
              "    }\n",
              "  </style>\n",
              "\n",
              "      <script>\n",
              "        const buttonEl =\n",
              "          document.querySelector('#df-7006738f-3bb8-40f0-955f-dc3d48e1e4e4 button.colab-df-convert');\n",
              "        buttonEl.style.display =\n",
              "          google.colab.kernel.accessAllowed ? 'block' : 'none';\n",
              "\n",
              "        async function convertToInteractive(key) {\n",
              "          const element = document.querySelector('#df-7006738f-3bb8-40f0-955f-dc3d48e1e4e4');\n",
              "          const dataTable =\n",
              "            await google.colab.kernel.invokeFunction('convertToInteractive',\n",
              "                                                     [key], {});\n",
              "          if (!dataTable) return;\n",
              "\n",
              "          const docLinkHtml = 'Like what you see? Visit the ' +\n",
              "            '<a target=\"_blank\" href=https://colab.research.google.com/notebooks/data_table.ipynb>data table notebook</a>'\n",
              "            + ' to learn more about interactive tables.';\n",
              "          element.innerHTML = '';\n",
              "          dataTable['output_type'] = 'display_data';\n",
              "          await google.colab.output.renderOutput(dataTable, element);\n",
              "          const docLink = document.createElement('div');\n",
              "          docLink.innerHTML = docLinkHtml;\n",
              "          element.appendChild(docLink);\n",
              "        }\n",
              "      </script>\n",
              "    </div>\n",
              "  </div>\n",
              "  "
            ]
          },
          "metadata": {},
          "execution_count": 79
        }
      ]
    },
    {
      "cell_type": "code",
      "source": [
        "y_reg"
      ],
      "metadata": {
        "colab": {
          "base_uri": "https://localhost:8080/"
        },
        "id": "_IZ_AzbbkT08",
        "outputId": "afd751ed-6dec-48f3-8b98-53a96d7610b6"
      },
      "execution_count": null,
      "outputs": [
        {
          "output_type": "execute_result",
          "data": {
            "text/plain": [
              "0        350\n",
              "1      10000\n",
              "2      10000\n",
              "3      10000\n",
              "4       3500\n",
              "       ...  \n",
              "428     5000\n",
              "429     6000\n",
              "430     1000\n",
              "431     3500\n",
              "432     5000\n",
              "Name: desired_price, Length: 430, dtype: int64"
            ]
          },
          "metadata": {},
          "execution_count": 80
        }
      ]
    },
    {
      "cell_type": "code",
      "source": [],
      "metadata": {
        "id": "yWjiNnSXktAI"
      },
      "execution_count": null,
      "outputs": []
    },
    {
      "cell_type": "code",
      "source": [],
      "metadata": {
        "id": "on255syqkrfv"
      },
      "execution_count": null,
      "outputs": []
    },
    {
      "cell_type": "code",
      "execution_count": null,
      "metadata": {
        "colab": {
          "base_uri": "https://localhost:8080/",
          "height": 338
        },
        "id": "0CTcnuAHLrgK",
        "outputId": "474843ba-db58-4d95-f867-bc7d5f690c76"
      },
      "outputs": [
        {
          "output_type": "display_data",
          "data": {
            "text/plain": [
              "<Figure size 432x288 with 1 Axes>"
            ],
            "image/png": "[encoded data removed]"
          },
          "metadata": {
            "needs_background": "light"
          }
        }
      ],
      "source": [
        "from sklearn.ensemble import RandomForestClassifier\n",
        "forest= RandomForestClassifier(n_estimators= 100, random_state= 42)\n",
        "\n",
        "forest.fit(x_reg , y_reg)\n",
        "\n",
        "importance= forest.feature_importances_\n",
        "indi= np.argsort(importances)[::-1]\n",
        "plt.ylabel('Feature importances')\n",
        "plt.bar(range(x.shape[1]), importances[indi], align='center')\n",
        "ft_labels= x_reg.columns[:]\n",
        "\n",
        "plt.xticks(range(x_reg.shape[1]), ft_labels[indi], rotation=90)\n",
        "plt.xlim([-1, x_reg.shape[1]])\n",
        "\n",
        "plt.savefig('feature_impotance_reg.png')"
      ]
    },
    {
      "cell_type": "code",
      "execution_count": null,
      "metadata": {
        "colab": {
          "base_uri": "https://localhost:8080/"
        },
        "id": "Wa1X0foqMrWs",
        "outputId": "242fe494-76d2-4654-c262-6493be830be8"
      },
      "outputs": [
        {
          "output_type": "stream",
          "name": "stdout",
          "text": [
            "Feature: 0, Score: 0.12303\n",
            "Feature: 1, Score: 0.10179\n",
            "Feature: 2, Score: 0.07519\n",
            "Feature: 3, Score: 0.05636\n",
            "Feature: 4, Score: 0.05635\n",
            "Feature: 5, Score: 0.05529\n",
            "Feature: 6, Score: 0.05477\n",
            "Feature: 7, Score: 0.05106\n",
            "Feature: 8, Score: 0.03656\n",
            "Feature: 9, Score: 0.03309\n",
            "Feature: 10, Score: 0.03177\n",
            "Feature: 11, Score: 0.03100\n",
            "Feature: 12, Score: 0.03086\n",
            "Feature: 13, Score: 0.03064\n",
            "Feature: 14, Score: 0.02936\n",
            "Feature: 15, Score: 0.02806\n",
            "Feature: 16, Score: 0.02546\n",
            "Feature: 17, Score: 0.02293\n",
            "Feature: 18, Score: 0.02088\n",
            "Feature: 19, Score: 0.01800\n",
            "Feature: 20, Score: 0.01784\n",
            "Feature: 21, Score: 0.01725\n",
            "Feature: 22, Score: 0.01548\n",
            "Feature: 23, Score: 0.01323\n",
            "Feature: 24, Score: 0.01208\n",
            "Feature: 25, Score: 0.00691\n",
            "Feature: 26, Score: 0.00405\n",
            "Feature: 27, Score: 0.00071\n"
          ]
        }
      ],
      "source": [
        "for i in enumerate(importance[indi]):\n",
        "\tprint('Feature: %0d, Score: %.5f' % (i))"
      ]
    },
    {
      "cell_type": "code",
      "execution_count": null,
      "metadata": {
        "colab": {
          "base_uri": "https://localhost:8080/"
        },
        "id": "UvcJ04m4L96D",
        "outputId": "b8ad7fa1-34f3-41b1-a5a7-7d79cc700e4d"
      },
      "outputs": [
        {
          "output_type": "stream",
          "name": "stdout",
          "text": [
            "Length of selected features : 14\n",
            "selected features are: Index(['state', 'loc_gov', 'Hhold_cat', 'occupation', 'occup_income', 'educ',\n",
            "       'fuel_unav', 'cook_rainy', 'cook_harma', 'cook_rest', 'com_size',\n",
            "       'stove_timeUse', 'know_clean', 'cost_fuel'],\n",
            "      dtype='object')\n"
          ]
        }
      ],
      "source": [
        "#features selection\n",
        "from sklearn.feature_selection import SelectFromModel\n",
        "\n",
        "slt = SelectFromModel(forest, threshold= 'median')\n",
        "slt.fit(x_reg, y_reg)\n",
        "\n",
        "selec_feat= x_reg.columns[(slt.get_support())]\n",
        "\n",
        "print('Length of selected features :', len(selec_feat))\n",
        "print('selected features are:', selec_feat)"
      ]
    },
    {
      "cell_type": "code",
      "execution_count": null,
      "metadata": {
        "id": "WSYZ2lBeNTLl"
      },
      "outputs": [],
      "source": [
        "X_reg= new_dff[['state', 'loc_gov', 'Hhold_cat', 'occupation', 'occup_income', 'educ',\n",
        "       'fuel_unav', 'cook_rainy', 'cook_harma', 'cook_rest', 'com_size',\n",
        "       'stove_timeUse', 'know_clean', 'cost_fuel','desired_price']]"
      ]
    },
    {
      "cell_type": "code",
      "source": [
        "X_reg.head()"
      ],
      "metadata": {
        "colab": {
          "base_uri": "https://localhost:8080/",
          "height": 270
        },
        "id": "S6dTbuWKxAWk",
        "outputId": "a81d8030-82e6-4be4-ec84-96da27273669"
      },
      "execution_count": null,
      "outputs": [
        {
          "output_type": "execute_result",
          "data": {
            "text/plain": [
              "   state  loc_gov  Hhold_cat  occupation  occup_income  educ  fuel_unav  \\\n",
              "0      0        3          2           0             1     2          4   \n",
              "1      0        2          2           1             4     1          1   \n",
              "2      0        2          1           4             2     3          1   \n",
              "3      0        2          1           0             4     2          1   \n",
              "4      0        2          2           4             2     0          1   \n",
              "\n",
              "   cook_rainy  cook_harma  cook_rest  com_size  stove_timeUse  know_clean  \\\n",
              "0           0           0          2      5000             60           0   \n",
              "1           0           4          0       650            421           1   \n",
              "2           0           4          0       650            698           1   \n",
              "3           0           4          0       650            180           1   \n",
              "4           0           4          0       650            439           1   \n",
              "\n",
              "   cost_fuel  desired_price  \n",
              "0       1400            350  \n",
              "1       1800          10000  \n",
              "2       2000          10000  \n",
              "3       2000          10000  \n",
              "4       1800           3500  "
            ],
            "text/html": [
              "\n",
              "  <div id=\"df-2f6268ed-3fe0-4c0a-93c5-5386b40b1a50\">\n",
              "    <div class=\"colab-df-container\">\n",
              "      <div>\n",
              "<style scoped>\n",
              "    .dataframe tbody tr th:only-of-type {\n",
              "        vertical-align: middle;\n",
              "    }\n",
              "\n",
              "    .dataframe tbody tr th {\n",
              "        vertical-align: top;\n",
              "    }\n",
              "\n",
              "    .dataframe thead th {\n",
              "        text-align: right;\n",
              "    }\n",
              "</style>\n",
              "<table border=\"1\" class=\"dataframe\">\n",
              "  <thead>\n",
              "    <tr style=\"text-align: right;\">\n",
              "      <th></th>\n",
              "      <th>state</th>\n",
              "      <th>loc_gov</th>\n",
              "      <th>Hhold_cat</th>\n",
              "      <th>occupation</th>\n",
              "      <th>occup_income</th>\n",
              "      <th>educ</th>\n",
              "      <th>fuel_unav</th>\n",
              "      <th>cook_rainy</th>\n",
              "      <th>cook_harma</th>\n",
              "      <th>cook_rest</th>\n",
              "      <th>com_size</th>\n",
              "      <th>stove_timeUse</th>\n",
              "      <th>know_clean</th>\n",
              "      <th>cost_fuel</th>\n",
              "      <th>desired_price</th>\n",
              "    </tr>\n",
              "  </thead>\n",
              "  <tbody>\n",
              "    <tr>\n",
              "      <th>0</th>\n",
              "      <td>0</td>\n",
              "      <td>3</td>\n",
              "      <td>2</td>\n",
              "      <td>0</td>\n",
              "      <td>1</td>\n",
              "      <td>2</td>\n",
              "      <td>4</td>\n",
              "      <td>0</td>\n",
              "      <td>0</td>\n",
              "      <td>2</td>\n",
              "      <td>5000</td>\n",
              "      <td>60</td>\n",
              "      <td>0</td>\n",
              "      <td>1400</td>\n",
              "      <td>350</td>\n",
              "    </tr>\n",
              "    <tr>\n",
              "      <th>1</th>\n",
              "      <td>0</td>\n",
              "      <td>2</td>\n",
              "      <td>2</td>\n",
              "      <td>1</td>\n",
              "      <td>4</td>\n",
              "      <td>1</td>\n",
              "      <td>1</td>\n",
              "      <td>0</td>\n",
              "      <td>4</td>\n",
              "      <td>0</td>\n",
              "      <td>650</td>\n",
              "      <td>421</td>\n",
              "      <td>1</td>\n",
              "      <td>1800</td>\n",
              "      <td>10000</td>\n",
              "    </tr>\n",
              "    <tr>\n",
              "      <th>2</th>\n",
              "      <td>0</td>\n",
              "      <td>2</td>\n",
              "      <td>1</td>\n",
              "      <td>4</td>\n",
              "      <td>2</td>\n",
              "      <td>3</td>\n",
              "      <td>1</td>\n",
              "      <td>0</td>\n",
              "      <td>4</td>\n",
              "      <td>0</td>\n",
              "      <td>650</td>\n",
              "      <td>698</td>\n",
              "      <td>1</td>\n",
              "      <td>2000</td>\n",
              "      <td>10000</td>\n",
              "    </tr>\n",
              "    <tr>\n",
              "      <th>3</th>\n",
              "      <td>0</td>\n",
              "      <td>2</td>\n",
              "      <td>1</td>\n",
              "      <td>0</td>\n",
              "      <td>4</td>\n",
              "      <td>2</td>\n",
              "      <td>1</td>\n",
              "      <td>0</td>\n",
              "      <td>4</td>\n",
              "      <td>0</td>\n",
              "      <td>650</td>\n",
              "      <td>180</td>\n",
              "      <td>1</td>\n",
              "      <td>2000</td>\n",
              "      <td>10000</td>\n",
              "    </tr>\n",
              "    <tr>\n",
              "      <th>4</th>\n",
              "      <td>0</td>\n",
              "      <td>2</td>\n",
              "      <td>2</td>\n",
              "      <td>4</td>\n",
              "      <td>2</td>\n",
              "      <td>0</td>\n",
              "      <td>1</td>\n",
              "      <td>0</td>\n",
              "      <td>4</td>\n",
              "      <td>0</td>\n",
              "      <td>650</td>\n",
              "      <td>439</td>\n",
              "      <td>1</td>\n",
              "      <td>1800</td>\n",
              "      <td>3500</td>\n",
              "    </tr>\n",
              "  </tbody>\n",
              "</table>\n",
              "</div>\n",
              "      <button class=\"colab-df-convert\" onclick=\"convertToInteractive('df-2f6268ed-3fe0-4c0a-93c5-5386b40b1a50')\"\n",
              "              title=\"Convert this dataframe to an interactive table.\"\n",
              "              style=\"display:none;\">\n",
              "        \n",
              "  <svg xmlns=\"http://www.w3.org/2000/svg\" height=\"24px\"viewBox=\"0 0 24 24\"\n",
              "       width=\"24px\">\n",
              "    <path d=\"M0 0h24v24H0V0z\" fill=\"none\"/>\n",
              "    <path d=\"M18.56 5.44l.94 2.06.94-2.06 2.06-.94-2.06-.94-.94-2.06-.94 2.06-2.06.94zm-11 1L8.5 8.5l.94-2.06 2.06-.94-2.06-.94L8.5 2.5l-.94 2.06-2.06.94zm10 10l.94 2.06.94-2.06 2.06-.94-2.06-.94-.94-2.06-.94 2.06-2.06.94z\"/><path d=\"M17.41 7.96l-1.37-1.37c-.4-.4-.92-.59-1.43-.59-.52 0-1.04.2-1.43.59L10.3 9.45l-7.72 7.72c-.78.78-.78 2.05 0 2.83L4 21.41c.39.39.9.59 1.41.59.51 0 1.02-.2 1.41-.59l7.78-7.78 2.81-2.81c.8-.78.8-2.07 0-2.86zM5.41 20L4 18.59l7.72-7.72 1.47 1.35L5.41 20z\"/>\n",
              "  </svg>\n",
              "      </button>\n",
              "      \n",
              "  <style>\n",
              "    .colab-df-container {\n",
              "      display:flex;\n",
              "      flex-wrap:wrap;\n",
              "      gap: 12px;\n",
              "    }\n",
              "\n",
              "    .colab-df-convert {\n",
              "      background-color: #E8F0FE;\n",
              "      border: none;\n",
              "      border-radius: 50%;\n",
              "      cursor: pointer;\n",
              "      display: none;\n",
              "      fill: #1967D2;\n",
              "      height: 32px;\n",
              "      padding: 0 0 0 0;\n",
              "      width: 32px;\n",
              "    }\n",
              "\n",
              "    .colab-df-convert:hover {\n",
              "      background-color: #E2EBFA;\n",
              "      box-shadow: 0px 1px 2px rgba(60, 64, 67, 0.3), 0px 1px 3px 1px rgba(60, 64, 67, 0.15);\n",
              "      fill: #174EA6;\n",
              "    }\n",
              "\n",
              "    [theme=dark] .colab-df-convert {\n",
              "      background-color: #3B4455;\n",
              "      fill: #D2E3FC;\n",
              "    }\n",
              "\n",
              "    [theme=dark] .colab-df-convert:hover {\n",
              "      background-color: #434B5C;\n",
              "      box-shadow: 0px 1px 3px 1px rgba(0, 0, 0, 0.15);\n",
              "      filter: drop-shadow(0px 1px 2px rgba(0, 0, 0, 0.3));\n",
              "      fill: #FFFFFF;\n",
              "    }\n",
              "  </style>\n",
              "\n",
              "      <script>\n",
              "        const buttonEl =\n",
              "          document.querySelector('#df-2f6268ed-3fe0-4c0a-93c5-5386b40b1a50 button.colab-df-convert');\n",
              "        buttonEl.style.display =\n",
              "          google.colab.kernel.accessAllowed ? 'block' : 'none';\n",
              "\n",
              "        async function convertToInteractive(key) {\n",
              "          const element = document.querySelector('#df-2f6268ed-3fe0-4c0a-93c5-5386b40b1a50');\n",
              "          const dataTable =\n",
              "            await google.colab.kernel.invokeFunction('convertToInteractive',\n",
              "                                                     [key], {});\n",
              "          if (!dataTable) return;\n",
              "\n",
              "          const docLinkHtml = 'Like what you see? Visit the ' +\n",
              "            '<a target=\"_blank\" href=https://colab.research.google.com/notebooks/data_table.ipynb>data table notebook</a>'\n",
              "            + ' to learn more about interactive tables.';\n",
              "          element.innerHTML = '';\n",
              "          dataTable['output_type'] = 'display_data';\n",
              "          await google.colab.output.renderOutput(dataTable, element);\n",
              "          const docLink = document.createElement('div');\n",
              "          docLink.innerHTML = docLinkHtml;\n",
              "          element.appendChild(docLink);\n",
              "        }\n",
              "      </script>\n",
              "    </div>\n",
              "  </div>\n",
              "  "
            ]
          },
          "metadata": {},
          "execution_count": 162
        }
      ]
    },
    {
      "cell_type": "code",
      "source": [
        "#plotting the correlation between variable\n",
        "\n",
        "mask= np.zeros_like(X_reg.corr())\n",
        "\n",
        "mask[np.triu_indices_from(mask)] = True\n",
        "with sns.axes_style(\"white\"):\n",
        "    fig, ax = plt.subplots(figsize=(7, 8))\n",
        "    ax = sns.heatmap(X_reg.corr(), annot= True,annot_kws= {'size':10},\n",
        "                 mask=mask, square=True,linewidths= .5, fmt= '.1f')#,vmin=-0.08, vmax=0.24)"
      ],
      "metadata": {
        "colab": {
          "base_uri": "https://localhost:8080/",
          "height": 485
        },
        "id": "px4BFX4oxET4",
        "outputId": "60e907ad-79a1-4e73-c9fc-53a8cf5cd2b1"
      },
      "execution_count": null,
      "outputs": [
        {
          "output_type": "display_data",
          "data": {
            "text/plain": [
              "<Figure size 504x576 with 2 Axes>"
            ],
            "image/png": "[encoded data removed]"
          },
          "metadata": {}
        }
      ]
    },
    {
      "cell_type": "code",
      "execution_count": null,
      "metadata": {
        "id": "Ior_PTPYNuRE"
      },
      "outputs": [],
      "source": [
        "y_reg"
      ]
    },
    {
      "cell_type": "code",
      "source": [
        "t= X_reg[['state','loc_gov','desired_price']]\n",
        "\n",
        "t_x= t.drop('desired_price', axis= 1)\n",
        "t_y= t['desired_price']"
      ],
      "metadata": {
        "id": "H0waoV7G0s-8"
      },
      "execution_count": null,
      "outputs": []
    },
    {
      "cell_type": "code",
      "source": [
        "t_y"
      ],
      "metadata": {
        "id": "-RxEK4iX1JNc"
      },
      "execution_count": null,
      "outputs": []
    },
    {
      "cell_type": "code",
      "execution_count": null,
      "metadata": {
        "id": "mV45w1wQNHzz"
      },
      "outputs": [],
      "source": [
        "from sklearn.model_selection import train_test_split\n",
        "Xr_train, Xr_test, Yr_train, Yr_test= train_test_split(t_x, t_y, test_size= .25, random_state= 100)"
      ]
    },
    {
      "cell_type": "code",
      "source": [
        "Xr_train.head()"
      ],
      "metadata": {
        "colab": {
          "base_uri": "https://localhost:8080/",
          "height": 206
        },
        "id": "mP3wOdBnqKn6",
        "outputId": "4c130961-b511-45c1-d85a-255e75aa0f86"
      },
      "execution_count": null,
      "outputs": [
        {
          "output_type": "execute_result",
          "data": {
            "text/plain": [
              "     state  loc_gov\n",
              "118      0        2\n",
              "150      1        6\n",
              "158      1        6\n",
              "400      2        9\n",
              "218      1        6"
            ],
            "text/html": [
              "\n",
              "  <div id=\"df-09604507-6d75-49b0-baaa-e190af4d9ba3\">\n",
              "    <div class=\"colab-df-container\">\n",
              "      <div>\n",
              "<style scoped>\n",
              "    .dataframe tbody tr th:only-of-type {\n",
              "        vertical-align: middle;\n",
              "    }\n",
              "\n",
              "    .dataframe tbody tr th {\n",
              "        vertical-align: top;\n",
              "    }\n",
              "\n",
              "    .dataframe thead th {\n",
              "        text-align: right;\n",
              "    }\n",
              "</style>\n",
              "<table border=\"1\" class=\"dataframe\">\n",
              "  <thead>\n",
              "    <tr style=\"text-align: right;\">\n",
              "      <th></th>\n",
              "      <th>state</th>\n",
              "      <th>loc_gov</th>\n",
              "    </tr>\n",
              "  </thead>\n",
              "  <tbody>\n",
              "    <tr>\n",
              "      <th>118</th>\n",
              "      <td>0</td>\n",
              "      <td>2</td>\n",
              "    </tr>\n",
              "    <tr>\n",
              "      <th>150</th>\n",
              "      <td>1</td>\n",
              "      <td>6</td>\n",
              "    </tr>\n",
              "    <tr>\n",
              "      <th>158</th>\n",
              "      <td>1</td>\n",
              "      <td>6</td>\n",
              "    </tr>\n",
              "    <tr>\n",
              "      <th>400</th>\n",
              "      <td>2</td>\n",
              "      <td>9</td>\n",
              "    </tr>\n",
              "    <tr>\n",
              "      <th>218</th>\n",
              "      <td>1</td>\n",
              "      <td>6</td>\n",
              "    </tr>\n",
              "  </tbody>\n",
              "</table>\n",
              "</div>\n",
              "      <button class=\"colab-df-convert\" onclick=\"convertToInteractive('df-09604507-6d75-49b0-baaa-e190af4d9ba3')\"\n",
              "              title=\"Convert this dataframe to an interactive table.\"\n",
              "              style=\"display:none;\">\n",
              "        \n",
              "  <svg xmlns=\"http://www.w3.org/2000/svg\" height=\"24px\"viewBox=\"0 0 24 24\"\n",
              "       width=\"24px\">\n",
              "    <path d=\"M0 0h24v24H0V0z\" fill=\"none\"/>\n",
              "    <path d=\"M18.56 5.44l.94 2.06.94-2.06 2.06-.94-2.06-.94-.94-2.06-.94 2.06-2.06.94zm-11 1L8.5 8.5l.94-2.06 2.06-.94-2.06-.94L8.5 2.5l-.94 2.06-2.06.94zm10 10l.94 2.06.94-2.06 2.06-.94-2.06-.94-.94-2.06-.94 2.06-2.06.94z\"/><path d=\"M17.41 7.96l-1.37-1.37c-.4-.4-.92-.59-1.43-.59-.52 0-1.04.2-1.43.59L10.3 9.45l-7.72 7.72c-.78.78-.78 2.05 0 2.83L4 21.41c.39.39.9.59 1.41.59.51 0 1.02-.2 1.41-.59l7.78-7.78 2.81-2.81c.8-.78.8-2.07 0-2.86zM5.41 20L4 18.59l7.72-7.72 1.47 1.35L5.41 20z\"/>\n",
              "  </svg>\n",
              "      </button>\n",
              "      \n",
              "  <style>\n",
              "    .colab-df-container {\n",
              "      display:flex;\n",
              "      flex-wrap:wrap;\n",
              "      gap: 12px;\n",
              "    }\n",
              "\n",
              "    .colab-df-convert {\n",
              "      background-color: #E8F0FE;\n",
              "      border: none;\n",
              "      border-radius: 50%;\n",
              "      cursor: pointer;\n",
              "      display: none;\n",
              "      fill: #1967D2;\n",
              "      height: 32px;\n",
              "      padding: 0 0 0 0;\n",
              "      width: 32px;\n",
              "    }\n",
              "\n",
              "    .colab-df-convert:hover {\n",
              "      background-color: #E2EBFA;\n",
              "      box-shadow: 0px 1px 2px rgba(60, 64, 67, 0.3), 0px 1px 3px 1px rgba(60, 64, 67, 0.15);\n",
              "      fill: #174EA6;\n",
              "    }\n",
              "\n",
              "    [theme=dark] .colab-df-convert {\n",
              "      background-color: #3B4455;\n",
              "      fill: #D2E3FC;\n",
              "    }\n",
              "\n",
              "    [theme=dark] .colab-df-convert:hover {\n",
              "      background-color: #434B5C;\n",
              "      box-shadow: 0px 1px 3px 1px rgba(0, 0, 0, 0.15);\n",
              "      filter: drop-shadow(0px 1px 2px rgba(0, 0, 0, 0.3));\n",
              "      fill: #FFFFFF;\n",
              "    }\n",
              "  </style>\n",
              "\n",
              "      <script>\n",
              "        const buttonEl =\n",
              "          document.querySelector('#df-09604507-6d75-49b0-baaa-e190af4d9ba3 button.colab-df-convert');\n",
              "        buttonEl.style.display =\n",
              "          google.colab.kernel.accessAllowed ? 'block' : 'none';\n",
              "\n",
              "        async function convertToInteractive(key) {\n",
              "          const element = document.querySelector('#df-09604507-6d75-49b0-baaa-e190af4d9ba3');\n",
              "          const dataTable =\n",
              "            await google.colab.kernel.invokeFunction('convertToInteractive',\n",
              "                                                     [key], {});\n",
              "          if (!dataTable) return;\n",
              "\n",
              "          const docLinkHtml = 'Like what you see? Visit the ' +\n",
              "            '<a target=\"_blank\" href=https://colab.research.google.com/notebooks/data_table.ipynb>data table notebook</a>'\n",
              "            + ' to learn more about interactive tables.';\n",
              "          element.innerHTML = '';\n",
              "          dataTable['output_type'] = 'display_data';\n",
              "          await google.colab.output.renderOutput(dataTable, element);\n",
              "          const docLink = document.createElement('div');\n",
              "          docLink.innerHTML = docLinkHtml;\n",
              "          element.appendChild(docLink);\n",
              "        }\n",
              "      </script>\n",
              "    </div>\n",
              "  </div>\n",
              "  "
            ]
          },
          "metadata": {},
          "execution_count": 175
        }
      ]
    },
    {
      "cell_type": "code",
      "source": [],
      "metadata": {
        "id": "W5VMyQZzwok-"
      },
      "execution_count": null,
      "outputs": []
    },
    {
      "cell_type": "code",
      "execution_count": null,
      "metadata": {
        "id": "h_DbPQoJOjkY"
      },
      "outputs": [],
      "source": [
        "from sklearn.preprocessing import StandardScaler\n",
        "scaler= StandardScaler()\n",
        "Xr_train= scaler.fit_transform(Xr_train)\n",
        "Xr_test= scaler.transform(Xr_test)"
      ]
    },
    {
      "cell_type": "code",
      "source": [
        "from sklearn.decomposition import PCA\n",
        "pca= PCA(.85)\n",
        "pca.fit(Xr_train)"
      ],
      "metadata": {
        "colab": {
          "base_uri": "https://localhost:8080/"
        },
        "id": "n8fwq3pxlnTd",
        "outputId": "13403722-aebe-4714-df50-c02019bbbc55"
      },
      "execution_count": null,
      "outputs": [
        {
          "output_type": "execute_result",
          "data": {
            "text/plain": [
              "PCA(n_components=0.85)"
            ]
          },
          "metadata": {},
          "execution_count": 138
        }
      ]
    },
    {
      "cell_type": "code",
      "source": [
        "pca.n_components_"
      ],
      "metadata": {
        "colab": {
          "base_uri": "https://localhost:8080/"
        },
        "id": "00pMuhXplu5f",
        "outputId": "bfe41dc9-2c24-45e0-d720-dc3cb966b244"
      },
      "execution_count": null,
      "outputs": [
        {
          "output_type": "execute_result",
          "data": {
            "text/plain": [
              "7"
            ]
          },
          "metadata": {},
          "execution_count": 139
        }
      ]
    },
    {
      "cell_type": "code",
      "source": [
        "pca.transform(Xr_train)\n",
        "pca.transform(Xr_test)"
      ],
      "metadata": {
        "colab": {
          "base_uri": "https://localhost:8080/"
        },
        "id": "rv7KGBplnMdj",
        "outputId": "d7f4bc34-5958-426b-aeb6-2b6fbd3c4f98"
      },
      "execution_count": null,
      "outputs": [
        {
          "output_type": "execute_result",
          "data": {
            "text/plain": [
              "array([[ 3.83452652e-01, -1.49634189e+00,  8.72868589e-02,\n",
              "        -3.62438099e-01,  4.72988210e-01, -2.96344742e-01,\n",
              "         1.08307733e+00],\n",
              "       [ 2.23598471e-01, -2.13136385e+00, -1.41791744e+00,\n",
              "         1.94898692e+00,  1.15313588e+00, -9.00351461e-01,\n",
              "        -8.30963574e-01],\n",
              "       [-2.16375546e+00, -3.45702915e-01,  2.86155785e-01,\n",
              "         6.42847192e-01, -7.88055531e-01, -2.75826504e-01,\n",
              "        -3.55639648e-01],\n",
              "       [ 4.85559447e-02, -1.91480444e+00, -1.19064420e+00,\n",
              "         2.37151194e+00,  4.66313482e-01,  4.83290132e-01,\n",
              "        -6.71610143e-02],\n",
              "       [-2.27393792e+00,  2.08371517e+00,  2.68781793e+00,\n",
              "         1.69781037e+00,  2.65451764e+00,  4.76387855e-01,\n",
              "         8.87693517e-01],\n",
              "       [ 1.43048097e+00, -1.04276904e+00, -4.85735113e-02,\n",
              "         4.62496018e-01, -3.56314353e-02,  9.16134843e-01,\n",
              "         1.28297991e+00],\n",
              "       [ 6.61950573e-01,  2.16852930e+00, -2.06086107e+00,\n",
              "        -1.14254461e-01,  4.71088103e-01,  7.96356897e-01,\n",
              "        -2.75738169e-01],\n",
              "       [-2.10915861e+00, -4.18701044e-01,  5.01906457e-01,\n",
              "         3.58291501e-01, -7.25061322e-01,  4.34077769e-01,\n",
              "         1.49941119e-01],\n",
              "       [ 1.96082951e+00, -1.10268816e+00,  5.36886708e-01,\n",
              "        -4.14018422e-01,  3.99397908e-01,  2.04815282e-01,\n",
              "         2.35751994e-01],\n",
              "       [-2.15297937e-01, -2.47647603e-01,  6.75364395e-01,\n",
              "        -4.14343036e-02, -1.02970067e-01,  7.67916594e-03,\n",
              "        -6.79908930e-01],\n",
              "       [-1.12034994e+00,  3.18137792e-01, -1.92643183e+00,\n",
              "         8.00411289e-01,  2.73628107e-01,  8.97402911e-01,\n",
              "         3.44320501e-02],\n",
              "       [ 1.43307790e+00,  2.95466540e-01, -1.13926681e+00,\n",
              "         4.39055756e-01,  2.15719685e-03,  1.21264674e-01,\n",
              "         3.38051844e-01],\n",
              "       [-3.56228419e-01,  7.74725506e-01, -1.14366322e+00,\n",
              "         9.88106069e-01, -9.64737392e-01,  7.47983984e-01,\n",
              "         8.68145801e-01],\n",
              "       [ 3.23304938e-01, -6.61580173e-01, -1.28541489e+00,\n",
              "        -8.34048902e-01,  1.87059673e+00, -2.21564011e-01,\n",
              "        -7.86132741e-01],\n",
              "       [-7.67172413e-01,  5.95590893e-01,  1.79803605e-03,\n",
              "        -1.08858339e-01, -7.34738309e-01, -2.10595185e-01,\n",
              "        -2.29634646e-01],\n",
              "       [-5.94519601e-01,  8.30129599e-01,  6.16050232e-01,\n",
              "         8.71395526e-01, -1.41719755e+00, -5.01896315e-01,\n",
              "        -1.11447138e+00],\n",
              "       [-2.87607501e-01, -2.23390327e+00,  2.05860950e-01,\n",
              "         4.90992841e-02,  9.56647121e-01, -1.35651336e+00,\n",
              "        -3.20239927e-01],\n",
              "       [ 1.30582510e+00,  9.44282108e-01, -1.13299778e+00,\n",
              "        -1.25766669e+00,  5.15825008e-01, -1.92999626e-01,\n",
              "         5.72827580e-01],\n",
              "       [-1.00852772e+00, -7.87138998e-01,  2.16047692e-01,\n",
              "         6.32764813e-01, -5.71242000e-01, -6.09350474e-01,\n",
              "         3.06267273e-01],\n",
              "       [-9.58403400e-01,  5.52699557e-01, -2.33104062e-03,\n",
              "        -9.43561846e-01,  5.93933192e-01, -9.27732633e-01,\n",
              "        -1.22277855e+00],\n",
              "       [-2.21444979e+00, -1.11212695e+00,  1.29313836e-01,\n",
              "        -5.35176389e-01,  2.49350839e-01,  1.90061164e-01,\n",
              "         4.09400860e-01],\n",
              "       [-1.97910997e+00, -9.08504091e-01,  1.32311250e-01,\n",
              "        -4.20801374e-01,  1.28763761e-01, -7.92917240e-02,\n",
              "         1.64381512e-01],\n",
              "       [ 3.32841749e-01,  2.77322723e-01, -1.05830454e-01,\n",
              "        -5.08618738e-01, -4.91288055e-01,  5.93493787e-01,\n",
              "         1.73218368e+00],\n",
              "       [ 1.04390621e+00,  6.81990024e-01,  2.95359960e-01,\n",
              "        -6.55533282e-01, -7.24464135e-01,  7.59868110e-01,\n",
              "         3.30796569e-01],\n",
              "       [ 1.85004111e+00, -1.49703092e+00,  4.91006522e-01,\n",
              "         1.08879510e+00, -7.11831916e-01, -5.76219041e-01,\n",
              "         6.31203874e-01],\n",
              "       [ 2.51505192e+00,  2.09008962e+00, -9.49496727e-01,\n",
              "         7.62277139e-01, -1.47063728e+00, -1.08109763e+00,\n",
              "         9.00943361e-01],\n",
              "       [-1.04557333e+00, -5.13551308e-01,  2.95431405e-01,\n",
              "        -5.03831564e-01, -8.10114570e-02,  7.93749678e-02,\n",
              "         1.65516459e-01],\n",
              "       [ 1.61396700e+00,  5.76761213e-02, -3.05380117e-01,\n",
              "        -1.57519460e-02,  5.84127401e-01, -1.52312118e+00,\n",
              "        -1.97160580e+00],\n",
              "       [ 8.75815055e-02, -1.89823146e+00,  1.17936545e+00,\n",
              "        -1.91589131e-01,  1.02100648e+00,  5.31837489e-01,\n",
              "        -9.37703401e-01],\n",
              "       [ 7.38112835e-01, -4.88423901e-01,  1.58825827e+00,\n",
              "         6.08245608e-01, -8.01038991e-01, -1.18617357e+00,\n",
              "        -1.90309167e+00],\n",
              "       [ 1.61804061e+00,  1.89551561e+00, -8.10084077e-01,\n",
              "         1.07356745e+00, -1.97647180e+00, -3.72360094e-01,\n",
              "         1.17683672e+00],\n",
              "       [ 1.72206573e+00, -5.35998735e-01, -2.43601804e+00,\n",
              "        -7.25761222e-01,  1.93954352e+00,  2.04832879e-01,\n",
              "         1.13207934e+00],\n",
              "       [ 1.99448343e+00, -1.73256638e+00,  5.20586941e-01,\n",
              "         1.03314288e+00, -5.65422508e-01, -6.16117144e-01,\n",
              "         5.69970566e-01],\n",
              "       [ 1.58643068e+00, -1.84096968e+00,  2.84677398e-01,\n",
              "         2.00665850e+00,  3.60122876e-01,  6.43325613e-01,\n",
              "        -1.49149230e+00],\n",
              "       [-4.93540524e-02, -3.25844608e-01, -8.27126759e-01,\n",
              "         2.30936930e+00, -4.69975604e-01,  9.53850156e-01,\n",
              "        -2.16084551e-01],\n",
              "       [-1.47125875e-01, -3.00424582e-01, -8.73923676e-01,\n",
              "         1.93542418e+00, -8.47804067e-01,  6.08544068e-01,\n",
              "         4.22091988e-01],\n",
              "       [-2.24451742e-03,  3.60091416e-01, -1.80467659e+00,\n",
              "         1.18988919e+00,  2.73180821e-01,  1.85678857e-01,\n",
              "        -3.44948762e-01],\n",
              "       [-7.14792770e-01,  3.85879253e-01,  1.97132294e+00,\n",
              "        -7.81912664e-01, -5.75036479e-01,  1.59292202e+00,\n",
              "        -1.12744527e+00],\n",
              "       [ 3.00000441e-01, -2.95651112e-01, -1.75994891e+00,\n",
              "        -7.16659399e-02,  2.02330903e+00,  2.88211871e-01,\n",
              "        -9.46759144e-01],\n",
              "       [-2.04048460e+00, -2.41291575e-01,  9.66088192e-01,\n",
              "        -1.19861352e-02, -1.13786948e+00,  2.34417916e-01,\n",
              "         4.38424977e-01],\n",
              "       [-2.03089128e+00, -1.38396460e-02,  2.13949545e-01,\n",
              "        -6.60243105e-03, -3.37219746e-01, -2.16820475e-01,\n",
              "        -6.29144369e-01],\n",
              "       [-9.90980970e-01, -1.60161665e-01,  5.09446749e-01,\n",
              "         2.30242616e-01, -1.78422012e-01, -4.01694245e-01,\n",
              "        -9.35236203e-01],\n",
              "       [ 1.39340770e+00, -6.14385048e-01, -2.69814368e-02,\n",
              "         6.71334257e-01,  8.86570853e-01,  5.88464025e-01,\n",
              "        -2.34399290e+00],\n",
              "       [ 1.88732505e+00, -1.85993245e+00,  1.09055402e+00,\n",
              "         8.63331485e-01, -4.17414582e-01, -1.81305836e-03,\n",
              "         5.02388134e-01],\n",
              "       [-4.73381730e-01,  1.17781149e-01, -1.25359868e-01,\n",
              "        -1.32965434e-01, -5.30876593e-01, -3.42621220e-01,\n",
              "         8.32915745e-01],\n",
              "       [-1.18257154e+00, -2.41552953e-02,  7.58111104e-01,\n",
              "         1.75013672e-01, -1.30350749e+00, -6.27812451e-01,\n",
              "         5.40495058e-02],\n",
              "       [-1.47208915e+00, -5.07886279e-01,  1.16156230e+00,\n",
              "         1.01189311e+00, -1.10158467e+00,  1.26626535e+00,\n",
              "        -6.60597995e-01],\n",
              "       [ 1.00805535e+00,  3.09069933e-01, -1.82294387e+00,\n",
              "        -1.41850630e-01,  1.14758239e+00, -2.37440746e+00,\n",
              "        -1.47330563e+00],\n",
              "       [-1.61366458e+00, -5.17473040e-02, -9.57477173e-02,\n",
              "        -4.71833056e-01, -4.34865450e-01,  2.13731031e-01,\n",
              "         9.11433130e-01],\n",
              "       [-1.45984168e+00, -8.98003464e-01,  5.12046072e-01,\n",
              "         1.36262577e+00, -1.05105821e+00, -7.84998896e-02,\n",
              "         1.47210360e-01],\n",
              "       [ 3.34846069e+00, -1.98111270e-01,  1.02806062e+00,\n",
              "        -3.82192741e-01, -2.55586912e-02,  5.98110623e-01,\n",
              "        -3.41986609e-01],\n",
              "       [-9.43850676e-01, -2.03155801e-01,  4.00258350e-01,\n",
              "         9.29306137e-01, -8.26562566e-01, -5.70647212e-01,\n",
              "        -5.22861156e-01],\n",
              "       [ 9.17520679e-01, -6.69840980e-01,  1.10894883e+00,\n",
              "         3.23715167e-01, -1.06114552e+00,  1.65346183e+00,\n",
              "         4.74333603e-01],\n",
              "       [-1.31101628e+00,  2.47987330e-01, -1.40678916e-01,\n",
              "        -4.53144008e-01, -6.03801183e-01,  3.04710410e-01,\n",
              "         9.15663446e-01],\n",
              "       [ 2.35890696e+00,  2.16419691e-01,  8.00086703e-01,\n",
              "        -4.40384393e-01, -7.79316192e-01, -7.70301862e-01,\n",
              "         5.83655298e-01],\n",
              "       [-4.42299600e-01, -5.09918641e-01,  3.04488127e-01,\n",
              "         1.29719132e+00, -1.33613958e+00, -3.32681909e-01,\n",
              "         4.85976549e-01],\n",
              "       [ 1.41488271e-01, -1.11770600e+00, -7.65503600e-02,\n",
              "        -6.88556789e-02,  2.25818782e-01, -1.45748752e+00,\n",
              "        -2.46424519e-01],\n",
              "       [-1.72169571e+00,  8.26752817e-02, -1.49125547e+00,\n",
              "        -1.63914510e-01,  7.01032149e-01,  1.31964400e-01,\n",
              "        -6.85247641e-02],\n",
              "       [-1.45998365e+00, -8.57178024e-01, -1.38278814e-01,\n",
              "         1.72043932e+00, -8.56020362e-01, -1.94029454e-01,\n",
              "         3.69000473e-01],\n",
              "       [-9.49772141e-01, -2.88688895e+00,  8.18474438e-01,\n",
              "         1.22239251e+00,  1.59171796e-01, -5.10993996e-01,\n",
              "         1.20172053e-01],\n",
              "       [-5.32328622e-03,  6.27468205e-01,  2.73578040e-02,\n",
              "        -6.23655075e-01, -7.83301815e-01,  6.53658648e-01,\n",
              "         9.36766670e-01],\n",
              "       [ 1.13592303e+00, -9.16094018e-01,  6.56209743e-01,\n",
              "        -2.48368629e-01,  3.41775736e-01,  5.15291051e-01,\n",
              "        -7.27870667e-02],\n",
              "       [-1.11744737e+00, -4.26227142e-01,  7.32480042e-01,\n",
              "         1.99100064e-02,  3.90118301e-02,  3.08011026e-01,\n",
              "        -8.14504440e-01],\n",
              "       [ 6.42160845e-01,  2.16153746e-02, -3.11234004e-01,\n",
              "         7.83767243e-01, -2.56581161e-01,  1.58877023e+00,\n",
              "        -5.10137959e-01],\n",
              "       [-2.23078033e+00, -1.11370097e+00,  1.10974845e-01,\n",
              "        -5.31180670e-01,  2.45367317e-01,  1.63302957e-01,\n",
              "         4.27258429e-01],\n",
              "       [-1.52594082e+00, -1.23467342e+00,  2.10367190e-01,\n",
              "         3.81443721e-01, -3.05214728e-01, -1.62063446e-02,\n",
              "         8.45162279e-01],\n",
              "       [ 4.60074697e-02, -6.95958224e-01, -7.47574986e-01,\n",
              "        -8.52729316e-01,  1.61960911e+00, -4.94287627e-01,\n",
              "        -5.11843996e-01],\n",
              "       [-1.06528424e+00,  3.13937868e-01,  3.33509164e-02,\n",
              "        -2.76278941e-01, -5.57624068e-01,  2.17909146e-01,\n",
              "         7.93098342e-02],\n",
              "       [ 2.00628116e+00,  1.23349491e+00,  6.63090055e-01,\n",
              "         3.36667435e-01, -2.10108328e+00, -5.22595048e-01,\n",
              "         1.62288184e+00],\n",
              "       [ 2.78331290e+00, -6.43438276e-01,  7.20102496e-01,\n",
              "         3.04796265e-01, -5.09708084e-01,  9.28060396e-02,\n",
              "         3.99605308e-01],\n",
              "       [-1.62297052e+00, -1.00394960e-01, -8.51300542e-02,\n",
              "        -1.53723602e-01, -3.86768201e-01, -5.41023584e-01,\n",
              "         3.09015185e-02],\n",
              "       [ 6.34634843e-01, -5.75724244e-01, -1.86927278e-01,\n",
              "         2.04617978e-02,  9.90448825e-01, -1.48288070e+00,\n",
              "        -2.25519114e+00],\n",
              "       [-8.64241907e-01,  1.28149367e+00, -1.22045553e+00,\n",
              "        -1.11011165e+00,  2.78410062e-01, -2.90352983e-01,\n",
              "         1.59124582e-01],\n",
              "       [-3.69945269e-01, -1.69814264e+00, -1.77858792e+00,\n",
              "         9.34473996e-01,  1.43204574e+00, -7.15903754e-01,\n",
              "        -4.62359128e-01],\n",
              "       [-2.70522072e-01,  5.58921377e-01, -1.97590273e+00,\n",
              "        -1.30363087e+00,  9.55745297e-01,  5.38451590e-01,\n",
              "         1.08012277e+00],\n",
              "       [-6.18599430e-02, -1.30605750e+00, -1.92680257e+00,\n",
              "        -7.81283669e-01,  2.47339536e+00,  1.96352328e-01,\n",
              "        -7.40809855e-02],\n",
              "       [ 1.26439562e+00,  2.12898229e+00, -9.08999639e-01,\n",
              "         6.38657933e-01, -1.45575867e+00, -6.56494308e-01,\n",
              "         4.30709497e-01],\n",
              "       [-1.47301175e-01,  1.37098561e+00,  6.49089852e-01,\n",
              "        -1.39339783e-02, -1.02011461e+00,  5.72253592e-01,\n",
              "        -1.08632081e+00],\n",
              "       [ 2.71932130e+00, -2.92053348e-02, -1.87487309e+00,\n",
              "        -6.11912967e-01,  1.72694074e+00,  1.13361046e-01,\n",
              "         3.23205666e-01],\n",
              "       [ 1.07215651e+00,  1.61502034e-01,  1.46619823e+00,\n",
              "        -2.62120275e-01, -1.26042163e+00,  2.95636480e-01,\n",
              "        -1.82903643e-01],\n",
              "       [-5.03130757e-01,  6.35572618e-03, -1.98822931e-03,\n",
              "        -2.28855486e-01, -4.31327768e-01,  1.61384023e-03,\n",
              "         8.58053695e-01],\n",
              "       [-1.61103412e-01, -1.28326921e+00,  6.66598440e-02,\n",
              "        -8.15623216e-02,  3.01019552e-01, -9.39067045e-01,\n",
              "         8.35815274e-01],\n",
              "       [-6.39957935e-01,  5.83392859e-01,  3.55279282e-01,\n",
              "        -1.02147837e+00,  6.71611860e-01, -4.05947588e-01,\n",
              "        -1.57100115e+00],\n",
              "       [-7.77443866e-01, -2.54714164e-03,  1.49414207e-02,\n",
              "         6.28382553e-01, -1.80369540e+00,  3.52922651e-01,\n",
              "         2.18374722e+00],\n",
              "       [-1.39638907e+00, -2.18161087e-01,  8.74554370e-02,\n",
              "         1.47060050e-01, -2.35259786e-01, -4.22945692e-01,\n",
              "        -1.76454949e-01],\n",
              "       [ 1.53637223e+00,  1.37274780e+00, -7.84586297e-01,\n",
              "         9.55611484e-01, -1.20356476e+00,  1.62799713e+00,\n",
              "         1.19611443e+00],\n",
              "       [-2.12850766e+00, -2.01875424e-01,  1.02983913e+00,\n",
              "        -7.00696715e-01, -4.99114932e-01,  3.36384255e-01,\n",
              "         7.09629850e-02],\n",
              "       [ 2.27365376e+00, -8.42793644e-01,  5.90722781e-01,\n",
              "        -3.04653335e-01,  1.97850445e-01, -3.53156765e-01,\n",
              "         1.62987897e-01],\n",
              "       [-1.47002225e+00, -9.37567309e-01, -7.42399786e-02,\n",
              "        -9.08517488e-01,  5.35102912e-02,  5.01777096e-01,\n",
              "         1.60450310e+00],\n",
              "       [ 3.39656831e+00, -4.29695681e-01, -6.97693020e-01,\n",
              "         1.35588749e+00,  3.42780849e-01,  1.34341481e+00,\n",
              "        -3.66022851e-01],\n",
              "       [-1.49451806e+00, -9.39928332e-01, -1.01748465e-01,\n",
              "        -9.02523910e-01,  4.75350090e-02,  4.61639785e-01,\n",
              "         1.63128946e+00],\n",
              "       [-1.23133263e+00, -1.66066133e-01,  2.20551971e-01,\n",
              "         1.41064068e-01, -2.30599274e-01, -2.83487741e-01,\n",
              "        -3.54481170e-01],\n",
              "       [ 2.31983706e+00, -3.24675633e-01,  5.40247047e-01,\n",
              "        -5.07965368e-01, -5.34505283e-01, -1.25657945e+00,\n",
              "         8.16140387e-01],\n",
              "       [ 1.00100434e+00,  1.98393964e-01,  1.73798900e+00,\n",
              "         9.69205943e-01, -1.80466438e+00,  2.79132985e-01,\n",
              "        -7.01404539e-01],\n",
              "       [-1.70557866e+00,  8.38928516e-01,  2.41152971e-01,\n",
              "         1.70388885e-01, -3.01151595e-01, -1.21210882e-01,\n",
              "         4.10409839e-01],\n",
              "       [ 1.44927189e+00,  2.59892730e+00, -7.02028425e-02,\n",
              "        -1.66446248e+00, -1.10320930e+00, -8.08604431e-01,\n",
              "         1.03012242e+00],\n",
              "       [-6.38546976e-01,  1.02263980e+00, -1.38243236e+00,\n",
              "        -5.21673611e-01,  1.57438053e-01,  1.27787846e+00,\n",
              "         8.95176946e-01],\n",
              "       [ 1.00212374e+00, -6.97761563e-02, -8.49224562e-01,\n",
              "        -9.20425167e-01,  1.16196845e+00, -7.91634428e-01,\n",
              "         5.06843967e-02],\n",
              "       [-8.08128359e-02,  2.23353390e-01,  9.37152088e-01,\n",
              "         9.82509896e-01, -1.57324355e+00,  1.08856506e+00,\n",
              "        -3.92663393e-01],\n",
              "       [ 2.75238869e+00, -2.55522995e-01,  3.58733204e-01,\n",
              "        -2.36308415e-01, -1.70893311e-01, -3.78574114e-01,\n",
              "         3.09844687e-01],\n",
              "       [-8.36934954e-01, -2.01476148e+00,  8.08462944e-01,\n",
              "        -3.42834468e-01,  5.37454834e-01, -1.15226901e+00,\n",
              "         1.06581592e-01],\n",
              "       [ 2.22911282e+00, -4.38160700e-01, -1.87375419e+00,\n",
              "         1.25153764e+00, -1.59540506e-03, -1.85296529e-01,\n",
              "         8.68068886e-01],\n",
              "       [ 2.48747227e+00, -1.80208739e+00,  1.76451193e+00,\n",
              "         7.16488804e-01, -2.71020169e-01,  9.81551065e-01,\n",
              "        -1.53877525e-01],\n",
              "       [ 1.07420383e+00,  1.74267785e-01, -2.32244401e+00,\n",
              "         4.21314290e-01,  8.24687381e-01, -1.23308570e+00,\n",
              "         1.75908278e-02],\n",
              "       [-1.32019714e+00, -1.72309119e-01,  7.84996262e-01,\n",
              "        -3.83205027e-01, -5.68337824e-01, -3.70908425e-01,\n",
              "         3.48387687e-01],\n",
              "       [-5.60670343e-01,  2.60818331e-01,  4.51609454e-01,\n",
              "         3.21230183e-01, -4.22402491e-01, -4.94496586e-01,\n",
              "        -1.06300595e+00],\n",
              "       [ 2.50840522e+00, -8.20167172e-01,  8.54345775e-01,\n",
              "        -3.62091798e-01,  2.55113566e-01,  3.14924669e-02,\n",
              "        -9.37146563e-02],\n",
              "       [ 5.47277767e-01, -6.49536793e-01, -1.67769341e+00,\n",
              "         1.43824916e+00,  8.96246481e-01, -1.27172355e+00,\n",
              "        -1.76749559e+00]])"
            ]
          },
          "metadata": {},
          "execution_count": 140
        }
      ]
    },
    {
      "cell_type": "code",
      "execution_count": null,
      "metadata": {
        "id": "Aqms57qXJlab"
      },
      "outputs": [],
      "source": [
        "from sklearn.metrics import f1_score, mean_squared_error, mean_absolute_error, r2_score"
      ]
    },
    {
      "cell_type": "code",
      "execution_count": null,
      "metadata": {
        "id": "hznT86-kJlQU"
      },
      "outputs": [],
      "source": []
    },
    {
      "cell_type": "code",
      "execution_count": null,
      "metadata": {
        "id": "7wcTNso8JlGY",
        "colab": {
          "base_uri": "https://localhost:8080/"
        },
        "outputId": "c7de95f4-4043-471c-b18b-9c5289946912"
      },
      "outputs": [
        {
          "output_type": "execute_result",
          "data": {
            "text/plain": [
              "array([2132.73438161, 1916.90286206, 4308.08015063, 2132.73438161,\n",
              "       3544.15454545, 3112.49150634, 4523.91167018, 3544.15454545,\n",
              "       1916.90286206, 3328.3230259 , 3328.3230259 , 3112.49150634,\n",
              "       3544.15454545, 1916.90286206, 3328.3230259 , 3544.15454545,\n",
              "       1916.90286206, 3112.49150634, 3328.3230259 , 4308.08015063,\n",
              "       4092.24863107, 4092.24863107, 3328.3230259 , 3112.49150634,\n",
              "       1916.90286206, 4523.91167018, 4092.24863107, 1916.90286206,\n",
              "       2132.73438161, 2132.73438161, 4523.91167018, 1916.90286206,\n",
              "       1808.98710228, 1916.90286206, 3544.15454545, 3328.3230259 ,\n",
              "       3328.3230259 , 3544.15454545, 3112.49150634, 3544.15454545,\n",
              "       4308.08015063, 4308.08015063, 1916.90286206, 2024.81862184,\n",
              "       4308.08015063, 3328.3230259 , 4308.08015063, 1916.90286206,\n",
              "       4308.08015063, 4308.08015063, 2024.81862184, 4308.08015063,\n",
              "       2132.73438161, 4308.08015063, 3112.49150634, 3328.3230259 ,\n",
              "       1916.90286206, 3328.3230259 , 3544.15454545, 2132.73438161,\n",
              "       3328.3230259 , 2132.73438161, 4308.08015063, 3112.49150634,\n",
              "       4092.24863107, 3328.3230259 , 2132.73438161, 3328.3230259 ,\n",
              "       4523.91167018, 2024.81862184, 3328.3230259 , 1916.90286206,\n",
              "       4308.08015063, 1916.90286206, 3112.49150634, 1916.90286206,\n",
              "       4523.91167018, 3544.15454545, 2024.81862184, 3112.49150634,\n",
              "       4308.08015063, 4092.24863107, 4308.08015063, 3544.15454545,\n",
              "       4308.08015063, 4523.91167018, 3544.15454545, 2024.81862184,\n",
              "       4092.24863107, 2024.81862184, 4092.24863107, 4308.08015063,\n",
              "       2024.81862184, 3328.3230259 , 3544.15454545, 4523.91167018,\n",
              "       3544.15454545, 3112.49150634, 3328.3230259 , 2024.81862184,\n",
              "       2132.73438161, 1916.90286206, 2024.81862184, 2132.73438161,\n",
              "       3544.15454545, 4308.08015063, 2024.81862184, 1916.90286206])"
            ]
          },
          "metadata": {},
          "execution_count": 177
        }
      ],
      "source": [
        "from sklearn.linear_model import LinearRegression\n",
        "reg2= LinearRegression()\n",
        "\n",
        "reg2.fit(Xr_train, Yr_train)\n",
        "reg2.predict(Xr_test)"
      ]
    },
    {
      "cell_type": "code",
      "source": [
        "reg2.score(Xr_test, Yr_test)"
      ],
      "metadata": {
        "colab": {
          "base_uri": "https://localhost:8080/"
        },
        "id": "UIFQi9iSiIM3",
        "outputId": "191eb0a4-0973-49f0-d95e-84319addab5d"
      },
      "execution_count": null,
      "outputs": [
        {
          "output_type": "execute_result",
          "data": {
            "text/plain": [
              "0.11072734823793295"
            ]
          },
          "metadata": {},
          "execution_count": 178
        }
      ]
    },
    {
      "cell_type": "code",
      "execution_count": null,
      "metadata": {
        "id": "yTzB-y0zJk8g",
        "colab": {
          "base_uri": "https://localhost:8080/"
        },
        "outputId": "004ae490-d034-477a-8014-6061f6591a64"
      },
      "outputs": [
        {
          "output_type": "stream",
          "name": "stdout",
          "text": [
            "Mean Squared Error=  6319883.180508314\n",
            "Root Mean Squared Error=  2513.937783738554\n"
          ]
        }
      ],
      "source": [
        "reg_pred2= reg2.predict(Xr_test)\n",
        "print('Mean Squared Error= ', mean_squared_error(Yr_test, reg_pred2))\n",
        "print('Root Mean Squared Error= ', np.sqrt(mean_squared_error(Yr_test, reg_pred2)))\n"
      ]
    },
    {
      "cell_type": "code",
      "source": [
        "from sklearn.tree import DecisionTreeRegressor"
      ],
      "metadata": {
        "id": "Bvhauy66iZiN"
      },
      "execution_count": null,
      "outputs": []
    },
    {
      "cell_type": "code",
      "source": [
        "from sklearn.model_selection import GridSearchCV\n",
        "Reg_4= GridSearchCV(DecisionTreeRegressor(random_state=1), {\n",
        "     'max_depth': [1,2,3,4,5,6,7],\n",
        "     'criterion': ['absolute_error','friedman_mse','squared_error'],\n",
        "     'splitter': ['best','random']\n",
        "         }, \n",
        "    cv= 5, return_train_score= False)\n",
        "Reg_4.fit(Xr_train, Yr_train)"
      ],
      "metadata": {
        "colab": {
          "base_uri": "https://localhost:8080/"
        },
        "id": "1O8NH-XgiclX",
        "outputId": "630ebe0e-e119-4889-d61c-88018dfcf357"
      },
      "execution_count": null,
      "outputs": [
        {
          "output_type": "execute_result",
          "data": {
            "text/plain": [
              "GridSearchCV(cv=5, estimator=DecisionTreeRegressor(random_state=1),\n",
              "             param_grid={'criterion': ['absolute_error', 'friedman_mse',\n",
              "                                       'squared_error'],\n",
              "                         'max_depth': [1, 2, 3, 4, 5, 6, 7],\n",
              "                         'splitter': ['best', 'random']})"
            ]
          },
          "metadata": {},
          "execution_count": 179
        }
      ]
    },
    {
      "cell_type": "code",
      "source": [
        "Reg_4.score(Xr_test,Yr_test)"
      ],
      "metadata": {
        "colab": {
          "base_uri": "https://localhost:8080/"
        },
        "id": "dZugjA3jiv-w",
        "outputId": "fd8aba4c-5ed9-4065-8f11-b1620ace533b"
      },
      "execution_count": null,
      "outputs": [
        {
          "output_type": "execute_result",
          "data": {
            "text/plain": [
              "0.49265268757118286"
            ]
          },
          "metadata": {},
          "execution_count": 180
        }
      ]
    },
    {
      "cell_type": "code",
      "source": [
        "print('Mean Squared Error= ', mean_squared_error(Reg_4.predict(Xr_test), Yr_test))\n",
        "print('Root Mean Squared Error= ', np.sqrt(mean_squared_error(Reg_4.predict(Xr_test), Yr_test)))\n"
      ],
      "metadata": {
        "colab": {
          "base_uri": "https://localhost:8080/"
        },
        "id": "op1iuchzjCFj",
        "outputId": "ff5e2e9a-ca8e-44f2-8f30-9f34996b1d93"
      },
      "execution_count": null,
      "outputs": [
        {
          "output_type": "stream",
          "name": "stdout",
          "text": [
            "Mean Squared Error=  4124875.048373166\n",
            "Root Mean Squared Error=  2030.9788399619445\n"
          ]
        }
      ]
    },
    {
      "cell_type": "code",
      "source": [
        "from sklearn.svm import SVR"
      ],
      "metadata": {
        "id": "viMl0bR2oXaI"
      },
      "execution_count": null,
      "outputs": []
    },
    {
      "cell_type": "code",
      "source": [
        "from sklearn.model_selection import GridSearchCV\n",
        "\n",
        "Reg_3= GridSearchCV(SVR(), \n",
        "   {\n",
        "    'C':[1,10,20,30,40],\n",
        "    'kernel': ['linear', 'rbf','poly'],\n",
        "    'gamma':['auto','scale'],\n",
        "    'degree':[1,2,3,4]\n",
        "    },\n",
        "    cv= 5, return_train_score= False)\n",
        "Reg_3.fit(Xr_train,Yr_train)"
      ],
      "metadata": {
        "colab": {
          "base_uri": "https://localhost:8080/"
        },
        "id": "UEOolimMkBMX",
        "outputId": "1f13256d-adcd-47ba-9085-1e0d53e1b130"
      },
      "execution_count": null,
      "outputs": [
        {
          "output_type": "execute_result",
          "data": {
            "text/plain": [
              "GridSearchCV(cv=5, estimator=SVR(),\n",
              "             param_grid={'C': [1, 10, 20, 30, 40], 'degree': [1, 2, 3, 4],\n",
              "                         'gamma': ['auto', 'scale'],\n",
              "                         'kernel': ['linear', 'rbf', 'poly']})"
            ]
          },
          "metadata": {},
          "execution_count": 181
        }
      ]
    },
    {
      "cell_type": "code",
      "source": [
        "print(Reg_3.score(Xr_test,Yr_test))\n",
        "print('Mean Squared Error= ', mean_squared_error(Reg_3.predict(Xr_test), Yr_test))\n",
        "print('Root Mean Squared Error= ', np.sqrt(mean_squared_error(Reg_3.predict(Xr_test), Yr_test)))\n"
      ],
      "metadata": {
        "colab": {
          "base_uri": "https://localhost:8080/"
        },
        "id": "XaZmHCGskOhV",
        "outputId": "9f3092f8-7ed1-4732-ea84-4e95a7f66471"
      },
      "execution_count": null,
      "outputs": [
        {
          "output_type": "stream",
          "name": "stdout",
          "text": [
            "0.1649838436775395\n",
            "Mean Squared Error=  7051453.346843558\n",
            "Root Mean Squared Error=  2655.457276410893\n"
          ]
        }
      ]
    },
    {
      "cell_type": "code",
      "source": [
        "from sklearn.ensemble import ExtraTreesRegressor"
      ],
      "metadata": {
        "id": "iQk_91Wxkh9L"
      },
      "execution_count": null,
      "outputs": []
    },
    {
      "cell_type": "code",
      "source": [
        "from sklearn.model_selection import GridSearchCV\n",
        "Reg_5= GridSearchCV(ExtraTreesRegressor(min_samples_split=10), {\n",
        "  \n",
        "     'max_depth': [1,2,3,4],\n",
        "     'criterion': ['absolute_error','squared_error']\n",
        "         }, \n",
        "    cv= 5, return_train_score= False)\n",
        "Reg_5.fit(Xr_train, Yr_train)"
      ],
      "metadata": {
        "colab": {
          "base_uri": "https://localhost:8080/"
        },
        "id": "vyO2kWqAkua8",
        "outputId": "02522507-d456-4495-9944-0696a8d39a39"
      },
      "execution_count": null,
      "outputs": [
        {
          "output_type": "execute_result",
          "data": {
            "text/plain": [
              "GridSearchCV(cv=5, estimator=ExtraTreesRegressor(min_samples_split=10),\n",
              "             param_grid={'criterion': ['absolute_error', 'squared_error'],\n",
              "                         'max_depth': [1, 2, 3, 4]})"
            ]
          },
          "metadata": {},
          "execution_count": 183
        }
      ]
    },
    {
      "cell_type": "code",
      "source": [
        "print(Reg_5.score(Xr_test,Yr_test))\n",
        "print('Mean Squared Error= ', mean_squared_error(Reg_5.predict(Xr_test), Yr_test))\n",
        "print('Root Mean Squared Error= ', np.sqrt(mean_squared_error(Reg_5.predict(Xr_test), Yr_test)))\n"
      ],
      "metadata": {
        "colab": {
          "base_uri": "https://localhost:8080/"
        },
        "id": "VQEYEqEilRZV",
        "outputId": "7bf3a608-f5f3-4732-fcd6-11ac7864d663"
      },
      "execution_count": null,
      "outputs": [
        {
          "output_type": "stream",
          "name": "stdout",
          "text": [
            "0.46865423686766694\n",
            "Mean Squared Error=  4487050.737164105\n",
            "Root Mean Squared Error=  2118.2659741316966\n"
          ]
        }
      ]
    },
    {
      "cell_type": "code",
      "source": [
        "from sklearn.ensemble import GradientBoostingRegressor"
      ],
      "metadata": {
        "id": "uCWWpDfVlr1n"
      },
      "execution_count": null,
      "outputs": []
    },
    {
      "cell_type": "code",
      "source": [
        "from sklearn.model_selection import GridSearchCV\n",
        "Reg= GridSearchCV(GradientBoostingRegressor(learning_rate=0.1), {\n",
        "     'max_depth':[1,2,3,4,5],\n",
        "    'loss': ['squared_error', 'absolute_error'],\n",
        "    'random_state': [1,2,3,4,5]\n",
        "    }, return_train_score= False)\n",
        "\n",
        "Reg.fit(Xr_train, Yr_train)"
      ],
      "metadata": {
        "colab": {
          "base_uri": "https://localhost:8080/"
        },
        "id": "0MeZxZVWluxZ",
        "outputId": "ccfcb037-7ac6-4fbc-c416-8aa223550f8a"
      },
      "execution_count": null,
      "outputs": [
        {
          "output_type": "execute_result",
          "data": {
            "text/plain": [
              "GridSearchCV(estimator=GradientBoostingRegressor(),\n",
              "             param_grid={'loss': ['squared_error', 'absolute_error'],\n",
              "                         'max_depth': [1, 2, 3, 4, 5],\n",
              "                         'random_state': [1, 2, 3, 4, 5]})"
            ]
          },
          "metadata": {},
          "execution_count": 185
        }
      ]
    },
    {
      "cell_type": "code",
      "source": [
        "print(Reg.score(Xr_test,Yr_test))\n",
        "print('Mean Squared Error= ', mean_squared_error(Reg.predict(Xr_test), Yr_test))\n",
        "print('Root Mean Squared Error= ', np.sqrt(mean_squared_error(Reg.predict(Xr_test), Yr_test)))\n"
      ],
      "metadata": {
        "colab": {
          "base_uri": "https://localhost:8080/"
        },
        "id": "0wV4UKQ3mXcD",
        "outputId": "52eefefd-2196-4c4a-f5c9-db1630cd6c77"
      },
      "execution_count": null,
      "outputs": [
        {
          "output_type": "stream",
          "name": "stdout",
          "text": [
            "0.49253684803345876\n",
            "Mean Squared Error=  4285369.467692534\n",
            "Root Mean Squared Error=  2070.113394887472\n"
          ]
        }
      ]
    },
    {
      "cell_type": "code",
      "source": [
        "from sklearn.ensemble import RandomForestRegressor"
      ],
      "metadata": {
        "id": "2Ubc59jZmXLp"
      },
      "execution_count": null,
      "outputs": []
    },
    {
      "cell_type": "code",
      "source": [
        "Reg_1= GridSearchCV(RandomForestRegressor() ,\n",
        "{\n",
        "     'max_depth':[1,2,3,4,5],\n",
        "     'criterion': ['squared_error','absolute_error'],\n",
        "     'random_state': [1,2,3,4,5]\n",
        "    }, return_train_score= False)\n",
        "Reg_1.fit(Xr_train, Yr_train)"
      ],
      "metadata": {
        "colab": {
          "base_uri": "https://localhost:8080/"
        },
        "id": "S5gsgcYgmjMX",
        "outputId": "763f81ed-ea6c-4714-a1d7-3612cea85d65"
      },
      "execution_count": null,
      "outputs": [
        {
          "output_type": "execute_result",
          "data": {
            "text/plain": [
              "GridSearchCV(estimator=RandomForestRegressor(),\n",
              "             param_grid={'criterion': ['squared_error', 'absolute_error'],\n",
              "                         'max_depth': [1, 2, 3, 4, 5],\n",
              "                         'random_state': [1, 2, 3, 4, 5]})"
            ]
          },
          "metadata": {},
          "execution_count": 187
        }
      ]
    },
    {
      "cell_type": "code",
      "source": [
        "print(Reg_1.score(Xr_test,Yr_test))\n",
        "print('Mean Squared Error= ', mean_squared_error(Reg_1.predict(Xr_test), Yr_test))\n",
        "print('Root Mean Squared Error= ', np.sqrt(mean_squared_error(Reg_1.predict(Xr_test), Yr_test)))\n"
      ],
      "metadata": {
        "colab": {
          "base_uri": "https://localhost:8080/"
        },
        "id": "WBcJ5LtsnnyB",
        "outputId": "e1567042-fb9b-4217-9274-778de526f8fd"
      },
      "execution_count": null,
      "outputs": [
        {
          "output_type": "stream",
          "name": "stdout",
          "text": [
            "0.4889441432085211\n",
            "Mean Squared Error=  4315708.749477933\n",
            "Root Mean Squared Error=  2077.428398159112\n"
          ]
        }
      ]
    },
    {
      "cell_type": "code",
      "source": [
        "from sklearn.neighbors import KNeighborsRegressor"
      ],
      "metadata": {
        "id": "AJ5dZ2NXoknx"
      },
      "execution_count": null,
      "outputs": []
    },
    {
      "cell_type": "code",
      "source": [
        "from sklearn.model_selection import GridSearchCV\n",
        "Reg_2= GridSearchCV(KNeighborsRegressor(), {\n",
        "     'n_neighbors': [1,2,3,4,5],\n",
        "     'weights': ['uniform','distance'],\n",
        "     'algorithm': ['auto', 'ball_tree', 'kd_tree', 'brute'],\n",
        "     'leaf_size':[10,20,30,40]\n",
        "\n",
        "    }, return_train_score= False)\n",
        "Reg_2.fit(Xr_train, Yr_train)"
      ],
      "metadata": {
        "colab": {
          "base_uri": "https://localhost:8080/"
        },
        "id": "0EyehxBOorVv",
        "outputId": "d83b19a3-35bf-4ad9-f008-3ea5f06172f7"
      },
      "execution_count": null,
      "outputs": [
        {
          "output_type": "execute_result",
          "data": {
            "text/plain": [
              "GridSearchCV(estimator=KNeighborsRegressor(),\n",
              "             param_grid={'algorithm': ['auto', 'ball_tree', 'kd_tree', 'brute'],\n",
              "                         'leaf_size': [10, 20, 30, 40],\n",
              "                         'n_neighbors': [1, 2, 3, 4, 5],\n",
              "                         'weights': ['uniform', 'distance']})"
            ]
          },
          "metadata": {},
          "execution_count": 190
        }
      ]
    },
    {
      "cell_type": "code",
      "source": [
        "print(Reg_2.score(Xr_test,Yr_test))\n",
        "print('Mean Squared Error= ', mean_squared_error(Reg_2.predict(Xr_test), Yr_test))\n",
        "print('Root Mean Squared Error= ', np.sqrt(mean_squared_error(Reg_2.predict(Xr_test), Yr_test)))\n"
      ],
      "metadata": {
        "colab": {
          "base_uri": "https://localhost:8080/"
        },
        "id": "_7S4HYQko30N",
        "outputId": "e1e3b5c1-6a6e-4a54-f81c-2a0cf08c4375"
      },
      "execution_count": null,
      "outputs": [
        {
          "output_type": "stream",
          "name": "stdout",
          "text": [
            "0.3467445490047364\n",
            "Mean Squared Error=  5516540.37037037\n",
            "Root Mean Squared Error=  2348.7316514174986\n"
          ]
        }
      ]
    },
    {
      "cell_type": "code",
      "source": [],
      "metadata": {
        "id": "8fpHx-Gjo8-j"
      },
      "execution_count": null,
      "outputs": []
    }
  ],
  "metadata": {
    "colab": {
      "provenance": [],
      "authorship_tag": "ABX9TyORYTmZnST6blozhfE7Px5s",
      "include_colab_link": true
    },
    "kernelspec": {
      "display_name": "Python 3",
      "name": "python3"
    },
    "language_info": {
      "name": "python"
    }
  },
  "nbformat": 4,
  "nbformat_minor": 0
}